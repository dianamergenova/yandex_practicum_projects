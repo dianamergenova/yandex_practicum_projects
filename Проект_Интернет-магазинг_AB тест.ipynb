{
 "cells": [
  {
   "cell_type": "markdown",
   "id": "f33815ee",
   "metadata": {},
   "source": [
    "# Интернет-магазин. A/B-тест. "
   ]
  },
  {
   "cell_type": "markdown",
   "id": "109ffea2",
   "metadata": {},
   "source": [
    "В данном проекте будем работать с данными интернет-магазина, нам предстоит выбрать наиболее приоритетные гипотезы и проанализировать результаты A/B-теста. В наличие три таблицы: таблица с гипотезами, данные о покупках и данные о посещениях интернет-магазина. Сначала познакомимся с данными, преобразуем данные, если потребуется, далее применим фреймворки ICE и RICE для приоритизации гипотез, после чего проанализируем результаты А/В-теста с помощью статистических методов. В итоге сделаем общий вывод о проведенном анализе, решим, был ли А/В тест успешен. "
   ]
  },
  {
   "cell_type": "markdown",
   "id": "08480d85",
   "metadata": {},
   "source": [
    "## Знакомство с данными. "
   ]
  },
  {
   "cell_type": "code",
   "execution_count": 1,
   "id": "55a3a2ce",
   "metadata": {},
   "outputs": [],
   "source": [
    "import pandas as pd\n",
    "import matplotlib.pyplot as plt \n",
    "from pandas.plotting import register_matplotlib_converters\n",
    "import math as mth \n",
    "import scipy.stats as stats\n",
    "import numpy as np \n",
    "import datetime as dt \n",
    "import warnings \n",
    "warnings.simplefilter('ignore')"
   ]
  },
  {
   "cell_type": "code",
   "execution_count": 2,
   "id": "1dee7644",
   "metadata": {},
   "outputs": [],
   "source": [
    "try: \n",
    "    hypothesis= pd.read_csv('/datasets/hypothesis.csv')\n",
    "    orders = pd.read_csv('/datasets/orders.csv') \n",
    "    visitors = pd.read_csv('/datasets/visitors.csv')\n",
    "except: \n",
    "    hypothesis = pd.read_csv('https://code.s3.yandex.net/datasets/hypothesis.csv')\n",
    "    orders = pd.read_csv('https://code.s3.yandex.net/datasets/orders.csv')\n",
    "    visitors = pd.read_csv('https://code.s3.yandex.net/datasets/visitors.csv')"
   ]
  },
  {
   "cell_type": "code",
   "execution_count": 3,
   "id": "0669edca",
   "metadata": {},
   "outputs": [],
   "source": [
    "# создадим функцию для первичного анализа датафреймов\n",
    "def explore(dataset):\n",
    "    dataset.columns = [x.lower() for x in dataset.columns]\n",
    "    print(\"Describe: \\n\", dataset.describe())\n",
    "    print('*'*50)\n",
    "    print(\"Info: \\n\", dataset.info())\n",
    "    print('*'*50)\n",
    "    print(\"Head: \\n\", dataset.head())\n",
    "    print('*'*50)\n",
    "    print(f'Количество дубликатов: {dataset.duplicated().sum()}')"
   ]
  },
  {
   "cell_type": "markdown",
   "id": "24c19891",
   "metadata": {},
   "source": [
    "### Hypothesis"
   ]
  },
  {
   "cell_type": "code",
   "execution_count": 4,
   "id": "9aa4c248",
   "metadata": {},
   "outputs": [
    {
     "name": "stdout",
     "output_type": "stream",
     "text": [
      "Describe: \n",
      "            reach     impact  confidence    efforts\n",
      "count   9.000000   9.000000    9.000000   9.000000\n",
      "mean    4.777778   4.777778    5.555556   4.888889\n",
      "std     3.153481   3.192874    3.045944   2.803767\n",
      "min     1.000000   1.000000    1.000000   1.000000\n",
      "25%     3.000000   3.000000    3.000000   3.000000\n",
      "50%     3.000000   3.000000    7.000000   5.000000\n",
      "75%     8.000000   7.000000    8.000000   6.000000\n",
      "max    10.000000  10.000000    9.000000  10.000000\n",
      "**************************************************\n",
      "<class 'pandas.core.frame.DataFrame'>\n",
      "RangeIndex: 9 entries, 0 to 8\n",
      "Data columns (total 5 columns):\n",
      " #   Column      Non-Null Count  Dtype \n",
      "---  ------      --------------  ----- \n",
      " 0   hypothesis  9 non-null      object\n",
      " 1   reach       9 non-null      int64 \n",
      " 2   impact      9 non-null      int64 \n",
      " 3   confidence  9 non-null      int64 \n",
      " 4   efforts     9 non-null      int64 \n",
      "dtypes: int64(4), object(1)\n",
      "memory usage: 488.0+ bytes\n",
      "Info: \n",
      " None\n",
      "**************************************************\n",
      "Head: \n",
      "                                           hypothesis  reach  impact  \\\n",
      "0  Добавить два новых канала привлечения трафика,...      3      10   \n",
      "1  Запустить собственную службу доставки, что сок...      2       5   \n",
      "2  Добавить блоки рекомендаций товаров на сайт ин...      8       3   \n",
      "3  Изменить структура категорий, что увеличит кон...      8       3   \n",
      "4  Изменить цвет фона главной страницы, чтобы уве...      3       1   \n",
      "\n",
      "   confidence  efforts  \n",
      "0           8        6  \n",
      "1           4       10  \n",
      "2           7        3  \n",
      "3           3        8  \n",
      "4           1        1  \n",
      "**************************************************\n",
      "Количество дубликатов: 0\n"
     ]
    }
   ],
   "source": [
    "explore(hypothesis)"
   ]
  },
  {
   "cell_type": "markdown",
   "id": "394f2628",
   "metadata": {},
   "source": [
    "В таблице 9 гипотез, нет пропусков и дупликатов. Названия столбцов привели к нижнему регистру. "
   ]
  },
  {
   "cell_type": "markdown",
   "id": "7d0c953d",
   "metadata": {},
   "source": [
    "### Orders"
   ]
  },
  {
   "cell_type": "code",
   "execution_count": 5,
   "id": "559308b2",
   "metadata": {},
   "outputs": [
    {
     "name": "stdout",
     "output_type": "stream",
     "text": [
      "Describe: \n",
      "        transactionid     visitorid       revenue\n",
      "count   1.197000e+03  1.197000e+03  1.197000e+03\n",
      "mean    2.155621e+09  2.165960e+09  8.348006e+03\n",
      "std     1.229085e+09  1.236014e+09  3.919113e+04\n",
      "min     1.062393e+06  5.114589e+06  5.000000e+01\n",
      "25%     1.166776e+09  1.111826e+09  1.220000e+03\n",
      "50%     2.145194e+09  2.217985e+09  2.978000e+03\n",
      "75%     3.237740e+09  3.177606e+09  8.290000e+03\n",
      "max     4.293856e+09  4.283872e+09  1.294500e+06\n",
      "**************************************************\n",
      "<class 'pandas.core.frame.DataFrame'>\n",
      "RangeIndex: 1197 entries, 0 to 1196\n",
      "Data columns (total 5 columns):\n",
      " #   Column         Non-Null Count  Dtype \n",
      "---  ------         --------------  ----- \n",
      " 0   transactionid  1197 non-null   int64 \n",
      " 1   visitorid      1197 non-null   int64 \n",
      " 2   date           1197 non-null   object\n",
      " 3   revenue        1197 non-null   int64 \n",
      " 4   group          1197 non-null   object\n",
      "dtypes: int64(3), object(2)\n",
      "memory usage: 46.9+ KB\n",
      "Info: \n",
      " None\n",
      "**************************************************\n",
      "Head: \n",
      "    transactionid   visitorid        date  revenue group\n",
      "0     3667963787  3312258926  2019-08-15     1650     B\n",
      "1     2804400009  3642806036  2019-08-15      730     B\n",
      "2     2961555356  4069496402  2019-08-15      400     A\n",
      "3     3797467345  1196621759  2019-08-15     9759     B\n",
      "4     2282983706  2322279887  2019-08-15     2308     B\n",
      "**************************************************\n",
      "Количество дубликатов: 0\n"
     ]
    }
   ],
   "source": [
    "explore(orders)"
   ]
  },
  {
   "cell_type": "code",
   "execution_count": 6,
   "id": "4f0cfd4f",
   "metadata": {},
   "outputs": [],
   "source": [
    "orders['date'] = orders['date'].map(lambda x: dt.datetime.strptime(x, '%Y-%m-%d'))"
   ]
  },
  {
   "cell_type": "markdown",
   "id": "c2a342b9",
   "metadata": {},
   "source": [
    "В таблице orders 1197 заказов, нет пропусков и дупликатов. Тип данных в столбце date изменили на тип datetime. Названия столбцов привели к нижнему регистру. "
   ]
  },
  {
   "cell_type": "markdown",
   "id": "aaaf5f1b",
   "metadata": {},
   "source": [
    "### Visitors"
   ]
  },
  {
   "cell_type": "code",
   "execution_count": 7,
   "id": "599bfb37",
   "metadata": {},
   "outputs": [
    {
     "name": "stdout",
     "output_type": "stream",
     "text": [
      "Describe: \n",
      "          visitors\n",
      "count   62.000000\n",
      "mean   607.290323\n",
      "std    114.400560\n",
      "min    361.000000\n",
      "25%    534.000000\n",
      "50%    624.500000\n",
      "75%    710.500000\n",
      "max    770.000000\n",
      "**************************************************\n",
      "<class 'pandas.core.frame.DataFrame'>\n",
      "RangeIndex: 62 entries, 0 to 61\n",
      "Data columns (total 3 columns):\n",
      " #   Column    Non-Null Count  Dtype \n",
      "---  ------    --------------  ----- \n",
      " 0   date      62 non-null     object\n",
      " 1   group     62 non-null     object\n",
      " 2   visitors  62 non-null     int64 \n",
      "dtypes: int64(1), object(2)\n",
      "memory usage: 1.6+ KB\n",
      "Info: \n",
      " None\n",
      "**************************************************\n",
      "Head: \n",
      "          date group  visitors\n",
      "0  2019-08-01     A       719\n",
      "1  2019-08-02     A       619\n",
      "2  2019-08-03     A       507\n",
      "3  2019-08-04     A       717\n",
      "4  2019-08-05     A       756\n",
      "**************************************************\n",
      "Количество дубликатов: 0\n"
     ]
    }
   ],
   "source": [
    "explore(visitors)"
   ]
  },
  {
   "cell_type": "code",
   "execution_count": 8,
   "id": "334c88e2",
   "metadata": {},
   "outputs": [],
   "source": [
    "visitors['date'] = visitors['date'].map(lambda x: dt.datetime.strptime(x, '%Y-%m-%d'))"
   ]
  },
  {
   "cell_type": "markdown",
   "id": "1863f653",
   "metadata": {},
   "source": [
    "В таблице visitors 62 даты, нет пропусков и дупликатов. Тип данных в столбце date изменили на тип datetime. Названия столбцов привели к нижнему регистру. Среднее значение по количеству пользователей в день - 607, максимум - 770."
   ]
  },
  {
   "cell_type": "code",
   "execution_count": 9,
   "id": "8f9aa4b7",
   "metadata": {},
   "outputs": [
    {
     "data": {
      "text/plain": [
       "503"
      ]
     },
     "execution_count": 9,
     "metadata": {},
     "output_type": "execute_result"
    }
   ],
   "source": [
    "# посчитаем кол-во уникальных пользователей в группе А\n",
    "\n",
    "orders_a = orders[orders['group'] == 'A']\n",
    "orders_a['visitorid'].nunique()"
   ]
  },
  {
   "cell_type": "code",
   "execution_count": 10,
   "id": "a833d46f",
   "metadata": {},
   "outputs": [
    {
     "data": {
      "text/plain": [
       "586"
      ]
     },
     "execution_count": 10,
     "metadata": {},
     "output_type": "execute_result"
    }
   ],
   "source": [
    "# посчитаем кол-во уникальных пользователей в группе В\n",
    "orders_b = orders[orders['group'] == 'B']\n",
    "orders_b['visitorid'].nunique()"
   ]
  },
  {
   "cell_type": "code",
   "execution_count": 11,
   "id": "209ad792",
   "metadata": {},
   "outputs": [
    {
     "data": {
      "text/plain": [
       "False    548\n",
       "True      92\n",
       "Name: visitorid, dtype: int64"
      ]
     },
     "execution_count": 11,
     "metadata": {},
     "output_type": "execute_result"
    }
   ],
   "source": [
    "# определим, есть ли пользователи, которые попали в обе группы \n",
    "\n",
    "orders_b['visitorid'].isin(orders_a['visitorid']).value_counts()"
   ]
  },
  {
   "cell_type": "code",
   "execution_count": 12,
   "id": "64159202",
   "metadata": {},
   "outputs": [],
   "source": [
    "merged_orders = orders_a.merge(orders_b, how='inner', on='visitorid')\n",
    "merged_visitors = merged_orders['visitorid'].unique()"
   ]
  },
  {
   "cell_type": "markdown",
   "id": "1bb216a1",
   "metadata": {},
   "source": [
    "Есть 92 пользователя, которые попали в группы А и В. Так как мы не можем выявить данных пользователей в таблицу visitors, удалять этих пользователей из анализа не будем. "
   ]
  },
  {
   "cell_type": "markdown",
   "id": "da90d958",
   "metadata": {},
   "source": [
    "## Приоритизация гипотез "
   ]
  },
  {
   "cell_type": "markdown",
   "id": "46398961",
   "metadata": {},
   "source": [
    "Будем использовать фреймворк RICE для приоритизации гипотез, все гипотезы невыгодно и бесмысленно проверять, поэтому на основе 4 компонент будем делать расчет:\n",
    "\n",
    "Reach — скольких пользователей затронет изменение;\n",
    "\n",
    "Impact — насколько сильно изменение повлияет на пользователей, их опыт и удовлетворение от продукта;\n",
    "\n",
    "Confidence — насколько мы уверены, что это изменение повлияет на пользователей именно так; \n",
    "\n",
    "Efforts — сколько стоит протестировать эту гипотезу. \n"
   ]
  },
  {
   "cell_type": "markdown",
   "id": "855858d6",
   "metadata": {},
   "source": [
    "### ICE "
   ]
  },
  {
   "cell_type": "code",
   "execution_count": 13,
   "id": "630ed21f",
   "metadata": {},
   "outputs": [],
   "source": [
    "pd.options.display.max_colwidth = 200\n",
    "\n",
    "hypothesis['ICE'] = hypothesis['impact'] * hypothesis['confidence'] / hypothesis['efforts']"
   ]
  },
  {
   "cell_type": "code",
   "execution_count": 14,
   "id": "4d92929c",
   "metadata": {},
   "outputs": [
    {
     "data": {
      "text/html": [
       "<div>\n",
       "<style scoped>\n",
       "    .dataframe tbody tr th:only-of-type {\n",
       "        vertical-align: middle;\n",
       "    }\n",
       "\n",
       "    .dataframe tbody tr th {\n",
       "        vertical-align: top;\n",
       "    }\n",
       "\n",
       "    .dataframe thead th {\n",
       "        text-align: right;\n",
       "    }\n",
       "</style>\n",
       "<table border=\"1\" class=\"dataframe\">\n",
       "  <thead>\n",
       "    <tr style=\"text-align: right;\">\n",
       "      <th></th>\n",
       "      <th>hypothesis</th>\n",
       "      <th>ICE</th>\n",
       "    </tr>\n",
       "  </thead>\n",
       "  <tbody>\n",
       "    <tr>\n",
       "      <th>8</th>\n",
       "      <td>Запустить акцию, дающую скидку на товар в день рождения</td>\n",
       "      <td>16.200000</td>\n",
       "    </tr>\n",
       "    <tr>\n",
       "      <th>0</th>\n",
       "      <td>Добавить два новых канала привлечения трафика, что позволит привлекать на 30% больше пользователей</td>\n",
       "      <td>13.333333</td>\n",
       "    </tr>\n",
       "    <tr>\n",
       "      <th>7</th>\n",
       "      <td>Добавить форму подписки на все основные страницы, чтобы собрать базу клиентов для email-рассылок</td>\n",
       "      <td>11.200000</td>\n",
       "    </tr>\n",
       "    <tr>\n",
       "      <th>6</th>\n",
       "      <td>Показать на главной странице баннеры с актуальными акциями и распродажами, чтобы увеличить конверсию</td>\n",
       "      <td>8.000000</td>\n",
       "    </tr>\n",
       "    <tr>\n",
       "      <th>2</th>\n",
       "      <td>Добавить блоки рекомендаций товаров на сайт интернет магазина, чтобы повысить конверсию и средний чек заказа</td>\n",
       "      <td>7.000000</td>\n",
       "    </tr>\n",
       "    <tr>\n",
       "      <th>1</th>\n",
       "      <td>Запустить собственную службу доставки, что сократит срок доставки заказов</td>\n",
       "      <td>2.000000</td>\n",
       "    </tr>\n",
       "    <tr>\n",
       "      <th>5</th>\n",
       "      <td>Добавить страницу отзывов клиентов о магазине, что позволит увеличить количество заказов</td>\n",
       "      <td>1.333333</td>\n",
       "    </tr>\n",
       "    <tr>\n",
       "      <th>3</th>\n",
       "      <td>Изменить структура категорий, что увеличит конверсию, т.к. пользователи быстрее найдут нужный товар</td>\n",
       "      <td>1.125000</td>\n",
       "    </tr>\n",
       "    <tr>\n",
       "      <th>4</th>\n",
       "      <td>Изменить цвет фона главной страницы, чтобы увеличить вовлеченность пользователей</td>\n",
       "      <td>1.000000</td>\n",
       "    </tr>\n",
       "  </tbody>\n",
       "</table>\n",
       "</div>"
      ],
      "text/plain": [
       "                                                                                                     hypothesis  \\\n",
       "8                                                       Запустить акцию, дающую скидку на товар в день рождения   \n",
       "0            Добавить два новых канала привлечения трафика, что позволит привлекать на 30% больше пользователей   \n",
       "7              Добавить форму подписки на все основные страницы, чтобы собрать базу клиентов для email-рассылок   \n",
       "6          Показать на главной странице баннеры с актуальными акциями и распродажами, чтобы увеличить конверсию   \n",
       "2  Добавить блоки рекомендаций товаров на сайт интернет магазина, чтобы повысить конверсию и средний чек заказа   \n",
       "1                                     Запустить собственную службу доставки, что сократит срок доставки заказов   \n",
       "5                      Добавить страницу отзывов клиентов о магазине, что позволит увеличить количество заказов   \n",
       "3           Изменить структура категорий, что увеличит конверсию, т.к. пользователи быстрее найдут нужный товар   \n",
       "4                              Изменить цвет фона главной страницы, чтобы увеличить вовлеченность пользователей   \n",
       "\n",
       "         ICE  \n",
       "8  16.200000  \n",
       "0  13.333333  \n",
       "7  11.200000  \n",
       "6   8.000000  \n",
       "2   7.000000  \n",
       "1   2.000000  \n",
       "5   1.333333  \n",
       "3   1.125000  \n",
       "4   1.000000  "
      ]
     },
     "execution_count": 14,
     "metadata": {},
     "output_type": "execute_result"
    }
   ],
   "source": [
    "hypothesis[['hypothesis', 'ICE']].sort_values(by='ICE', ascending=False)"
   ]
  },
  {
   "cell_type": "markdown",
   "id": "0c1b96c6",
   "metadata": {},
   "source": [
    "В ТОП-5 попали: 8, 0, 7, 6, 2 гипотезы. "
   ]
  },
  {
   "cell_type": "markdown",
   "id": "eeca941d",
   "metadata": {},
   "source": [
    "### RICE "
   ]
  },
  {
   "cell_type": "code",
   "execution_count": 15,
   "id": "ba08261b",
   "metadata": {},
   "outputs": [],
   "source": [
    "hypothesis['RICE'] = hypothesis['reach'] * hypothesis['impact'] * hypothesis['confidence'] / hypothesis['efforts']"
   ]
  },
  {
   "cell_type": "code",
   "execution_count": 16,
   "id": "9d34c727",
   "metadata": {
    "scrolled": true
   },
   "outputs": [
    {
     "data": {
      "text/html": [
       "<style type=\"text/css\">\n",
       "#T_12061_row0_col1 {\n",
       "  background-color: #4da64d;\n",
       "  color: #f1f1f1;\n",
       "}\n",
       "#T_12061_row0_col2, #T_12061_row4_col1 {\n",
       "  background-color: #008000;\n",
       "  color: #f1f1f1;\n",
       "}\n",
       "#T_12061_row1_col1 {\n",
       "  background-color: #8ec58e;\n",
       "  color: #000000;\n",
       "}\n",
       "#T_12061_row1_col2 {\n",
       "  background-color: #78bb78;\n",
       "  color: #000000;\n",
       "}\n",
       "#T_12061_row2_col1 {\n",
       "  background-color: #2c962c;\n",
       "  color: #f1f1f1;\n",
       "}\n",
       "#T_12061_row2_col2, #T_12061_row3_col2 {\n",
       "  background-color: #9bcc9b;\n",
       "  color: #000000;\n",
       "}\n",
       "#T_12061_row3_col1 {\n",
       "  background-color: #7fbe7f;\n",
       "  color: #000000;\n",
       "}\n",
       "#T_12061_row4_col2 {\n",
       "  background-color: #cee5ce;\n",
       "  color: #000000;\n",
       "}\n",
       "#T_12061_row5_col1, #T_12061_row6_col2, #T_12061_row7_col2 {\n",
       "  background-color: #e9f2e9;\n",
       "  color: #000000;\n",
       "}\n",
       "#T_12061_row5_col2 {\n",
       "  background-color: #deedde;\n",
       "  color: #000000;\n",
       "}\n",
       "#T_12061_row6_col1 {\n",
       "  background-color: #dcecdc;\n",
       "  color: #000000;\n",
       "}\n",
       "#T_12061_row7_col1 {\n",
       "  background-color: #e6f1e6;\n",
       "  color: #000000;\n",
       "}\n",
       "#T_12061_row8_col1, #T_12061_row8_col2 {\n",
       "  background-color: #ebf3eb;\n",
       "  color: #000000;\n",
       "}\n",
       "</style>\n",
       "<table id=\"T_12061\">\n",
       "  <thead>\n",
       "    <tr>\n",
       "      <th class=\"blank level0\" >&nbsp;</th>\n",
       "      <th id=\"T_12061_level0_col0\" class=\"col_heading level0 col0\" >hypothesis</th>\n",
       "      <th id=\"T_12061_level0_col1\" class=\"col_heading level0 col1\" >ICE</th>\n",
       "      <th id=\"T_12061_level0_col2\" class=\"col_heading level0 col2\" >RICE</th>\n",
       "    </tr>\n",
       "  </thead>\n",
       "  <tbody>\n",
       "    <tr>\n",
       "      <th id=\"T_12061_level0_row0\" class=\"row_heading level0 row0\" >7</th>\n",
       "      <td id=\"T_12061_row0_col0\" class=\"data row0 col0\" >Добавить форму подписки на все основные страницы, чтобы собрать базу клиентов для email-рассылок</td>\n",
       "      <td id=\"T_12061_row0_col1\" class=\"data row0 col1\" >11.200000</td>\n",
       "      <td id=\"T_12061_row0_col2\" class=\"data row0 col2\" >112.000000</td>\n",
       "    </tr>\n",
       "    <tr>\n",
       "      <th id=\"T_12061_level0_row1\" class=\"row_heading level0 row1\" >2</th>\n",
       "      <td id=\"T_12061_row1_col0\" class=\"data row1 col0\" >Добавить блоки рекомендаций товаров на сайт интернет магазина, чтобы повысить конверсию и средний чек заказа</td>\n",
       "      <td id=\"T_12061_row1_col1\" class=\"data row1 col1\" >7.000000</td>\n",
       "      <td id=\"T_12061_row1_col2\" class=\"data row1 col2\" >56.000000</td>\n",
       "    </tr>\n",
       "    <tr>\n",
       "      <th id=\"T_12061_level0_row2\" class=\"row_heading level0 row2\" >0</th>\n",
       "      <td id=\"T_12061_row2_col0\" class=\"data row2 col0\" >Добавить два новых канала привлечения трафика, что позволит привлекать на 30% больше пользователей</td>\n",
       "      <td id=\"T_12061_row2_col1\" class=\"data row2 col1\" >13.333333</td>\n",
       "      <td id=\"T_12061_row2_col2\" class=\"data row2 col2\" >40.000000</td>\n",
       "    </tr>\n",
       "    <tr>\n",
       "      <th id=\"T_12061_level0_row3\" class=\"row_heading level0 row3\" >6</th>\n",
       "      <td id=\"T_12061_row3_col0\" class=\"data row3 col0\" >Показать на главной странице баннеры с актуальными акциями и распродажами, чтобы увеличить конверсию</td>\n",
       "      <td id=\"T_12061_row3_col1\" class=\"data row3 col1\" >8.000000</td>\n",
       "      <td id=\"T_12061_row3_col2\" class=\"data row3 col2\" >40.000000</td>\n",
       "    </tr>\n",
       "    <tr>\n",
       "      <th id=\"T_12061_level0_row4\" class=\"row_heading level0 row4\" >8</th>\n",
       "      <td id=\"T_12061_row4_col0\" class=\"data row4 col0\" >Запустить акцию, дающую скидку на товар в день рождения</td>\n",
       "      <td id=\"T_12061_row4_col1\" class=\"data row4 col1\" >16.200000</td>\n",
       "      <td id=\"T_12061_row4_col2\" class=\"data row4 col2\" >16.200000</td>\n",
       "    </tr>\n",
       "    <tr>\n",
       "      <th id=\"T_12061_level0_row5\" class=\"row_heading level0 row5\" >3</th>\n",
       "      <td id=\"T_12061_row5_col0\" class=\"data row5 col0\" >Изменить структура категорий, что увеличит конверсию, т.к. пользователи быстрее найдут нужный товар</td>\n",
       "      <td id=\"T_12061_row5_col1\" class=\"data row5 col1\" >1.125000</td>\n",
       "      <td id=\"T_12061_row5_col2\" class=\"data row5 col2\" >9.000000</td>\n",
       "    </tr>\n",
       "    <tr>\n",
       "      <th id=\"T_12061_level0_row6\" class=\"row_heading level0 row6\" >1</th>\n",
       "      <td id=\"T_12061_row6_col0\" class=\"data row6 col0\" >Запустить собственную службу доставки, что сократит срок доставки заказов</td>\n",
       "      <td id=\"T_12061_row6_col1\" class=\"data row6 col1\" >2.000000</td>\n",
       "      <td id=\"T_12061_row6_col2\" class=\"data row6 col2\" >4.000000</td>\n",
       "    </tr>\n",
       "    <tr>\n",
       "      <th id=\"T_12061_level0_row7\" class=\"row_heading level0 row7\" >5</th>\n",
       "      <td id=\"T_12061_row7_col0\" class=\"data row7 col0\" >Добавить страницу отзывов клиентов о магазине, что позволит увеличить количество заказов</td>\n",
       "      <td id=\"T_12061_row7_col1\" class=\"data row7 col1\" >1.333333</td>\n",
       "      <td id=\"T_12061_row7_col2\" class=\"data row7 col2\" >4.000000</td>\n",
       "    </tr>\n",
       "    <tr>\n",
       "      <th id=\"T_12061_level0_row8\" class=\"row_heading level0 row8\" >4</th>\n",
       "      <td id=\"T_12061_row8_col0\" class=\"data row8 col0\" >Изменить цвет фона главной страницы, чтобы увеличить вовлеченность пользователей</td>\n",
       "      <td id=\"T_12061_row8_col1\" class=\"data row8 col1\" >1.000000</td>\n",
       "      <td id=\"T_12061_row8_col2\" class=\"data row8 col2\" >3.000000</td>\n",
       "    </tr>\n",
       "  </tbody>\n",
       "</table>\n"
      ],
      "text/plain": [
       "<pandas.io.formats.style.Styler at 0x2acd5f24ee0>"
      ]
     },
     "execution_count": 16,
     "metadata": {},
     "output_type": "execute_result"
    }
   ],
   "source": [
    "import seaborn as sns\n",
    "cm = sns.light_palette(\"green\", as_cmap=True)\n",
    "hypothesis[['hypothesis', 'ICE', 'RICE']].sort_values(by='RICE', ascending=False).style.background_gradient(cmap=cm)"
   ]
  },
  {
   "cell_type": "markdown",
   "id": "eda09d6b",
   "metadata": {},
   "source": [
    "В ТОП-5 те же гипотезы, только 8 гипотеза теперь на 5 месте, а не на 1 месте, 2 гипотеза вышла на 2 место. Изменения произошли из-за критерия Reach: возможно охват 8 гипотезы значительно ниже четырех других гипотез, в то время как охват 7 гипотезы настолько большой, что показатель RICE сильно выше остальных, у 2 гипотезы показатель в 2 раза меньше."
   ]
  },
  {
   "cell_type": "markdown",
   "id": "3040442c",
   "metadata": {},
   "source": [
    "## Анализ A/B-теста"
   ]
  },
  {
   "cell_type": "markdown",
   "id": "490b8f47",
   "metadata": {},
   "source": [
    "### Кумулятивная выручка по группам"
   ]
  },
  {
   "cell_type": "code",
   "execution_count": 17,
   "id": "50510473",
   "metadata": {},
   "outputs": [
    {
     "data": {
      "image/png": "[encoded data removed]",
      "text/plain": [
       "<Figure size 640x480 with 1 Axes>"
      ]
     },
     "metadata": {},
     "output_type": "display_data"
    }
   ],
   "source": [
    "register_matplotlib_converters()\n",
    "\n",
    "datesGroups = orders[['date', 'group']].drop_duplicates()\n",
    "\n",
    "ordersAggregated = datesGroups.apply(\n",
    "    lambda x: orders[np.logical_and(orders['date'] <= x['date'], orders['group'] == x['group'])].agg(\n",
    "        {'date': 'max','group': 'max','transactionid': 'nunique','visitorid': 'nunique','revenue': 'sum'}),axis=1,\n",
    ").sort_values(by=['date', 'group'])\n",
    "\n",
    "visitorsAggregated = datesGroups.apply(\n",
    "    lambda x: visitors[np.logical_and(visitors['date'] <= x['date'], visitors['group'] == x['group'])\n",
    "].agg({'date': 'max', 'group': 'max', 'visitors': 'sum'}),\n",
    "    axis=1).sort_values(by=['date', 'group'])\n",
    "\n",
    "cumulativeData = ordersAggregated.merge(visitorsAggregated, left_on=['date', 'group'], right_on=['date', 'group'])\n",
    "cumulativeData.columns = [\n",
    "    'date',\n",
    "    'group',\n",
    "    'orders',\n",
    "    'buyers',\n",
    "    'revenue',\n",
    "    'visitors']\n",
    "\n",
    "cumulativeRevenueA = cumulativeData[cumulativeData['group'] == 'A'][['date', 'revenue', 'orders']]\n",
    "cumulativeRevenueB = cumulativeData[cumulativeData['group'] == 'B'][['date', 'revenue', 'orders']]\n",
    "\n",
    "plt.plot(cumulativeRevenueA['date'], cumulativeRevenueA['revenue'], label='A')\n",
    "plt.plot(cumulativeRevenueB['date'], cumulativeRevenueB['revenue'], label='B')\n",
    "plt.title('Кумулятивная выручка по группам')\n",
    "plt.xlabel('Дата', fontsize=9)\n",
    "plt.ylabel('Выручка', fontsize=9)\n",
    "plt.tick_params(rotation=45)\n",
    "plt.legend()\n",
    "plt.show()"
   ]
  },
  {
   "cell_type": "markdown",
   "id": "fed71999",
   "metadata": {},
   "source": [
    "Кумулятивная выручка в группе В лидирует на протяжении всего теста. Есть два явных скачка, после которых выручка в группе В сильно больше выручки в группе А."
   ]
  },
  {
   "cell_type": "markdown",
   "id": "67159493",
   "metadata": {},
   "source": [
    "### Кумулятивный средний чек по группам"
   ]
  },
  {
   "cell_type": "code",
   "execution_count": 18,
   "id": "a5e5f797",
   "metadata": {},
   "outputs": [
    {
     "data": {
      "image/png": "[encoded data removed]",
      "text/plain": [
       "<Figure size 640x480 with 1 Axes>"
      ]
     },
     "metadata": {},
     "output_type": "display_data"
    }
   ],
   "source": [
    "plt.plot(cumulativeRevenueA['date'], cumulativeRevenueA['revenue'] / cumulativeRevenueA['orders'], label='A')\n",
    "plt.plot(cumulativeRevenueB['date'], cumulativeRevenueB['revenue'] / cumulativeRevenueB['orders'], label='B')\n",
    "plt.title('Кумулятивный средний чек по группам')\n",
    "plt.xlabel('Дата', fontsize=9)\n",
    "plt.ylabel('Средний чек', fontsize=9)\n",
    "plt.tick_params(rotation=45)\n",
    "plt.legend()\n",
    "plt.show()"
   ]
  },
  {
   "cell_type": "markdown",
   "id": "e622cc9c",
   "metadata": {},
   "source": [
    "Средний чек в группе В больше среднего чека в группе А на протяжении почти всего теста, за исключением дня старта и нескольких дней в середине теста. Возможно около 17 марта были крупные заказы или заказ, после которого средний чек в группе В сильно увеличился."
   ]
  },
  {
   "cell_type": "markdown",
   "id": "a5a8b8de",
   "metadata": {},
   "source": [
    "### Относительное изменение кумулятивного среднего чека группы B к группе A"
   ]
  },
  {
   "cell_type": "code",
   "execution_count": 19,
   "id": "65dcaf86",
   "metadata": {},
   "outputs": [
    {
     "data": {
      "text/plain": [
       "<matplotlib.lines.Line2D at 0x2acd6776e20>"
      ]
     },
     "execution_count": 19,
     "metadata": {},
     "output_type": "execute_result"
    },
    {
     "data": {
      "image/png": "[encoded data removed]",
      "text/plain": [
       "<Figure size 640x480 with 1 Axes>"
      ]
     },
     "metadata": {},
     "output_type": "display_data"
    }
   ],
   "source": [
    "mergedCumulativeRevenue = cumulativeRevenueA.merge(cumulativeRevenueB, left_on='date', right_on = 'date', \n",
    "                                                   how = 'left', suffixes=['A', 'B'])\n",
    "\n",
    "plt.plot(mergedCumulativeRevenue['date'], (mergedCumulativeRevenue['revenueB'] / mergedCumulativeRevenue['ordersB']) / \n",
    "         (mergedCumulativeRevenue['revenueA'] / mergedCumulativeRevenue['ordersA']) - 1)\n",
    "plt.title('Относительное изм-ие кумулятивного среднего чека группы B к группе A')\n",
    "plt.xlabel('Дата', fontsize=9)\n",
    "plt.ylabel('Относительное изменение', fontsize=9)\n",
    "plt.tick_params(rotation=45)\n",
    "plt.axhline(y=0, color='black', linestyle='--')"
   ]
  },
  {
   "cell_type": "markdown",
   "id": "cc160b53",
   "metadata": {},
   "source": [
    "Относительное изменение больше 20% на протяжении почти всего теста за исключением тех же нескольких дней. "
   ]
  },
  {
   "cell_type": "markdown",
   "id": "ccc3531e",
   "metadata": {},
   "source": [
    "### Кумулятивное среднее количество заказов на посетителя по группам"
   ]
  },
  {
   "cell_type": "code",
   "execution_count": 20,
   "id": "12848da9",
   "metadata": {},
   "outputs": [
    {
     "data": {
      "text/plain": [
       "<matplotlib.legend.Legend at 0x2acd6f65ee0>"
      ]
     },
     "execution_count": 20,
     "metadata": {},
     "output_type": "execute_result"
    },
    {
     "data": {
      "image/png": "[encoded data removed]",
      "text/plain": [
       "<Figure size 640x480 with 1 Axes>"
      ]
     },
     "metadata": {},
     "output_type": "display_data"
    }
   ],
   "source": [
    "cumulativeData['conversion'] = cumulativeData['orders'] / cumulativeData['visitors']\n",
    "\n",
    "cumulativeDataA = cumulativeData[cumulativeData['group'] == 'A']\n",
    "cumulativeDataB = cumulativeData[cumulativeData['group'] == 'B']\n",
    "\n",
    "plt.plot(cumulativeDataA['date'], cumulativeDataA['conversion'], label='A')\n",
    "plt.plot(cumulativeDataB['date'], cumulativeDataB['conversion'], label='B')\n",
    "plt.title('Кумулятивное среднее кол-во заказов на посетителя по группам')\n",
    "plt.xlabel('Дата', fontsize=9)\n",
    "plt.ylabel('Конверсия', fontsize=9)\n",
    "plt.tick_params(rotation=45)\n",
    "plt.legend()"
   ]
  },
  {
   "cell_type": "markdown",
   "id": "de79592d",
   "metadata": {},
   "source": [
    "В начале теста группа А показывала большую конверсию, но после 5 августа конверсия в группе В установилась примерно на уровне 0.033. В группе А - около 0.03."
   ]
  },
  {
   "cell_type": "markdown",
   "id": "0f93e887",
   "metadata": {},
   "source": [
    "### Относительное изм-ие кумулятивного среднего количества заказов на посетителя группы B к группе A"
   ]
  },
  {
   "cell_type": "code",
   "execution_count": 21,
   "id": "3db2f38b",
   "metadata": {},
   "outputs": [
    {
     "data": {
      "image/png": "[encoded data removed]",
      "text/plain": [
       "<Figure size 640x480 with 1 Axes>"
      ]
     },
     "metadata": {},
     "output_type": "display_data"
    }
   ],
   "source": [
    "mergedCumulativeConversions = cumulativeDataA[['date', 'conversion']].merge(cumulativeDataB[['date', 'conversion']], left_on='date', right_on = 'date', how='left', suffixes=['A', 'B'])\n",
    "\n",
    "plt.plot(mergedCumulativeConversions['date'], mergedCumulativeConversions['conversionB']/ mergedCumulativeConversions['conversionA'] - 1)\n",
    "\n",
    "plt.axhline(y=0, color='black', linestyle='--')\n",
    "plt.axhline(y=0.2, color='grey', linestyle='--')\n",
    "plt.title('Относительный прирост кол-ва заказов на посетителя B относительно группы A')\n",
    "plt.xlabel('Дата', fontsize=9)\n",
    "plt.tick_params(rotation=45)\n",
    "plt.show()"
   ]
  },
  {
   "cell_type": "markdown",
   "id": "471f2e5c",
   "metadata": {},
   "source": [
    "После 5 августа группа В лидирует по количеству заказов на посетителя."
   ]
  },
  {
   "cell_type": "markdown",
   "id": "890d6e98",
   "metadata": {},
   "source": [
    "### Количество заказов по пользователям"
   ]
  },
  {
   "cell_type": "code",
   "execution_count": 22,
   "id": "a3e464e6",
   "metadata": {},
   "outputs": [
    {
     "data": {
      "text/plain": [
       "Text(0.5, 1.0, 'Количество заказов по пользователям')"
      ]
     },
     "execution_count": 22,
     "metadata": {},
     "output_type": "execute_result"
    },
    {
     "data": {
      "image/png": "[encoded data removed]",
      "text/plain": [
       "<Figure size 640x480 with 1 Axes>"
      ]
     },
     "metadata": {},
     "output_type": "display_data"
    }
   ],
   "source": [
    "ordersByUsers = (orders.groupby('visitorid', as_index=False).agg({'transactionid': 'nunique'}))\n",
    "ordersByUsers.columns = ['userId', 'orders']\n",
    "\n",
    "x_values = pd.Series(range(0, len(ordersByUsers)))\n",
    "plt.scatter(x_values, ordersByUsers['orders'])\n",
    "plt.title('Количество заказов по пользователям')"
   ]
  },
  {
   "cell_type": "markdown",
   "id": "bdb73fcd",
   "metadata": {},
   "source": [
    "Судя по графику, пользователей, которые сделали более 2 заказов сильно меньше, чем тех, кто сделал 1 или 2 заказа. "
   ]
  },
  {
   "cell_type": "code",
   "execution_count": 23,
   "id": "212898bc",
   "metadata": {},
   "outputs": [],
   "source": [
    "# исключим из таблицы orders пользователей, которые попали в обе группы\n",
    "orders_unique = orders.query('visitorid not in @merged_visitors')\n",
    "\n",
    "ordersByUsers_unique = (orders_unique.groupby('visitorid', as_index=False).agg({'transactionid': 'nunique'}))\n",
    "ordersByUsers_unique.columns = ['userId', 'orders']"
   ]
  },
  {
   "cell_type": "markdown",
   "id": "190f84a2",
   "metadata": {},
   "source": [
    "### 95-й и 99-й перцентили количества заказов на пользователя"
   ]
  },
  {
   "cell_type": "code",
   "execution_count": 24,
   "id": "b75f3149",
   "metadata": {},
   "outputs": [
    {
     "data": {
      "text/plain": [
       "array([2., 4.])"
      ]
     },
     "execution_count": 24,
     "metadata": {},
     "output_type": "execute_result"
    }
   ],
   "source": [
    "np.percentile(ordersByUsers['orders'], [95,99])"
   ]
  },
  {
   "cell_type": "markdown",
   "id": "91d01ac6",
   "metadata": {},
   "source": [
    "Не более 5% пользователей совершали более 2 заказов и не более 1% пользователей - более 4 заказов."
   ]
  },
  {
   "cell_type": "code",
   "execution_count": 25,
   "id": "fc002137",
   "metadata": {},
   "outputs": [
    {
     "data": {
      "text/plain": [
       "array([1., 2.])"
      ]
     },
     "execution_count": 25,
     "metadata": {},
     "output_type": "execute_result"
    }
   ],
   "source": [
    "# рассчитаем те же перцентили для очищенной таблицы\n",
    "np.percentile(ordersByUsers_unique['orders'], [95,99])"
   ]
  },
  {
   "cell_type": "markdown",
   "id": "7081f2e4",
   "metadata": {},
   "source": [
    "Не более 5% пользователей совершали больше 1 заказа и не более 1% пользователей - более 2 заказов."
   ]
  },
  {
   "cell_type": "markdown",
   "id": "5e711e23",
   "metadata": {},
   "source": [
    "### Стоимость заказов"
   ]
  },
  {
   "cell_type": "code",
   "execution_count": 26,
   "id": "66c7b7c3",
   "metadata": {},
   "outputs": [
    {
     "data": {
      "text/plain": [
       "(0.0, 100000.0)"
      ]
     },
     "execution_count": 26,
     "metadata": {},
     "output_type": "execute_result"
    },
    {
     "data": {
      "image/png": "[encoded data removed]",
      "text/plain": [
       "<Figure size 640x480 with 1 Axes>"
      ]
     },
     "metadata": {},
     "output_type": "display_data"
    }
   ],
   "source": [
    "x_values = pd.Series(range(0, len(orders['revenue'])))\n",
    "plt.scatter(x_values, orders['revenue'], alpha=0.5)\n",
    "plt.title('Стоимость заказов')\n",
    "plt.ylim(0, 100000)"
   ]
  },
  {
   "cell_type": "markdown",
   "id": "f75f5943",
   "metadata": {},
   "source": [
    "Стоимость заказов на сумму больше 30-40 тыс не так много, есть выбросы со стоимостью 80 и 100 тыс рублей. "
   ]
  },
  {
   "cell_type": "markdown",
   "id": "c8077d8b",
   "metadata": {},
   "source": [
    "### 95-й и 99-й перцентили стоимости заказов"
   ]
  },
  {
   "cell_type": "code",
   "execution_count": 27,
   "id": "4a05b35c",
   "metadata": {},
   "outputs": [
    {
     "data": {
      "text/plain": [
       "array([28000. , 58233.2])"
      ]
     },
     "execution_count": 27,
     "metadata": {},
     "output_type": "execute_result"
    }
   ],
   "source": [
    "np.percentile(orders['revenue'], [95, 99])"
   ]
  },
  {
   "cell_type": "markdown",
   "id": "cf97545c",
   "metadata": {},
   "source": [
    "Не более, чем у 5% заказов чек дороже 28000 рублей, не более чем у 1% заказов - дороже 58233 рублей. "
   ]
  },
  {
   "cell_type": "code",
   "execution_count": 28,
   "id": "8893ebbf",
   "metadata": {},
   "outputs": [
    {
     "data": {
      "text/plain": [
       "array([26785., 53904.])"
      ]
     },
     "execution_count": 28,
     "metadata": {},
     "output_type": "execute_result"
    }
   ],
   "source": [
    "# рассчитаем те же перцентили для очищенной таблицы\n",
    "np.percentile(orders_unique['revenue'], [95, 99])"
   ]
  },
  {
   "cell_type": "markdown",
   "id": "bb05bd3c",
   "metadata": {},
   "source": [
    "Не более, чем у 5% заказов чек дороже 26785 рублей, не более чем у 1% заказов - дороже 53904 рублей. "
   ]
  },
  {
   "cell_type": "markdown",
   "id": "2fb3589a",
   "metadata": {},
   "source": [
    "### Статистическая значимость различий в среднем количестве заказов на посетителя между группами по «сырым» данным"
   ]
  },
  {
   "cell_type": "code",
   "execution_count": 29,
   "id": "fb425bea",
   "metadata": {},
   "outputs": [],
   "source": [
    "# рассчитаем количество пользователей в выбранную дату в группе А\n",
    "\n",
    "visitorsADaily = visitors[visitors['group'] == 'A'][['date', 'visitors']]\n",
    "visitorsADaily.columns = ['date', 'visitorsPerDateA']\n",
    "\n",
    "# рассчитаем количество пользователей до выбранной даты включительно в группе B.\n",
    "\n",
    "visitorsACummulative = visitorsADaily.apply(\n",
    "    lambda x: visitorsADaily[visitorsADaily['date'] <= x['date']].agg({'date': 'max', 'visitorsPerDateA': 'sum'}), axis=1)\n",
    "visitorsACummulative.columns = ['date', 'visitorsCummulativeA']\n",
    "\n",
    "# рассчитаем количество пользователей в выбранную дату в группе B\n",
    "\n",
    "visitorsBDaily = visitors[visitors['group'] == 'B'][['date', 'visitors']]\n",
    "visitorsBDaily.columns = ['date', 'visitorsPerDateB']\n",
    "\n",
    "# рассчитаем количество пользователей до выбранной даты включительно в группе B.\n",
    "\n",
    "visitorsBCummulative = visitorsBDaily.apply(\n",
    "    lambda x: visitorsBDaily[visitorsBDaily['date'] <= x['date']].agg({'date': 'max', 'visitorsPerDateB': 'sum'}), axis=1)\n",
    "visitorsBCummulative.columns = ['date', 'visitorsCummulativeB']\n",
    "\n",
    "# рассчитаем количество заказов в выбранную дату в группе A\n",
    "\n",
    "ordersADaily = (\n",
    "    orders[orders['group'] == 'A'][['date', 'transactionid', 'visitorid', 'revenue']]\n",
    "    .groupby('date', as_index=False)\n",
    "    .agg({'transactionid': pd.Series.nunique, 'revenue': 'sum'}))\n",
    "ordersADaily.columns = ['date', 'ordersPerDateA', 'revenuePerDateA']\n",
    "\n",
    "# рассчитаем суммарное число заказов до выбранной даты включительно в группе A\n",
    "\n",
    "ordersACummulative = ordersADaily.apply(\n",
    "    lambda x: ordersADaily[ordersADaily['date'] <= x['date']].agg(\n",
    "{'date': 'max', 'ordersPerDateA': 'sum', 'revenuePerDateA': 'sum'}), axis=1).sort_values(by=['date'])\n",
    "ordersACummulative.columns = [\n",
    "    'date',\n",
    "    'ordersCummulativeA',\n",
    "    'revenueCummulativeA']\n",
    "\n",
    "# рассчитаем количество заказов в выбранную дату в группе В\n",
    "\n",
    "ordersBDaily = (\n",
    "    orders[orders['group'] == 'B'][['date', 'transactionid', 'visitorid', 'revenue']]\n",
    "    .groupby('date', as_index=False)\n",
    "    .agg({'transactionid': pd.Series.nunique, 'revenue': 'sum'}))\n",
    "ordersBDaily.columns = ['date', 'ordersPerDateB', 'revenuePerDateB']\n",
    "\n",
    "# рассчитаем суммарное число заказов до выбранной даты включительно в группе В\n",
    "\n",
    "ordersBCummulative = ordersBDaily.apply(\n",
    "    lambda x: ordersBDaily[ordersBDaily['date'] <= x['date']].agg(\n",
    "        {'date': 'max', 'ordersPerDateB': 'sum', 'revenuePerDateB': 'sum'}), axis=1).sort_values(by=['date'])\n",
    "ordersBCummulative.columns = [\n",
    "    'date',\n",
    "    'ordersCummulativeB',\n",
    "    'revenueCummulativeB']\n",
    "\n",
    "data = (ordersADaily.merge(ordersBDaily, left_on='date', right_on='date', how='left')\n",
    "    .merge(ordersACummulative, left_on='date', right_on='date', how='left')\n",
    "    .merge(ordersBCummulative, left_on='date', right_on='date', how='left')\n",
    "    .merge(visitorsADaily, left_on='date', right_on='date', how='left')\n",
    "    .merge(visitorsBDaily, left_on='date', right_on='date', how='left')\n",
    "    .merge(visitorsACummulative, left_on='date', right_on='date', how='left')\n",
    "    .merge(visitorsBCummulative, left_on='date', right_on='date', how='left'))\n",
    "\n",
    "# создадим переменные для пользователей, которые заказывали хотя бы 1 раз, укажем число совершённых заказов. \n",
    "\n",
    "ordersByUsersA = (orders[orders['group'] == 'A']\n",
    "    .groupby('visitorid', as_index=False)\n",
    "    .agg({'transactionid': pd.Series.nunique}))\n",
    "ordersByUsersA.columns = ['visitorid', 'orders']\n",
    "\n",
    "ordersByUsersB = (orders[orders['group'] == 'B']\n",
    "    .groupby('visitorid', as_index=False)\n",
    "    .agg({'transactionid': pd.Series.nunique}))\n",
    "ordersByUsersB.columns = ['visitorid', 'orders']\n"
   ]
  },
  {
   "cell_type": "markdown",
   "id": "22afc788",
   "metadata": {},
   "source": [
    "Сформулируем гипотезы.\n",
    "\n",
    "H0: различий в среднем количестве заказов между группами нет. \n",
    "\n",
    "H1: различия в среднем между группами есть."
   ]
  },
  {
   "cell_type": "code",
   "execution_count": 30,
   "id": "5ef10ff8",
   "metadata": {},
   "outputs": [
    {
     "name": "stdout",
     "output_type": "stream",
     "text": [
      "P-value - 0.01679\n",
      "Относительное изменение - 0.138\n"
     ]
    }
   ],
   "source": [
    "sampleA = pd.concat([ordersByUsersA['orders'],pd.Series(0, index=np.arange(data['visitorsPerDateA'].sum() - len(ordersByUsersA['orders'])), name='orders')],axis=0)\n",
    "\n",
    "sampleB = pd.concat([ordersByUsersB['orders'],pd.Series(0, index=np.arange(data['visitorsPerDateB'].sum() - len(ordersByUsersB['orders'])), name='orders')],axis=0)\n",
    "\n",
    "print(\"P-value - {0:.5f}\".format(stats.mannwhitneyu(sampleA, sampleB)[1]))\n",
    "\n",
    "print(\"Относительное изменение - {0:.3f}\".format(sampleB.mean() / sampleA.mean() - 1))"
   ]
  },
  {
   "cell_type": "markdown",
   "id": "0802ac6a",
   "metadata": {},
   "source": [
    "P-value меньше 0.05, поэтому нулевую гипотезу отвергаем. Анализ по \"сырым\" данным показывает, что есть статистически значимые различия между группами в разрезе среднего количества заказов. Относительный прирост среднего группы В к группе А - 13.8%."
   ]
  },
  {
   "cell_type": "markdown",
   "id": "108e31af",
   "metadata": {},
   "source": [
    "### Статистическая значимость различий в среднем чеке заказа между группами по «сырым» данным"
   ]
  },
  {
   "cell_type": "markdown",
   "id": "accca656",
   "metadata": {},
   "source": [
    "Сформулируем гипотезы.\n",
    "\n",
    "H0: различий в среднем чеке между группами нет. \n",
    "\n",
    "H1: различия в среднем чеке между группами есть."
   ]
  },
  {
   "cell_type": "code",
   "execution_count": 31,
   "id": "09b46767",
   "metadata": {},
   "outputs": [
    {
     "name": "stdout",
     "output_type": "stream",
     "text": [
      "p-value - 0.729\n",
      "относительное изменение - 0.259\n"
     ]
    }
   ],
   "source": [
    "print('p-value - {0:.3f}'.format(stats.mannwhitneyu(orders[orders['group']=='A']['revenue'], orders[orders['group']=='B']['revenue'])[1]))\n",
    "print('относительное изменение - {0:.3f}'.format(orders[orders['group']=='B']['revenue'].mean()/orders[orders['group']=='A']['revenue'].mean()-1))"
   ]
  },
  {
   "cell_type": "markdown",
   "id": "4671cf57",
   "metadata": {},
   "source": [
    "P-value сильно больше 0.05, нулевую гипотезу отвергнуть не можем, статистически значимых различий по среднему чеку между группами нет. Хотя относительно различие среднего чека чуть больше 25%, что оказалось не статистически значимым. "
   ]
  },
  {
   "cell_type": "markdown",
   "id": "a1e595cb",
   "metadata": {},
   "source": [
    "### Статистическая значимость различий в среднем количестве заказов на посетителя между группами по «очищенным» данным"
   ]
  },
  {
   "cell_type": "code",
   "execution_count": 32,
   "id": "698638f2",
   "metadata": {},
   "outputs": [],
   "source": [
    "orders_limit = 2\n",
    "\n",
    "usersWithManyOrders = pd.concat(\n",
    "    [ordersByUsersA[ordersByUsersA['orders'] > orders_limit]['visitorid'],\n",
    "        ordersByUsersB[ordersByUsersB['orders'] > orders_limit]['visitorid']], axis=0)\n",
    "\n",
    "revenue_limit = 28000\n",
    "usersWithExpensiveOrders = orders[orders['revenue'] > revenue_limit]['visitorid']\n",
    "\n",
    "abnormalUsers = (pd.concat([usersWithManyOrders, usersWithExpensiveOrders], axis=0).drop_duplicates().sort_values())\n",
    "\n",
    "# исключим тех, кто совершал больше, чем 2 заказа, и тех, у кого заказы были стоимостью больше чем 28 тыс руб. "
   ]
  },
  {
   "cell_type": "code",
   "execution_count": 33,
   "id": "9663ddfd",
   "metadata": {},
   "outputs": [
    {
     "name": "stdout",
     "output_type": "stream",
     "text": [
      "p-value - 0.01304\n",
      "относительное изменение - 0.173\n"
     ]
    }
   ],
   "source": [
    "sampleAFiltered = pd.concat(\n",
    "    [ordersByUsersA[np.logical_not(ordersByUsersA['visitorid'].isin(abnormalUsers))]['orders'],\n",
    "        pd.Series(0, index=np.arange(data['visitorsPerDateA'].sum() - len(ordersByUsersA['orders'])), name='orders')], axis=0)\n",
    "\n",
    "sampleBFiltered = pd.concat(\n",
    "    [ordersByUsersB[np.logical_not(ordersByUsersB['visitorid'].isin(abnormalUsers))]['orders'],\n",
    "        pd.Series(0, index=np.arange(data['visitorsPerDateB'].sum() - len(ordersByUsersB['orders'])), name='orders')], axis=0)\n",
    "\n",
    "print('p-value - {0:.5f}'.format(stats.mannwhitneyu(sampleAFiltered, sampleBFiltered)[1]))\n",
    "print('относительное изменение - {0:.3f}'.format(sampleBFiltered.mean()/sampleAFiltered.mean()-1))"
   ]
  },
  {
   "cell_type": "markdown",
   "id": "c20cc643",
   "metadata": {},
   "source": [
    "Результат тот же, нулевую гипотезу отвергаем, есть статическая значимость. Относительный прирост чуть меньше - 17.3%."
   ]
  },
  {
   "cell_type": "markdown",
   "id": "07ce5698",
   "metadata": {},
   "source": [
    "### Статистическая значимость различий в среднем чеке заказа между группами по «очищенным» данным"
   ]
  },
  {
   "cell_type": "code",
   "execution_count": 34,
   "id": "c7157956",
   "metadata": {},
   "outputs": [
    {
     "name": "stdout",
     "output_type": "stream",
     "text": [
      "p-value - 0.738\n",
      "относительное изменение - -0.020\n"
     ]
    }
   ],
   "source": [
    "print('p-value - {0:.3f}'.format(stats.mannwhitneyu(orders[np.logical_and(orders['group'] == 'A',\n",
    "                    np.logical_not(orders['visitorid'].isin(abnormalUsers)))]['revenue'],\n",
    "            orders[np.logical_and(orders['group'] == 'B',\n",
    "                    np.logical_not(orders['visitorid'].isin(abnormalUsers)))]['revenue'])[1]))\n",
    "\n",
    "print(\"относительное изменение - {0:.3f}\".format(orders[np.logical_and(orders['group'] == 'B',\n",
    "                              np.logical_not(orders['visitorid'].isin(abnormalUsers)))]['revenue'].mean()\n",
    "        / orders[np.logical_and(orders['group'] == 'A',\n",
    "                np.logical_not(orders['visitorid'].isin(abnormalUsers)))]['revenue'].mean() - 1))"
   ]
  },
  {
   "cell_type": "markdown",
   "id": "e8f511f8",
   "metadata": {},
   "source": [
    "Также нет статистически значимых различий в среднем чеке между группами. Присутствует даже относительный спад в 2%, который получается не статически значимый."
   ]
  },
  {
   "cell_type": "markdown",
   "id": "9f49d27a",
   "metadata": {},
   "source": [
    "### Общий вывод"
   ]
  },
  {
   "cell_type": "markdown",
   "id": "ab0ad6af",
   "metadata": {},
   "source": [
    "Тест показал, что есть статитистически значимые различия в среднем количеством заказов между группами, но нет статистически значимых различий в среднем чеке. То есть, пользователи в среднем совершают бОльшее количество заказов, но эти заказы в среднем по стоимости такие же, что и заказы в группе А. Тест можно остановить и зафиксировать победу группы В, к 29 августа такие показатели как среднее количество заказов и конверсия зафиксировались на определенном уровне. \\\n",
    "Также отметим, что 92 пользователя попали в группы А и В, из данных они не были исключены. "
   ]
  }
 ],
 "metadata": {
  "ExecuteTimeLog": [
   {
    "duration": 1203,
    "start_time": "2023-03-18T14:26:31.242Z"
   },
   {
    "duration": 241,
    "start_time": "2023-03-18T14:26:32.447Z"
   },
   {
    "duration": 4,
    "start_time": "2023-03-18T14:26:32.690Z"
   },
   {
    "duration": 38,
    "start_time": "2023-03-18T14:26:32.696Z"
   },
   {
    "duration": 28,
    "start_time": "2023-03-18T14:26:32.736Z"
   },
   {
    "duration": 14,
    "start_time": "2023-03-18T14:26:32.766Z"
   },
   {
    "duration": 23,
    "start_time": "2023-03-18T14:26:32.782Z"
   },
   {
    "duration": 8,
    "start_time": "2023-03-18T14:26:32.807Z"
   },
   {
    "duration": 31,
    "start_time": "2023-03-18T14:26:32.817Z"
   },
   {
    "duration": 8,
    "start_time": "2023-03-18T14:26:32.851Z"
   },
   {
    "duration": 8,
    "start_time": "2023-03-18T14:26:32.861Z"
   },
   {
    "duration": 9,
    "start_time": "2023-03-18T14:26:32.871Z"
   },
   {
    "duration": 13,
    "start_time": "2023-03-18T14:26:32.881Z"
   },
   {
    "duration": 5,
    "start_time": "2023-03-18T14:26:32.896Z"
   },
   {
    "duration": 49,
    "start_time": "2023-03-18T14:26:32.903Z"
   },
   {
    "duration": 716,
    "start_time": "2023-03-18T14:26:32.954Z"
   },
   {
    "duration": 231,
    "start_time": "2023-03-18T14:26:33.672Z"
   },
   {
    "duration": 388,
    "start_time": "2023-03-18T14:26:33.905Z"
   },
   {
    "duration": 258,
    "start_time": "2023-03-18T14:26:34.294Z"
   },
   {
    "duration": 323,
    "start_time": "2023-03-18T14:26:34.554Z"
   },
   {
    "duration": 137,
    "start_time": "2023-03-18T14:26:34.879Z"
   },
   {
    "duration": 6,
    "start_time": "2023-03-18T14:26:35.018Z"
   },
   {
    "duration": 171,
    "start_time": "2023-03-18T14:26:35.026Z"
   },
   {
    "duration": 6,
    "start_time": "2023-03-18T14:26:35.199Z"
   },
   {
    "duration": 412,
    "start_time": "2023-03-18T14:26:35.207Z"
   },
   {
    "duration": 20,
    "start_time": "2023-03-18T14:26:35.621Z"
   },
   {
    "duration": 10,
    "start_time": "2023-03-18T14:26:35.643Z"
   },
   {
    "duration": 39,
    "start_time": "2023-03-18T14:26:35.657Z"
   },
   {
    "duration": 13,
    "start_time": "2023-03-18T14:26:35.699Z"
   },
   {
    "duration": 54,
    "start_time": "2023-03-18T15:29:52.020Z"
   },
   {
    "duration": 1390,
    "start_time": "2023-03-18T15:29:57.137Z"
   },
   {
    "duration": 254,
    "start_time": "2023-03-18T15:29:58.529Z"
   },
   {
    "duration": 5,
    "start_time": "2023-03-18T15:29:58.785Z"
   },
   {
    "duration": 47,
    "start_time": "2023-03-18T15:29:58.791Z"
   },
   {
    "duration": 36,
    "start_time": "2023-03-18T15:29:58.841Z"
   },
   {
    "duration": 16,
    "start_time": "2023-03-18T15:29:58.879Z"
   },
   {
    "duration": 25,
    "start_time": "2023-03-18T15:29:58.897Z"
   },
   {
    "duration": 6,
    "start_time": "2023-03-18T15:29:58.945Z"
   },
   {
    "duration": 22,
    "start_time": "2023-03-18T15:29:58.955Z"
   },
   {
    "duration": 14,
    "start_time": "2023-03-18T15:29:58.979Z"
   },
   {
    "duration": 12,
    "start_time": "2023-03-18T15:29:58.995Z"
   },
   {
    "duration": 5,
    "start_time": "2023-03-18T15:30:01.263Z"
   },
   {
    "duration": 14,
    "start_time": "2023-03-18T15:30:05.928Z"
   },
   {
    "duration": 4,
    "start_time": "2023-03-18T15:30:23.735Z"
   },
   {
    "duration": 4,
    "start_time": "2023-03-18T15:30:36.331Z"
   },
   {
    "duration": 4,
    "start_time": "2023-03-18T15:30:49.997Z"
   },
   {
    "duration": 10,
    "start_time": "2023-03-18T15:30:50.702Z"
   },
   {
    "duration": 4,
    "start_time": "2023-03-18T15:30:58.013Z"
   },
   {
    "duration": 12,
    "start_time": "2023-03-18T15:30:59.343Z"
   },
   {
    "duration": 4,
    "start_time": "2023-03-18T15:31:04.615Z"
   },
   {
    "duration": 9,
    "start_time": "2023-03-18T15:31:05.601Z"
   },
   {
    "duration": 82,
    "start_time": "2023-03-18T15:37:46.808Z"
   },
   {
    "duration": 8,
    "start_time": "2023-03-18T15:37:51.151Z"
   },
   {
    "duration": 91,
    "start_time": "2023-03-18T15:37:51.161Z"
   },
   {
    "duration": 4,
    "start_time": "2023-03-18T15:37:51.259Z"
   },
   {
    "duration": 28,
    "start_time": "2023-03-18T15:37:51.265Z"
   },
   {
    "duration": 25,
    "start_time": "2023-03-18T15:37:51.294Z"
   },
   {
    "duration": 27,
    "start_time": "2023-03-18T15:37:51.321Z"
   },
   {
    "duration": 29,
    "start_time": "2023-03-18T15:37:51.349Z"
   },
   {
    "duration": 5,
    "start_time": "2023-03-18T15:37:51.379Z"
   },
   {
    "duration": 12,
    "start_time": "2023-03-18T15:37:51.386Z"
   },
   {
    "duration": 9,
    "start_time": "2023-03-18T15:37:51.402Z"
   },
   {
    "duration": 11,
    "start_time": "2023-03-18T15:37:51.413Z"
   },
   {
    "duration": 20,
    "start_time": "2023-03-18T15:37:51.426Z"
   },
   {
    "duration": 17,
    "start_time": "2023-03-18T15:37:51.449Z"
   },
   {
    "duration": 5,
    "start_time": "2023-03-18T15:37:51.469Z"
   },
   {
    "duration": 14,
    "start_time": "2023-03-18T15:37:54.626Z"
   },
   {
    "duration": 68,
    "start_time": "2023-03-18T15:44:52.543Z"
   },
   {
    "duration": 16,
    "start_time": "2023-03-18T15:46:11.365Z"
   },
   {
    "duration": 72,
    "start_time": "2023-03-18T15:46:45.112Z"
   },
   {
    "duration": 17,
    "start_time": "2023-03-18T15:46:53.921Z"
   },
   {
    "duration": 14,
    "start_time": "2023-03-18T15:48:49.520Z"
   },
   {
    "duration": 4,
    "start_time": "2023-03-18T15:48:53.847Z"
   },
   {
    "duration": 79,
    "start_time": "2023-03-18T15:48:53.853Z"
   },
   {
    "duration": 5,
    "start_time": "2023-03-18T15:48:53.934Z"
   },
   {
    "duration": 30,
    "start_time": "2023-03-18T15:48:53.941Z"
   },
   {
    "duration": 27,
    "start_time": "2023-03-18T15:48:53.972Z"
   },
   {
    "duration": 15,
    "start_time": "2023-03-18T15:48:54.001Z"
   },
   {
    "duration": 21,
    "start_time": "2023-03-18T15:48:54.041Z"
   },
   {
    "duration": 4,
    "start_time": "2023-03-18T15:48:54.064Z"
   },
   {
    "duration": 8,
    "start_time": "2023-03-18T15:48:54.070Z"
   },
   {
    "duration": 5,
    "start_time": "2023-03-18T15:48:54.081Z"
   },
   {
    "duration": 6,
    "start_time": "2023-03-18T15:48:54.088Z"
   },
   {
    "duration": 5,
    "start_time": "2023-03-18T15:48:54.095Z"
   },
   {
    "duration": 20,
    "start_time": "2023-03-18T15:48:54.141Z"
   },
   {
    "duration": 7,
    "start_time": "2023-03-18T15:48:54.164Z"
   },
   {
    "duration": 34,
    "start_time": "2023-03-18T15:48:54.173Z"
   },
   {
    "duration": 584,
    "start_time": "2023-03-18T15:48:54.208Z"
   },
   {
    "duration": 203,
    "start_time": "2023-03-18T15:48:54.794Z"
   },
   {
    "duration": 400,
    "start_time": "2023-03-18T15:48:54.999Z"
   },
   {
    "duration": 244,
    "start_time": "2023-03-18T15:48:55.401Z"
   },
   {
    "duration": 335,
    "start_time": "2023-03-18T15:48:55.647Z"
   },
   {
    "duration": 159,
    "start_time": "2023-03-18T15:48:55.984Z"
   },
   {
    "duration": 7,
    "start_time": "2023-03-18T15:48:56.145Z"
   },
   {
    "duration": 231,
    "start_time": "2023-03-18T15:48:56.154Z"
   },
   {
    "duration": 5,
    "start_time": "2023-03-18T15:48:56.386Z"
   },
   {
    "duration": 403,
    "start_time": "2023-03-18T15:48:56.393Z"
   },
   {
    "duration": 12,
    "start_time": "2023-03-18T15:48:56.798Z"
   },
   {
    "duration": 10,
    "start_time": "2023-03-18T15:48:56.812Z"
   },
   {
    "duration": 29,
    "start_time": "2023-03-18T15:48:56.841Z"
   },
   {
    "duration": 13,
    "start_time": "2023-03-18T15:48:56.872Z"
   },
   {
    "duration": 456,
    "start_time": "2023-03-18T15:49:08.814Z"
   },
   {
    "duration": 317,
    "start_time": "2023-03-18T15:50:32.106Z"
   },
   {
    "duration": 140,
    "start_time": "2023-03-18T15:51:13.216Z"
   },
   {
    "duration": 7,
    "start_time": "2023-03-18T15:52:08.519Z"
   },
   {
    "duration": 7,
    "start_time": "2023-03-18T15:52:38.351Z"
   },
   {
    "duration": 25,
    "start_time": "2023-03-18T15:53:57.611Z"
   },
   {
    "duration": 115,
    "start_time": "2023-03-18T15:56:24.213Z"
   },
   {
    "duration": 91,
    "start_time": "2023-03-18T16:00:22.005Z"
   },
   {
    "duration": 108,
    "start_time": "2023-03-18T16:00:31.105Z"
   },
   {
    "duration": 108,
    "start_time": "2023-03-18T16:01:03.913Z"
   },
   {
    "duration": 80,
    "start_time": "2023-03-18T16:01:39.010Z"
   },
   {
    "duration": 1606,
    "start_time": "2023-03-18T16:03:44.026Z"
   },
   {
    "duration": 116,
    "start_time": "2023-03-18T16:04:07.429Z"
   },
   {
    "duration": 1802,
    "start_time": "2023-03-18T16:04:09.416Z"
   },
   {
    "duration": 1932,
    "start_time": "2023-03-18T16:04:26.942Z"
   },
   {
    "duration": 1604,
    "start_time": "2023-03-18T16:04:41.934Z"
   },
   {
    "duration": 7,
    "start_time": "2023-03-18T16:05:01.254Z"
   },
   {
    "duration": 6,
    "start_time": "2023-03-18T16:05:06.432Z"
   },
   {
    "duration": 13,
    "start_time": "2023-03-18T16:05:17.470Z"
   },
   {
    "duration": 124,
    "start_time": "2023-03-18T16:05:37.521Z"
   },
   {
    "duration": 138,
    "start_time": "2023-03-18T16:05:51.017Z"
   },
   {
    "duration": 1654,
    "start_time": "2023-03-18T16:08:35.106Z"
   },
   {
    "duration": 132,
    "start_time": "2023-03-18T16:08:51.610Z"
   },
   {
    "duration": 1690,
    "start_time": "2023-03-18T16:09:12.010Z"
   },
   {
    "duration": 7,
    "start_time": "2023-03-18T16:11:53.680Z"
   },
   {
    "duration": 23,
    "start_time": "2023-03-18T16:12:08.394Z"
   },
   {
    "duration": 78,
    "start_time": "2023-03-18T16:12:24.892Z"
   },
   {
    "duration": 3,
    "start_time": "2023-03-18T16:12:33.792Z"
   },
   {
    "duration": 76,
    "start_time": "2023-03-18T16:12:33.797Z"
   },
   {
    "duration": 4,
    "start_time": "2023-03-18T16:12:33.875Z"
   },
   {
    "duration": 36,
    "start_time": "2023-03-18T16:12:33.881Z"
   },
   {
    "duration": 25,
    "start_time": "2023-03-18T16:12:33.920Z"
   },
   {
    "duration": 11,
    "start_time": "2023-03-18T16:12:33.947Z"
   },
   {
    "duration": 19,
    "start_time": "2023-03-18T16:12:33.959Z"
   },
   {
    "duration": 4,
    "start_time": "2023-03-18T16:12:33.980Z"
   },
   {
    "duration": 6,
    "start_time": "2023-03-18T16:12:33.985Z"
   },
   {
    "duration": 7,
    "start_time": "2023-03-18T16:12:33.993Z"
   },
   {
    "duration": 39,
    "start_time": "2023-03-18T16:12:34.002Z"
   },
   {
    "duration": 22,
    "start_time": "2023-03-18T16:12:34.044Z"
   },
   {
    "duration": 5,
    "start_time": "2023-03-18T16:12:34.067Z"
   },
   {
    "duration": 10,
    "start_time": "2023-03-18T16:12:34.074Z"
   },
   {
    "duration": 5,
    "start_time": "2023-03-18T16:12:34.085Z"
   },
   {
    "duration": 24,
    "start_time": "2023-03-18T16:12:34.091Z"
   },
   {
    "duration": 458,
    "start_time": "2023-03-18T16:12:34.141Z"
   },
   {
    "duration": 200,
    "start_time": "2023-03-18T16:12:34.601Z"
   },
   {
    "duration": 324,
    "start_time": "2023-03-18T16:12:34.803Z"
   },
   {
    "duration": 244,
    "start_time": "2023-03-18T16:12:35.129Z"
   },
   {
    "duration": 300,
    "start_time": "2023-03-18T16:12:35.375Z"
   },
   {
    "duration": 229,
    "start_time": "2023-03-18T16:12:35.677Z"
   },
   {
    "duration": 92,
    "start_time": "2023-03-18T16:12:35.908Z"
   },
   {
    "duration": 5,
    "start_time": "2023-03-18T16:12:36.002Z"
   },
   {
    "duration": 104,
    "start_time": "2023-03-18T16:12:36.009Z"
   },
   {
    "duration": 0,
    "start_time": "2023-03-18T16:12:36.115Z"
   },
   {
    "duration": 0,
    "start_time": "2023-03-18T16:12:36.117Z"
   },
   {
    "duration": 0,
    "start_time": "2023-03-18T16:12:36.119Z"
   },
   {
    "duration": 0,
    "start_time": "2023-03-18T16:12:36.120Z"
   },
   {
    "duration": 0,
    "start_time": "2023-03-18T16:12:36.121Z"
   },
   {
    "duration": 0,
    "start_time": "2023-03-18T16:12:36.123Z"
   },
   {
    "duration": 0,
    "start_time": "2023-03-18T16:12:36.124Z"
   },
   {
    "duration": 93,
    "start_time": "2023-03-18T16:13:51.114Z"
   },
   {
    "duration": 7,
    "start_time": "2023-03-18T16:14:14.023Z"
   },
   {
    "duration": 133,
    "start_time": "2023-03-18T16:14:29.633Z"
   },
   {
    "duration": 130,
    "start_time": "2023-03-18T16:14:43.236Z"
   },
   {
    "duration": 22,
    "start_time": "2023-03-18T16:15:34.735Z"
   },
   {
    "duration": 95,
    "start_time": "2023-03-18T16:15:54.209Z"
   },
   {
    "duration": 13,
    "start_time": "2023-03-18T16:16:05.109Z"
   },
   {
    "duration": 95,
    "start_time": "2023-03-18T16:16:17.425Z"
   },
   {
    "duration": 19,
    "start_time": "2023-03-18T16:17:38.406Z"
   },
   {
    "duration": 7,
    "start_time": "2023-03-18T16:19:10.994Z"
   },
   {
    "duration": 10,
    "start_time": "2023-03-18T16:19:19.806Z"
   },
   {
    "duration": 14,
    "start_time": "2023-03-18T16:19:29.430Z"
   },
   {
    "duration": 11,
    "start_time": "2023-03-18T16:19:46.220Z"
   },
   {
    "duration": 9,
    "start_time": "2023-03-18T16:19:59.918Z"
   },
   {
    "duration": 11,
    "start_time": "2023-03-18T16:20:13.403Z"
   },
   {
    "duration": 21,
    "start_time": "2023-03-18T16:20:28.799Z"
   },
   {
    "duration": 5,
    "start_time": "2023-03-18T16:21:17.390Z"
   },
   {
    "duration": 152,
    "start_time": "2023-03-18T16:22:26.110Z"
   },
   {
    "duration": 6,
    "start_time": "2023-03-18T16:23:20.052Z"
   },
   {
    "duration": 9,
    "start_time": "2023-03-18T16:23:43.591Z"
   },
   {
    "duration": 9,
    "start_time": "2023-03-18T16:25:07.518Z"
   },
   {
    "duration": 5,
    "start_time": "2023-03-18T16:26:25.216Z"
   },
   {
    "duration": 110,
    "start_time": "2023-03-18T16:27:13.206Z"
   },
   {
    "duration": 14,
    "start_time": "2023-03-18T16:28:48.816Z"
   },
   {
    "duration": 36,
    "start_time": "2023-03-18T16:33:48.850Z"
   },
   {
    "duration": 32,
    "start_time": "2023-03-18T16:34:18.819Z"
   },
   {
    "duration": 41,
    "start_time": "2023-03-18T16:34:39.251Z"
   },
   {
    "duration": 91,
    "start_time": "2023-03-18T16:38:21.035Z"
   },
   {
    "duration": 9,
    "start_time": "2023-03-18T16:39:45.306Z"
   },
   {
    "duration": 100,
    "start_time": "2023-03-18T16:39:55.543Z"
   },
   {
    "duration": 30,
    "start_time": "2023-03-18T16:40:12.623Z"
   },
   {
    "duration": 19,
    "start_time": "2023-03-18T16:40:57.949Z"
   },
   {
    "duration": 6,
    "start_time": "2023-03-18T16:44:16.578Z"
   },
   {
    "duration": 129,
    "start_time": "2023-03-18T16:44:31.206Z"
   },
   {
    "duration": 98,
    "start_time": "2023-03-18T16:45:26.144Z"
   },
   {
    "duration": 11,
    "start_time": "2023-03-18T16:45:37.374Z"
   },
   {
    "duration": 11,
    "start_time": "2023-03-18T16:45:57.278Z"
   },
   {
    "duration": 32,
    "start_time": "2023-03-18T16:46:27.295Z"
   },
   {
    "duration": 14,
    "start_time": "2023-03-18T16:46:45.174Z"
   },
   {
    "duration": 373,
    "start_time": "2023-03-18T16:59:25.601Z"
   },
   {
    "duration": 1265,
    "start_time": "2023-03-18T17:00:20.007Z"
   },
   {
    "duration": 75,
    "start_time": "2023-03-18T17:00:21.274Z"
   },
   {
    "duration": 4,
    "start_time": "2023-03-18T17:00:21.351Z"
   },
   {
    "duration": 48,
    "start_time": "2023-03-18T17:00:21.357Z"
   },
   {
    "duration": 43,
    "start_time": "2023-03-18T17:00:21.408Z"
   },
   {
    "duration": 12,
    "start_time": "2023-03-18T17:00:21.454Z"
   },
   {
    "duration": 37,
    "start_time": "2023-03-18T17:00:21.468Z"
   },
   {
    "duration": 4,
    "start_time": "2023-03-18T17:00:21.507Z"
   },
   {
    "duration": 13,
    "start_time": "2023-03-18T17:00:21.513Z"
   },
   {
    "duration": 8,
    "start_time": "2023-03-18T17:00:21.541Z"
   },
   {
    "duration": 8,
    "start_time": "2023-03-18T17:00:21.551Z"
   },
   {
    "duration": 22,
    "start_time": "2023-03-18T17:00:21.561Z"
   },
   {
    "duration": 27,
    "start_time": "2023-03-18T17:00:21.585Z"
   },
   {
    "duration": 13,
    "start_time": "2023-03-18T17:00:21.616Z"
   },
   {
    "duration": 20,
    "start_time": "2023-03-18T17:00:21.631Z"
   },
   {
    "duration": 121,
    "start_time": "2023-03-18T17:00:21.653Z"
   },
   {
    "duration": 584,
    "start_time": "2023-03-18T17:00:21.776Z"
   },
   {
    "duration": 211,
    "start_time": "2023-03-18T17:00:22.361Z"
   },
   {
    "duration": 312,
    "start_time": "2023-03-18T17:00:22.574Z"
   },
   {
    "duration": 237,
    "start_time": "2023-03-18T17:00:22.888Z"
   },
   {
    "duration": 350,
    "start_time": "2023-03-18T17:00:23.126Z"
   },
   {
    "duration": 134,
    "start_time": "2023-03-18T17:00:23.478Z"
   },
   {
    "duration": 10,
    "start_time": "2023-03-18T17:00:23.614Z"
   },
   {
    "duration": 19,
    "start_time": "2023-03-18T17:00:23.625Z"
   },
   {
    "duration": 6,
    "start_time": "2023-03-18T17:00:23.646Z"
   },
   {
    "duration": 254,
    "start_time": "2023-03-18T17:00:23.653Z"
   },
   {
    "duration": 5,
    "start_time": "2023-03-18T17:00:23.909Z"
   },
   {
    "duration": 37,
    "start_time": "2023-03-18T17:00:23.916Z"
   },
   {
    "duration": 110,
    "start_time": "2023-03-18T17:00:23.955Z"
   },
   {
    "duration": 0,
    "start_time": "2023-03-18T17:00:24.067Z"
   },
   {
    "duration": 0,
    "start_time": "2023-03-18T17:00:24.069Z"
   },
   {
    "duration": 1,
    "start_time": "2023-03-18T17:00:24.070Z"
   },
   {
    "duration": 0,
    "start_time": "2023-03-18T17:00:24.072Z"
   },
   {
    "duration": 0,
    "start_time": "2023-03-18T17:00:24.073Z"
   },
   {
    "duration": 0,
    "start_time": "2023-03-18T17:00:24.075Z"
   },
   {
    "duration": 1198,
    "start_time": "2023-03-18T17:01:42.160Z"
   },
   {
    "duration": 80,
    "start_time": "2023-03-18T17:01:43.361Z"
   },
   {
    "duration": 5,
    "start_time": "2023-03-18T17:01:43.443Z"
   },
   {
    "duration": 50,
    "start_time": "2023-03-18T17:01:43.451Z"
   },
   {
    "duration": 37,
    "start_time": "2023-03-18T17:01:43.505Z"
   },
   {
    "duration": 24,
    "start_time": "2023-03-18T17:01:43.544Z"
   },
   {
    "duration": 32,
    "start_time": "2023-03-18T17:01:43.570Z"
   },
   {
    "duration": 13,
    "start_time": "2023-03-18T17:01:43.603Z"
   },
   {
    "duration": 11,
    "start_time": "2023-03-18T17:01:43.617Z"
   },
   {
    "duration": 21,
    "start_time": "2023-03-18T17:01:43.630Z"
   },
   {
    "duration": 11,
    "start_time": "2023-03-18T17:01:43.655Z"
   },
   {
    "duration": 10,
    "start_time": "2023-03-18T17:01:43.668Z"
   },
   {
    "duration": 7,
    "start_time": "2023-03-18T17:01:43.681Z"
   },
   {
    "duration": 23,
    "start_time": "2023-03-18T17:01:43.693Z"
   },
   {
    "duration": 36,
    "start_time": "2023-03-18T17:01:43.718Z"
   },
   {
    "duration": 136,
    "start_time": "2023-03-18T17:01:43.757Z"
   },
   {
    "duration": 645,
    "start_time": "2023-03-18T17:01:43.894Z"
   },
   {
    "duration": 236,
    "start_time": "2023-03-18T17:01:44.542Z"
   },
   {
    "duration": 323,
    "start_time": "2023-03-18T17:01:44.779Z"
   },
   {
    "duration": 266,
    "start_time": "2023-03-18T17:01:45.104Z"
   },
   {
    "duration": 313,
    "start_time": "2023-03-18T17:01:45.373Z"
   },
   {
    "duration": 172,
    "start_time": "2023-03-18T17:01:45.688Z"
   },
   {
    "duration": 9,
    "start_time": "2023-03-18T17:01:45.862Z"
   },
   {
    "duration": 20,
    "start_time": "2023-03-18T17:01:45.873Z"
   },
   {
    "duration": 15,
    "start_time": "2023-03-18T17:01:45.894Z"
   },
   {
    "duration": 245,
    "start_time": "2023-03-18T17:01:45.910Z"
   },
   {
    "duration": 7,
    "start_time": "2023-03-18T17:01:46.158Z"
   },
   {
    "duration": 16,
    "start_time": "2023-03-18T17:01:46.166Z"
   },
   {
    "duration": 406,
    "start_time": "2023-03-18T17:01:46.184Z"
   },
   {
    "duration": 41,
    "start_time": "2023-03-18T17:01:46.592Z"
   },
   {
    "duration": 16,
    "start_time": "2023-03-18T17:01:46.642Z"
   },
   {
    "duration": 8,
    "start_time": "2023-03-18T17:01:46.661Z"
   },
   {
    "duration": 30,
    "start_time": "2023-03-18T17:01:46.670Z"
   },
   {
    "duration": 47,
    "start_time": "2023-03-18T17:01:46.702Z"
   },
   {
    "duration": 1169,
    "start_time": "2023-03-19T11:16:22.742Z"
   },
   {
    "duration": 79,
    "start_time": "2023-03-19T11:16:23.914Z"
   },
   {
    "duration": 4,
    "start_time": "2023-03-19T11:16:23.996Z"
   },
   {
    "duration": 41,
    "start_time": "2023-03-19T11:16:24.002Z"
   },
   {
    "duration": 33,
    "start_time": "2023-03-19T11:16:24.045Z"
   },
   {
    "duration": 16,
    "start_time": "2023-03-19T11:16:24.080Z"
   },
   {
    "duration": 22,
    "start_time": "2023-03-19T11:16:24.099Z"
   },
   {
    "duration": 5,
    "start_time": "2023-03-19T11:16:24.123Z"
   },
   {
    "duration": 37,
    "start_time": "2023-03-19T11:16:24.130Z"
   },
   {
    "duration": 8,
    "start_time": "2023-03-19T11:16:24.168Z"
   },
   {
    "duration": 7,
    "start_time": "2023-03-19T11:16:24.178Z"
   },
   {
    "duration": 9,
    "start_time": "2023-03-19T11:16:24.186Z"
   },
   {
    "duration": 10,
    "start_time": "2023-03-19T11:16:24.197Z"
   },
   {
    "duration": 11,
    "start_time": "2023-03-19T11:16:24.209Z"
   },
   {
    "duration": 6,
    "start_time": "2023-03-19T11:16:24.222Z"
   },
   {
    "duration": 133,
    "start_time": "2023-03-19T11:16:24.229Z"
   },
   {
    "duration": 556,
    "start_time": "2023-03-19T11:16:24.364Z"
   },
   {
    "duration": 212,
    "start_time": "2023-03-19T11:16:24.922Z"
   },
   {
    "duration": 325,
    "start_time": "2023-03-19T11:16:25.136Z"
   },
   {
    "duration": 224,
    "start_time": "2023-03-19T11:16:25.464Z"
   },
   {
    "duration": 297,
    "start_time": "2023-03-19T11:16:25.690Z"
   },
   {
    "duration": 151,
    "start_time": "2023-03-19T11:16:25.989Z"
   },
   {
    "duration": 22,
    "start_time": "2023-03-19T11:16:26.142Z"
   },
   {
    "duration": 6,
    "start_time": "2023-03-19T11:16:26.166Z"
   },
   {
    "duration": 6,
    "start_time": "2023-03-19T11:16:26.174Z"
   },
   {
    "duration": 252,
    "start_time": "2023-03-19T11:16:26.181Z"
   },
   {
    "duration": 5,
    "start_time": "2023-03-19T11:16:26.435Z"
   },
   {
    "duration": 6,
    "start_time": "2023-03-19T11:16:26.441Z"
   },
   {
    "duration": 354,
    "start_time": "2023-03-19T11:16:26.461Z"
   },
   {
    "duration": 25,
    "start_time": "2023-03-19T11:16:26.817Z"
   },
   {
    "duration": 22,
    "start_time": "2023-03-19T11:16:26.844Z"
   },
   {
    "duration": 8,
    "start_time": "2023-03-19T11:16:26.868Z"
   },
   {
    "duration": 27,
    "start_time": "2023-03-19T11:16:26.878Z"
   },
   {
    "duration": 13,
    "start_time": "2023-03-19T11:16:26.907Z"
   },
   {
    "duration": 1444,
    "start_time": "2023-03-19T11:24:21.833Z"
   }
  ],
  "kernelspec": {
   "display_name": "Python 3 (ipykernel)",
   "language": "python",
   "name": "python3"
  },
  "language_info": {
   "codemirror_mode": {
    "name": "ipython",
    "version": 3
   },
   "file_extension": ".py",
   "mimetype": "text/x-python",
   "name": "python",
   "nbconvert_exporter": "python",
   "pygments_lexer": "ipython3",
   "version": "3.9.13"
  },
  "toc": {
   "base_numbering": 1,
   "nav_menu": {},
   "number_sections": true,
   "sideBar": true,
   "skip_h1_title": true,
   "title_cell": "Table of Contents",
   "title_sidebar": "Contents",
   "toc_cell": false,
   "toc_position": {
    "height": "calc(100% - 180px)",
    "left": "10px",
    "top": "150px",
    "width": "259.417px"
   },
   "toc_section_display": true,
   "toc_window_display": true
  }
 },
 "nbformat": 4,
 "nbformat_minor": 5
}
