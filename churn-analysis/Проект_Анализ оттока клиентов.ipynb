{
 "cells": [
  {
   "cell_type": "markdown",
   "id": "76628ef3",
   "metadata": {},
   "source": [
    "# Анализ оттока клиентов банка"
   ]
  },
  {
   "cell_type": "markdown",
   "id": "5ccda7c4",
   "metadata": {},
   "source": [
    "## 1. Цель проекта \n",
    "Исследовать на базе данных банка параметры клиента и влияние их на отток. Дать рекомендации менеджерам из отдела маркетинга касательно сегментов, которые можно таргетировать, чтобы снизить отток клиентов."
   ]
  },
  {
   "cell_type": "code",
   "execution_count": 1,
   "id": "d1719ffa",
   "metadata": {},
   "outputs": [],
   "source": [
    "import pandas as pd\n",
    "import matplotlib.pyplot as plt \n",
    "import seaborn as sns  \n",
    "import numpy as np \n",
    "from scipy import stats as st\n",
    "import warnings \n",
    "warnings.simplefilter('ignore')"
   ]
  },
  {
   "cell_type": "markdown",
   "id": "357d4cb8",
   "metadata": {},
   "source": [
    "## 2.Знакомство с данными "
   ]
  },
  {
   "cell_type": "code",
   "execution_count": 3,
   "id": "41283ea2",
   "metadata": {},
   "outputs": [
    {
     "data": {
      "text/html": [
       "<div>\n",
       "<style scoped>\n",
       "    .dataframe tbody tr th:only-of-type {\n",
       "        vertical-align: middle;\n",
       "    }\n",
       "\n",
       "    .dataframe tbody tr th {\n",
       "        vertical-align: top;\n",
       "    }\n",
       "\n",
       "    .dataframe thead th {\n",
       "        text-align: right;\n",
       "    }\n",
       "</style>\n",
       "<table border=\"1\" class=\"dataframe\">\n",
       "  <thead>\n",
       "    <tr style=\"text-align: right;\">\n",
       "      <th></th>\n",
       "      <th>USERID</th>\n",
       "      <th>score</th>\n",
       "      <th>city</th>\n",
       "      <th>gender</th>\n",
       "      <th>age</th>\n",
       "      <th>equity</th>\n",
       "      <th>balance</th>\n",
       "      <th>products</th>\n",
       "      <th>credit_card</th>\n",
       "      <th>last_activity</th>\n",
       "      <th>EST_SALARY</th>\n",
       "      <th>churn</th>\n",
       "    </tr>\n",
       "  </thead>\n",
       "  <tbody>\n",
       "    <tr>\n",
       "      <th>0</th>\n",
       "      <td>183012</td>\n",
       "      <td>850.0</td>\n",
       "      <td>Рыбинск</td>\n",
       "      <td>Ж</td>\n",
       "      <td>25.0</td>\n",
       "      <td>1</td>\n",
       "      <td>59214.82</td>\n",
       "      <td>2</td>\n",
       "      <td>0</td>\n",
       "      <td>1</td>\n",
       "      <td>75719.14</td>\n",
       "      <td>1</td>\n",
       "    </tr>\n",
       "    <tr>\n",
       "      <th>1</th>\n",
       "      <td>146556</td>\n",
       "      <td>861.0</td>\n",
       "      <td>Рыбинск</td>\n",
       "      <td>Ж</td>\n",
       "      <td>37.0</td>\n",
       "      <td>5</td>\n",
       "      <td>850594.33</td>\n",
       "      <td>3</td>\n",
       "      <td>1</td>\n",
       "      <td>0</td>\n",
       "      <td>86621.77</td>\n",
       "      <td>0</td>\n",
       "    </tr>\n",
       "    <tr>\n",
       "      <th>2</th>\n",
       "      <td>120722</td>\n",
       "      <td>892.0</td>\n",
       "      <td>Рыбинск</td>\n",
       "      <td>Ж</td>\n",
       "      <td>30.0</td>\n",
       "      <td>0</td>\n",
       "      <td>NaN</td>\n",
       "      <td>1</td>\n",
       "      <td>1</td>\n",
       "      <td>1</td>\n",
       "      <td>107683.34</td>\n",
       "      <td>0</td>\n",
       "    </tr>\n",
       "    <tr>\n",
       "      <th>3</th>\n",
       "      <td>225363</td>\n",
       "      <td>866.0</td>\n",
       "      <td>Ярославль</td>\n",
       "      <td>Ж</td>\n",
       "      <td>51.0</td>\n",
       "      <td>5</td>\n",
       "      <td>1524746.26</td>\n",
       "      <td>2</td>\n",
       "      <td>0</td>\n",
       "      <td>1</td>\n",
       "      <td>174423.53</td>\n",
       "      <td>1</td>\n",
       "    </tr>\n",
       "    <tr>\n",
       "      <th>4</th>\n",
       "      <td>157978</td>\n",
       "      <td>730.0</td>\n",
       "      <td>Ярославль</td>\n",
       "      <td>М</td>\n",
       "      <td>34.0</td>\n",
       "      <td>5</td>\n",
       "      <td>174.00</td>\n",
       "      <td>1</td>\n",
       "      <td>1</td>\n",
       "      <td>0</td>\n",
       "      <td>67353.16</td>\n",
       "      <td>1</td>\n",
       "    </tr>\n",
       "  </tbody>\n",
       "</table>\n",
       "</div>"
      ],
      "text/plain": [
       "   USERID  score       city gender   age  equity     balance  products  \\\n",
       "0  183012  850.0    Рыбинск      Ж  25.0       1    59214.82         2   \n",
       "1  146556  861.0    Рыбинск      Ж  37.0       5   850594.33         3   \n",
       "2  120722  892.0    Рыбинск      Ж  30.0       0         NaN         1   \n",
       "3  225363  866.0  Ярославль      Ж  51.0       5  1524746.26         2   \n",
       "4  157978  730.0  Ярославль      М  34.0       5      174.00         1   \n",
       "\n",
       "   credit_card  last_activity  EST_SALARY  churn  \n",
       "0            0              1    75719.14      1  \n",
       "1            1              0    86621.77      0  \n",
       "2            1              1   107683.34      0  \n",
       "3            0              1   174423.53      1  \n",
       "4            1              0    67353.16      1  "
      ]
     },
     "execution_count": 3,
     "metadata": {},
     "output_type": "execute_result"
    }
   ],
   "source": [
    "# посмотрим на первые 5 строк \n",
    "df.head()"
   ]
  },
  {
   "cell_type": "code",
   "execution_count": 4,
   "id": "89a007cd",
   "metadata": {},
   "outputs": [],
   "source": [
    "# изменим в этих столбцах единицу измерения на тысячу\n",
    "df['balance'] = df['balance'] / 1000 \n",
    "df['EST_SALARY'] = df['EST_SALARY'] / 1000"
   ]
  },
  {
   "cell_type": "markdown",
   "id": "7c6c52bc",
   "metadata": {},
   "source": [
    "Название колонок нужно будет привести к нижнему регистру."
   ]
  },
  {
   "cell_type": "code",
   "execution_count": 5,
   "id": "8685bd94",
   "metadata": {},
   "outputs": [
    {
     "name": "stdout",
     "output_type": "stream",
     "text": [
      "<class 'pandas.core.frame.DataFrame'>\n",
      "RangeIndex: 10000 entries, 0 to 9999\n",
      "Data columns (total 12 columns):\n",
      " #   Column         Non-Null Count  Dtype  \n",
      "---  ------         --------------  -----  \n",
      " 0   USERID         10000 non-null  int64  \n",
      " 1   score          10000 non-null  float64\n",
      " 2   city           10000 non-null  object \n",
      " 3   gender         10000 non-null  object \n",
      " 4   age            9974 non-null   float64\n",
      " 5   equity         10000 non-null  int64  \n",
      " 6   balance        7705 non-null   float64\n",
      " 7   products       10000 non-null  int64  \n",
      " 8   credit_card    10000 non-null  int64  \n",
      " 9   last_activity  10000 non-null  int64  \n",
      " 10  EST_SALARY     10000 non-null  float64\n",
      " 11  churn          10000 non-null  int64  \n",
      "dtypes: float64(4), int64(6), object(2)\n",
      "memory usage: 937.6+ KB\n"
     ]
    }
   ],
   "source": [
    "df.info()"
   ]
  },
  {
   "cell_type": "markdown",
   "id": "cc05ddb7",
   "metadata": {},
   "source": [
    "В датасете 10000 строк, 11 столбцов. Есть пропуски в столбцах: age, balance. Тип данных соответствует значениям в столбцах, \n",
    "единственное можно поменять тип в столбце age на int64. "
   ]
  },
  {
   "cell_type": "code",
   "execution_count": 6,
   "id": "ab542b2a",
   "metadata": {},
   "outputs": [
    {
     "data": {
      "text/html": [
       "<div>\n",
       "<style scoped>\n",
       "    .dataframe tbody tr th:only-of-type {\n",
       "        vertical-align: middle;\n",
       "    }\n",
       "\n",
       "    .dataframe tbody tr th {\n",
       "        vertical-align: top;\n",
       "    }\n",
       "\n",
       "    .dataframe thead th {\n",
       "        text-align: right;\n",
       "    }\n",
       "</style>\n",
       "<table border=\"1\" class=\"dataframe\">\n",
       "  <thead>\n",
       "    <tr style=\"text-align: right;\">\n",
       "      <th></th>\n",
       "      <th>USERID</th>\n",
       "      <th>score</th>\n",
       "      <th>age</th>\n",
       "      <th>equity</th>\n",
       "      <th>balance</th>\n",
       "      <th>products</th>\n",
       "      <th>credit_card</th>\n",
       "      <th>last_activity</th>\n",
       "      <th>EST_SALARY</th>\n",
       "      <th>churn</th>\n",
       "    </tr>\n",
       "  </thead>\n",
       "  <tbody>\n",
       "    <tr>\n",
       "      <th>count</th>\n",
       "      <td>10000.00000</td>\n",
       "      <td>10000.000000</td>\n",
       "      <td>9974.000000</td>\n",
       "      <td>10000.000000</td>\n",
       "      <td>7705.000000</td>\n",
       "      <td>10000.000000</td>\n",
       "      <td>10000.000000</td>\n",
       "      <td>10000.000000</td>\n",
       "      <td>10000.000000</td>\n",
       "      <td>10000.000000</td>\n",
       "    </tr>\n",
       "    <tr>\n",
       "      <th>mean</th>\n",
       "      <td>171814.71260</td>\n",
       "      <td>848.699400</td>\n",
       "      <td>42.734409</td>\n",
       "      <td>2.627600</td>\n",
       "      <td>827.794307</td>\n",
       "      <td>1.870100</td>\n",
       "      <td>0.680400</td>\n",
       "      <td>0.523500</td>\n",
       "      <td>147.866886</td>\n",
       "      <td>0.182000</td>\n",
       "    </tr>\n",
       "    <tr>\n",
       "      <th>std</th>\n",
       "      <td>33708.23812</td>\n",
       "      <td>65.448519</td>\n",
       "      <td>12.179971</td>\n",
       "      <td>1.980836</td>\n",
       "      <td>1980.614147</td>\n",
       "      <td>0.792647</td>\n",
       "      <td>0.466345</td>\n",
       "      <td>0.499472</td>\n",
       "      <td>139.388511</td>\n",
       "      <td>0.385864</td>\n",
       "    </tr>\n",
       "    <tr>\n",
       "      <th>min</th>\n",
       "      <td>94561.00000</td>\n",
       "      <td>642.000000</td>\n",
       "      <td>18.000000</td>\n",
       "      <td>0.000000</td>\n",
       "      <td>0.000000</td>\n",
       "      <td>0.000000</td>\n",
       "      <td>0.000000</td>\n",
       "      <td>0.000000</td>\n",
       "      <td>2.546300</td>\n",
       "      <td>0.000000</td>\n",
       "    </tr>\n",
       "    <tr>\n",
       "      <th>25%</th>\n",
       "      <td>142810.25000</td>\n",
       "      <td>802.000000</td>\n",
       "      <td>33.000000</td>\n",
       "      <td>0.000000</td>\n",
       "      <td>295.554160</td>\n",
       "      <td>1.000000</td>\n",
       "      <td>0.000000</td>\n",
       "      <td>0.000000</td>\n",
       "      <td>75.251900</td>\n",
       "      <td>0.000000</td>\n",
       "    </tr>\n",
       "    <tr>\n",
       "      <th>50%</th>\n",
       "      <td>172728.00000</td>\n",
       "      <td>853.000000</td>\n",
       "      <td>40.000000</td>\n",
       "      <td>3.000000</td>\n",
       "      <td>524.272200</td>\n",
       "      <td>2.000000</td>\n",
       "      <td>1.000000</td>\n",
       "      <td>1.000000</td>\n",
       "      <td>119.658105</td>\n",
       "      <td>0.000000</td>\n",
       "    </tr>\n",
       "    <tr>\n",
       "      <th>75%</th>\n",
       "      <td>201261.75000</td>\n",
       "      <td>900.000000</td>\n",
       "      <td>51.000000</td>\n",
       "      <td>4.000000</td>\n",
       "      <td>980.705850</td>\n",
       "      <td>2.000000</td>\n",
       "      <td>1.000000</td>\n",
       "      <td>1.000000</td>\n",
       "      <td>174.500542</td>\n",
       "      <td>0.000000</td>\n",
       "    </tr>\n",
       "    <tr>\n",
       "      <th>max</th>\n",
       "      <td>229145.00000</td>\n",
       "      <td>1000.000000</td>\n",
       "      <td>86.000000</td>\n",
       "      <td>9.000000</td>\n",
       "      <td>119113.552010</td>\n",
       "      <td>5.000000</td>\n",
       "      <td>1.000000</td>\n",
       "      <td>1.000000</td>\n",
       "      <td>1395.064450</td>\n",
       "      <td>1.000000</td>\n",
       "    </tr>\n",
       "  </tbody>\n",
       "</table>\n",
       "</div>"
      ],
      "text/plain": [
       "             USERID         score          age        equity        balance  \\\n",
       "count   10000.00000  10000.000000  9974.000000  10000.000000    7705.000000   \n",
       "mean   171814.71260    848.699400    42.734409      2.627600     827.794307   \n",
       "std     33708.23812     65.448519    12.179971      1.980836    1980.614147   \n",
       "min     94561.00000    642.000000    18.000000      0.000000       0.000000   \n",
       "25%    142810.25000    802.000000    33.000000      0.000000     295.554160   \n",
       "50%    172728.00000    853.000000    40.000000      3.000000     524.272200   \n",
       "75%    201261.75000    900.000000    51.000000      4.000000     980.705850   \n",
       "max    229145.00000   1000.000000    86.000000      9.000000  119113.552010   \n",
       "\n",
       "           products   credit_card  last_activity    EST_SALARY         churn  \n",
       "count  10000.000000  10000.000000   10000.000000  10000.000000  10000.000000  \n",
       "mean       1.870100      0.680400       0.523500    147.866886      0.182000  \n",
       "std        0.792647      0.466345       0.499472    139.388511      0.385864  \n",
       "min        0.000000      0.000000       0.000000      2.546300      0.000000  \n",
       "25%        1.000000      0.000000       0.000000     75.251900      0.000000  \n",
       "50%        2.000000      1.000000       1.000000    119.658105      0.000000  \n",
       "75%        2.000000      1.000000       1.000000    174.500542      0.000000  \n",
       "max        5.000000      1.000000       1.000000   1395.064450      1.000000  "
      ]
     },
     "execution_count": 6,
     "metadata": {},
     "output_type": "execute_result"
    }
   ],
   "source": [
    "# посмотрим на распределение в столбцах с числами \n",
    "df.describe()"
   ]
  },
  {
   "cell_type": "markdown",
   "id": "b111db2f",
   "metadata": {},
   "source": [
    "На первый взгляд можем отметить: медиана по возрасту - 40, мин возраст - 18; медиана по количеству продуктов - 2, медиана по балансу на счете - около 524 тыс руб, по зарплате - 119 тыс руб. Также около 18% от общего количества - ушедшие клиенты, у 68% есть кредитная карта. "
   ]
  },
  {
   "cell_type": "markdown",
   "id": "e7b8ee8a",
   "metadata": {},
   "source": [
    "## 3. Предобработка данных \n",
    "- исследовать пропущенные значения;\n",
    "- исследовать соответствие типов;\n",
    "- исследовать дубликаты;\n",
    "- проверить корректность наименований колонок;\n",
    "- проверить наличие выбросов;\n",
    "- кодирование"
   ]
  },
  {
   "cell_type": "code",
   "execution_count": 7,
   "id": "5458c6a4",
   "metadata": {},
   "outputs": [],
   "source": [
    "# приведем наименования столбцов к нижнему регистру \n",
    "df.columns = [x.lower() for x in df.columns]"
   ]
  },
  {
   "cell_type": "markdown",
   "id": "3f33d61c",
   "metadata": {},
   "source": [
    "### Пропущенные значения"
   ]
  },
  {
   "cell_type": "code",
   "execution_count": 8,
   "id": "a02e3cb6",
   "metadata": {},
   "outputs": [
    {
     "data": {
      "text/plain": [
       "balance          2295\n",
       "age                26\n",
       "userid              0\n",
       "score               0\n",
       "city                0\n",
       "gender              0\n",
       "equity              0\n",
       "products            0\n",
       "credit_card         0\n",
       "last_activity       0\n",
       "est_salary          0\n",
       "churn               0\n",
       "dtype: int64"
      ]
     },
     "execution_count": 8,
     "metadata": {},
     "output_type": "execute_result"
    }
   ],
   "source": [
    "# посмотрим на количество пропущенных значений\n",
    "df.isna().sum().sort_values(ascending=False)"
   ]
  },
  {
   "cell_type": "markdown",
   "id": "618f1107",
   "metadata": {},
   "source": [
    "В столбце balance - 2295 пропусков (~23%). \n",
    "Посмотрим как эти пропуски зависят от имеющихся данных, после чего решим что делаем с пропусками."
   ]
  },
  {
   "cell_type": "code",
   "execution_count": 9,
   "id": "806ce271",
   "metadata": {},
   "outputs": [],
   "source": [
    "# создаем функцию, чтоб создать столбец с проверкой на пропуски\n",
    "def nan_check(x):\n",
    "    if np.isnan(x):\n",
    "        return 'пропуск'\n",
    "    else:\n",
    "        return 'есть баланс'"
   ]
  },
  {
   "cell_type": "code",
   "execution_count": 10,
   "id": "f6bc97e8",
   "metadata": {},
   "outputs": [],
   "source": [
    "# создаем столбец\n",
    "df['balance_check'] = df['balance'].apply(nan_check)"
   ]
  },
  {
   "cell_type": "code",
   "execution_count": 11,
   "id": "33f7707f",
   "metadata": {},
   "outputs": [
    {
     "data": {
      "text/html": [
       "<div>\n",
       "<style scoped>\n",
       "    .dataframe tbody tr th:only-of-type {\n",
       "        vertical-align: middle;\n",
       "    }\n",
       "\n",
       "    .dataframe tbody tr th {\n",
       "        vertical-align: top;\n",
       "    }\n",
       "\n",
       "    .dataframe thead th {\n",
       "        text-align: right;\n",
       "    }\n",
       "</style>\n",
       "<table border=\"1\" class=\"dataframe\">\n",
       "  <thead>\n",
       "    <tr style=\"text-align: right;\">\n",
       "      <th>balance_check</th>\n",
       "      <th>есть баланс</th>\n",
       "      <th>пропуск</th>\n",
       "    </tr>\n",
       "  </thead>\n",
       "  <tbody>\n",
       "    <tr>\n",
       "      <th>age</th>\n",
       "      <td>42.924366</td>\n",
       "      <td>42.093023</td>\n",
       "    </tr>\n",
       "    <tr>\n",
       "      <th>churn</th>\n",
       "      <td>0.234523</td>\n",
       "      <td>0.005664</td>\n",
       "    </tr>\n",
       "    <tr>\n",
       "      <th>city</th>\n",
       "      <td>([Ярославль], [4421])</td>\n",
       "      <td>([Ярославль], [1467])</td>\n",
       "    </tr>\n",
       "    <tr>\n",
       "      <th>credit_card</th>\n",
       "      <td>1</td>\n",
       "      <td>1</td>\n",
       "    </tr>\n",
       "    <tr>\n",
       "      <th>equity</th>\n",
       "      <td>4</td>\n",
       "      <td>0</td>\n",
       "    </tr>\n",
       "    <tr>\n",
       "      <th>est_salary</th>\n",
       "      <td>106.2222</td>\n",
       "      <td>174.16068</td>\n",
       "    </tr>\n",
       "    <tr>\n",
       "      <th>gender</th>\n",
       "      <td>([Ж], [3982])</td>\n",
       "      <td>([М], [1282])</td>\n",
       "    </tr>\n",
       "    <tr>\n",
       "      <th>last_activity</th>\n",
       "      <td>1</td>\n",
       "      <td>1</td>\n",
       "    </tr>\n",
       "    <tr>\n",
       "      <th>products</th>\n",
       "      <td>2</td>\n",
       "      <td>1</td>\n",
       "    </tr>\n",
       "  </tbody>\n",
       "</table>\n",
       "</div>"
      ],
      "text/plain": [
       "balance_check            есть баланс                пропуск\n",
       "age                        42.924366              42.093023\n",
       "churn                       0.234523               0.005664\n",
       "city           ([Ярославль], [4421])  ([Ярославль], [1467])\n",
       "credit_card                        1                      1\n",
       "equity                             4                      0\n",
       "est_salary                  106.2222              174.16068\n",
       "gender                 ([Ж], [3982])          ([М], [1282])\n",
       "last_activity                      1                      1\n",
       "products                           2                      1"
      ]
     },
     "execution_count": 11,
     "metadata": {},
     "output_type": "execute_result"
    }
   ],
   "source": [
    "# делаем свобную таблицу, где посмотрим на средние показатели в разрезе признака пропусков\n",
    "df.pivot_table(columns='balance_check', aggfunc={'age':'mean', \n",
    "                                                 'est_salary':'median', \n",
    "                                                 'equity':'median', \n",
    "                                                 'gender':st.mode, \n",
    "                                                 'city':st.mode, \n",
    "                                                 'churn':np.mean, \n",
    "                                                 'last_activity':'median', \n",
    "                                                 'products':'median', \n",
    "                                                 'credit_card':'median'})"
   ]
  },
  {
   "cell_type": "markdown",
   "id": "c8eedbc7",
   "metadata": {},
   "source": [
    "В разрезе признака пропусков нет разницы в возрасте, городе, последней активности, кредитной карте. Женщин и мужчин в обеих группах почти поровну, в столбце - Пропуск - медианная зарплата выше почти на 70 тыс руб, количество баллов собственности - 0 (против 4), заметнее всего показатель churn - около 0.5% (против 23%).\n",
    "Похоже на MNAR, пропуски зависят от показателя churn и est_salary, не можем ни удалить строки с пропусками, ни заполнить одним значением, т.к. это приведёт к заметным искажениям."
   ]
  },
  {
   "cell_type": "code",
   "execution_count": 12,
   "id": "586b9377",
   "metadata": {},
   "outputs": [
    {
     "data": {
      "text/plain": [
       "13"
      ]
     },
     "execution_count": 12,
     "metadata": {},
     "output_type": "execute_result"
    }
   ],
   "source": [
    "# посмотрим на количество пропусков в столбце balance среди отточных клиентов\n",
    "len(df[(df['churn'] == 1) & (df['balance'].isna())])"
   ]
  },
  {
   "cell_type": "markdown",
   "id": "92fbaf35",
   "metadata": {},
   "source": [
    "Ввиду того, что нас по большей части интересуют отточные клиенты, их мы будем анализировать и по ним делать выводы, 12 пропусков - незначительное количество от общего объема отточных клиентов, поэтому можем оставить все пропуски, результаты это не должно исказить. "
   ]
  },
  {
   "cell_type": "code",
   "execution_count": 13,
   "id": "45973640",
   "metadata": {},
   "outputs": [],
   "source": [
    "# строки с пропусками в столбце age можем удалить, ибо это незначительное количество. \n",
    "df = df.dropna(subset=['age'])"
   ]
  },
  {
   "cell_type": "markdown",
   "id": "a61a8b2c",
   "metadata": {},
   "source": [
    "### Тип данных"
   ]
  },
  {
   "cell_type": "code",
   "execution_count": 14,
   "id": "80775e92",
   "metadata": {},
   "outputs": [],
   "source": [
    "# изменим тип данных в столбце age \n",
    "df['age'] = df['age'].astype(int)"
   ]
  },
  {
   "cell_type": "markdown",
   "id": "4cecf01d",
   "metadata": {},
   "source": [
    "### Дубликаты"
   ]
  },
  {
   "cell_type": "code",
   "execution_count": 15,
   "id": "13c428dc",
   "metadata": {},
   "outputs": [
    {
     "data": {
      "text/plain": [
       "0"
      ]
     },
     "execution_count": 15,
     "metadata": {},
     "output_type": "execute_result"
    }
   ],
   "source": [
    "# проверим, есть ли явные дубликаты\n",
    "df.duplicated().sum()"
   ]
  },
  {
   "cell_type": "code",
   "execution_count": 16,
   "id": "f7e6b5f4",
   "metadata": {},
   "outputs": [
    {
     "data": {
      "text/plain": [
       "50"
      ]
     },
     "execution_count": 16,
     "metadata": {},
     "output_type": "execute_result"
    }
   ],
   "source": [
    "# проверим, есть ли дубликаты по столбцу userid\n",
    "df['userid'].duplicated().sum()"
   ]
  },
  {
   "cell_type": "markdown",
   "id": "ba6e3634",
   "metadata": {},
   "source": [
    "Есть 50 дубликатов, можем их удалить, это незначительное количество. "
   ]
  },
  {
   "cell_type": "code",
   "execution_count": 17,
   "id": "2ed4dff4",
   "metadata": {},
   "outputs": [],
   "source": [
    "df = df.drop_duplicates(subset=['userid'])"
   ]
  },
  {
   "cell_type": "markdown",
   "id": "1b826c4e",
   "metadata": {},
   "source": [
    "### Выбросы"
   ]
  },
  {
   "cell_type": "code",
   "execution_count": 18,
   "id": "282ff65e",
   "metadata": {},
   "outputs": [
    {
     "data": {
      "text/plain": [
       "count    9924.000000\n",
       "mean      147.880178\n",
       "std       139.358295\n",
       "min         2.546300\n",
       "25%        75.252178\n",
       "50%       119.715390\n",
       "75%       174.666932\n",
       "max      1395.064450\n",
       "Name: est_salary, dtype: float64"
      ]
     },
     "execution_count": 18,
     "metadata": {},
     "output_type": "execute_result"
    }
   ],
   "source": [
    "# посмотрим на распределение зарплат, проверим на выбросы только этот столбец\n",
    "df['est_salary'].describe()"
   ]
  },
  {
   "cell_type": "markdown",
   "id": "2689a022",
   "metadata": {},
   "source": [
    "Среднее значение чуть больше медианы, есть выбросы с очень высокими зарплатами. Посмотрим у скольких клиентов зарплата больше 300 тыс руб."
   ]
  },
  {
   "cell_type": "code",
   "execution_count": 19,
   "id": "0c0e809b",
   "metadata": {},
   "outputs": [
    {
     "data": {
      "text/plain": [
       "561"
      ]
     },
     "execution_count": 19,
     "metadata": {},
     "output_type": "execute_result"
    }
   ],
   "source": [
    "len(df.query('est_salary > 300'))"
   ]
  },
  {
   "cell_type": "markdown",
   "id": "90e81948",
   "metadata": {},
   "source": [
    "Клиентов с зарплатой выше 300 тыс руб - около 6%, удалять их пока не будем. "
   ]
  },
  {
   "cell_type": "markdown",
   "id": "a72c35e2",
   "metadata": {},
   "source": [
    "### Аномалии"
   ]
  },
  {
   "cell_type": "code",
   "execution_count": 20,
   "id": "f31f060c",
   "metadata": {},
   "outputs": [
    {
     "data": {
      "text/plain": [
       "2    5095\n",
       "1    3306\n",
       "3    1029\n",
       "4     474\n",
       "5      19\n",
       "0       1\n",
       "Name: products, dtype: int64"
      ]
     },
     "execution_count": 20,
     "metadata": {},
     "output_type": "execute_result"
    }
   ],
   "source": [
    "# посмотрим на клиентов в разрезе количества продуктов\n",
    "df['products'].value_counts()"
   ]
  },
  {
   "cell_type": "code",
   "execution_count": 21,
   "id": "56d86326",
   "metadata": {},
   "outputs": [
    {
     "data": {
      "text/html": [
       "<div>\n",
       "<style scoped>\n",
       "    .dataframe tbody tr th:only-of-type {\n",
       "        vertical-align: middle;\n",
       "    }\n",
       "\n",
       "    .dataframe tbody tr th {\n",
       "        vertical-align: top;\n",
       "    }\n",
       "\n",
       "    .dataframe thead th {\n",
       "        text-align: right;\n",
       "    }\n",
       "</style>\n",
       "<table border=\"1\" class=\"dataframe\">\n",
       "  <thead>\n",
       "    <tr style=\"text-align: right;\">\n",
       "      <th></th>\n",
       "      <th>userid</th>\n",
       "      <th>score</th>\n",
       "      <th>city</th>\n",
       "      <th>gender</th>\n",
       "      <th>age</th>\n",
       "      <th>equity</th>\n",
       "      <th>balance</th>\n",
       "      <th>products</th>\n",
       "      <th>credit_card</th>\n",
       "      <th>last_activity</th>\n",
       "      <th>est_salary</th>\n",
       "      <th>churn</th>\n",
       "      <th>balance_check</th>\n",
       "    </tr>\n",
       "  </thead>\n",
       "  <tbody>\n",
       "    <tr>\n",
       "      <th>8957</th>\n",
       "      <td>147837</td>\n",
       "      <td>962.0</td>\n",
       "      <td>Рыбинск</td>\n",
       "      <td>Ж</td>\n",
       "      <td>79</td>\n",
       "      <td>3</td>\n",
       "      <td>NaN</td>\n",
       "      <td>0</td>\n",
       "      <td>0</td>\n",
       "      <td>0</td>\n",
       "      <td>25.06396</td>\n",
       "      <td>1</td>\n",
       "      <td>пропуск</td>\n",
       "    </tr>\n",
       "  </tbody>\n",
       "</table>\n",
       "</div>"
      ],
      "text/plain": [
       "      userid  score     city gender  age  equity  balance  products  \\\n",
       "8957  147837  962.0  Рыбинск      Ж   79       3      NaN         0   \n",
       "\n",
       "      credit_card  last_activity  est_salary  churn balance_check  \n",
       "8957            0              0    25.06396      1       пропуск  "
      ]
     },
     "execution_count": 21,
     "metadata": {},
     "output_type": "execute_result"
    }
   ],
   "source": [
    "df[df['products'] == 0]"
   ]
  },
  {
   "cell_type": "markdown",
   "id": "081d766d",
   "metadata": {},
   "source": [
    "Есть один клиент, женщина 79 лет, 0 продуктов, средний коэффициент собственности. Если нет даже дебетовой картой, можем не считать ее за клиента банка, возможно она ушла окончательно, закрыла счета. Удалим ее из датасета.  "
   ]
  },
  {
   "cell_type": "code",
   "execution_count": 22,
   "id": "8c06dd6a",
   "metadata": {},
   "outputs": [],
   "source": [
    "df = df[df['products'] != 0]"
   ]
  },
  {
   "cell_type": "markdown",
   "id": "65f8ff51",
   "metadata": {},
   "source": [
    "### Кодирование"
   ]
  },
  {
   "cell_type": "code",
   "execution_count": 23,
   "id": "88637555",
   "metadata": {},
   "outputs": [],
   "source": [
    "# создадим копии столбцов\n",
    "df['gender_copy'] = df['gender']\n",
    "df['city_copy'] = df['city']"
   ]
  },
  {
   "cell_type": "code",
   "execution_count": 24,
   "id": "8b2b91d2",
   "metadata": {},
   "outputs": [],
   "source": [
    "# создадим фиктивные переменные\n",
    "df = pd.get_dummies(df, columns=['city_copy', 'gender_copy'])"
   ]
  },
  {
   "cell_type": "code",
   "execution_count": 25,
   "id": "bf442d82",
   "metadata": {},
   "outputs": [],
   "source": [
    "# переименуем наименования столбцов\n",
    "df = df.rename(columns={'city_copy_Ростов':'city_Ростов', 'city_copy_Рыбинск':'city_Рыбинск', \n",
    "                        'city_copy_Ярославль':'city_Ярославль', 'gender_copy_Ж':'gender_F', 'gender_copy_М':'gender_M'})"
   ]
  },
  {
   "cell_type": "markdown",
   "id": "f0b1a6ff",
   "metadata": {},
   "source": [
    "## 4. Исследовательский анализ данных \n",
    "- анализ распределения параметров клиентов\n",
    "- анализ портрета клиента\n",
    "- корреляционный анализ "
   ]
  },
  {
   "cell_type": "code",
   "execution_count": 26,
   "id": "e570500f",
   "metadata": {},
   "outputs": [],
   "source": [
    "# определим средний уровень оттока\n",
    "churn_av = df['churn'].mean()"
   ]
  },
  {
   "cell_type": "code",
   "execution_count": 27,
   "id": "63512450",
   "metadata": {},
   "outputs": [],
   "source": [
    "def define(var): # создаем функцию define, которая выведет сводную таблицу в зависимости от заданного параметра,\n",
    "    # присвоит наименования столбцам таблицы, отсортитрует по убывания значения из столбца '% оттока'\n",
    "    \n",
    "    pivot = df.pivot_table(index=var, aggfunc={'userid':'count','churn':'mean'}).round(3).\\\n",
    "    sort_values('churn', ascending=False).reset_index()\n",
    "    pivot.columns = [var, '% оттока', 'количество']\n",
    "    return pivot"
   ]
  },
  {
   "cell_type": "markdown",
   "id": "9e9aae26",
   "metadata": {},
   "source": [
    "### Город"
   ]
  },
  {
   "cell_type": "code",
   "execution_count": 28,
   "id": "5db6a380",
   "metadata": {
    "scrolled": true
   },
   "outputs": [
    {
     "data": {
      "text/html": [
       "<div>\n",
       "<style scoped>\n",
       "    .dataframe tbody tr th:only-of-type {\n",
       "        vertical-align: middle;\n",
       "    }\n",
       "\n",
       "    .dataframe tbody tr th {\n",
       "        vertical-align: top;\n",
       "    }\n",
       "\n",
       "    .dataframe thead th {\n",
       "        text-align: right;\n",
       "    }\n",
       "</style>\n",
       "<table border=\"1\" class=\"dataframe\">\n",
       "  <thead>\n",
       "    <tr style=\"text-align: right;\">\n",
       "      <th></th>\n",
       "      <th>city</th>\n",
       "      <th>% оттока</th>\n",
       "      <th>количество</th>\n",
       "    </tr>\n",
       "  </thead>\n",
       "  <tbody>\n",
       "    <tr>\n",
       "      <th>0</th>\n",
       "      <td>Ярославль</td>\n",
       "      <td>0.191</td>\n",
       "      <td>5854</td>\n",
       "    </tr>\n",
       "    <tr>\n",
       "      <th>1</th>\n",
       "      <td>Ростов</td>\n",
       "      <td>0.187</td>\n",
       "      <td>1416</td>\n",
       "    </tr>\n",
       "    <tr>\n",
       "      <th>2</th>\n",
       "      <td>Рыбинск</td>\n",
       "      <td>0.164</td>\n",
       "      <td>2653</td>\n",
       "    </tr>\n",
       "  </tbody>\n",
       "</table>\n",
       "</div>"
      ],
      "text/plain": [
       "        city  % оттока  количество\n",
       "0  Ярославль     0.191        5854\n",
       "1     Ростов     0.187        1416\n",
       "2    Рыбинск     0.164        2653"
      ]
     },
     "execution_count": 28,
     "metadata": {},
     "output_type": "execute_result"
    }
   ],
   "source": [
    "# посмотрим на отток в разрезе городов\n",
    "city_table = define('city')\n",
    "city_table"
   ]
  },
  {
   "cell_type": "code",
   "execution_count": 29,
   "id": "bb498b0f",
   "metadata": {},
   "outputs": [
    {
     "data": {
      "image/png": "[encoded data removed]",
      "text/plain": [
       "<Figure size 500x400 with 1 Axes>"
      ]
     },
     "metadata": {},
     "output_type": "display_data"
    }
   ],
   "source": [
    "# построим график \n",
    "city_table.plot(x='city', y='% оттока', kind=\"bar\", figsize=(5,4), legend=False)                       \n",
    "\n",
    "plt.axhline(y=churn_av, linewidth=1, color='r')\n",
    "plt.xlabel('Город', fontsize=13)\n",
    "plt.ylabel('% оттока', fontsize=13)\n",
    "plt.xticks(rotation=10)\n",
    "plt.title('% оттока в разрезе городов', fontsize=13)\n",
    "plt.show()"
   ]
  },
  {
   "cell_type": "markdown",
   "id": "6513d55a",
   "metadata": {},
   "source": [
    "В Ярославле и Ростове % оттока выше среднего, в Рыбинске ниже всего.  "
   ]
  },
  {
   "cell_type": "markdown",
   "id": "dbab1565",
   "metadata": {},
   "source": [
    "### Гендер"
   ]
  },
  {
   "cell_type": "code",
   "execution_count": 30,
   "id": "d4f0607b",
   "metadata": {},
   "outputs": [
    {
     "data": {
      "text/html": [
       "<div>\n",
       "<style scoped>\n",
       "    .dataframe tbody tr th:only-of-type {\n",
       "        vertical-align: middle;\n",
       "    }\n",
       "\n",
       "    .dataframe tbody tr th {\n",
       "        vertical-align: top;\n",
       "    }\n",
       "\n",
       "    .dataframe thead th {\n",
       "        text-align: right;\n",
       "    }\n",
       "</style>\n",
       "<table border=\"1\" class=\"dataframe\">\n",
       "  <thead>\n",
       "    <tr style=\"text-align: right;\">\n",
       "      <th></th>\n",
       "      <th>gender</th>\n",
       "      <th>% оттока</th>\n",
       "      <th>количество</th>\n",
       "    </tr>\n",
       "  </thead>\n",
       "  <tbody>\n",
       "    <tr>\n",
       "      <th>0</th>\n",
       "      <td>М</td>\n",
       "      <td>0.238</td>\n",
       "      <td>4971</td>\n",
       "    </tr>\n",
       "    <tr>\n",
       "      <th>1</th>\n",
       "      <td>Ж</td>\n",
       "      <td>0.128</td>\n",
       "      <td>4952</td>\n",
       "    </tr>\n",
       "  </tbody>\n",
       "</table>\n",
       "</div>"
      ],
      "text/plain": [
       "  gender  % оттока  количество\n",
       "0      М     0.238        4971\n",
       "1      Ж     0.128        4952"
      ]
     },
     "execution_count": 30,
     "metadata": {},
     "output_type": "execute_result"
    }
   ],
   "source": [
    "# посмотрим на отток в разрезе гендера\n",
    "gender_table = define('gender')\n",
    "gender_table"
   ]
  },
  {
   "cell_type": "code",
   "execution_count": 31,
   "id": "1c33fab1",
   "metadata": {},
   "outputs": [
    {
     "data": {
      "image/png": "[encoded data removed]",
      "text/plain": [
       "<Figure size 400x300 with 1 Axes>"
      ]
     },
     "metadata": {},
     "output_type": "display_data"
    }
   ],
   "source": [
    "# построим график \n",
    "gender_table.plot(x='gender', y='% оттока', kind='bar', figsize=(4,3), legend=False)                       \n",
    "\n",
    "plt.axhline(y=churn_av, linewidth=1, color='r')\n",
    "plt.xlabel('Гендер', fontsize=13)\n",
    "plt.ylabel('% оттока', fontsize=13)\n",
    "plt.xticks(rotation=360)\n",
    "plt.title('% оттока в разрезе гендера', fontsize=13)\n",
    "plt.show()"
   ]
  },
  {
   "cell_type": "markdown",
   "id": "8939369f",
   "metadata": {},
   "source": [
    "Видимо женщины более лояльные клиенты, в то время как доля отточных клиентов среди мужчин около 23.7%."
   ]
  },
  {
   "cell_type": "markdown",
   "id": "27e8901d",
   "metadata": {},
   "source": [
    "### Количество продуктов"
   ]
  },
  {
   "cell_type": "code",
   "execution_count": 32,
   "id": "5b6552af",
   "metadata": {
    "scrolled": true
   },
   "outputs": [
    {
     "data": {
      "text/html": [
       "<div>\n",
       "<style scoped>\n",
       "    .dataframe tbody tr th:only-of-type {\n",
       "        vertical-align: middle;\n",
       "    }\n",
       "\n",
       "    .dataframe tbody tr th {\n",
       "        vertical-align: top;\n",
       "    }\n",
       "\n",
       "    .dataframe thead th {\n",
       "        text-align: right;\n",
       "    }\n",
       "</style>\n",
       "<table border=\"1\" class=\"dataframe\">\n",
       "  <thead>\n",
       "    <tr style=\"text-align: right;\">\n",
       "      <th></th>\n",
       "      <th>products</th>\n",
       "      <th>% оттока</th>\n",
       "      <th>количество</th>\n",
       "    </tr>\n",
       "  </thead>\n",
       "  <tbody>\n",
       "    <tr>\n",
       "      <th>0</th>\n",
       "      <td>4</td>\n",
       "      <td>0.633</td>\n",
       "      <td>474</td>\n",
       "    </tr>\n",
       "    <tr>\n",
       "      <th>1</th>\n",
       "      <td>5</td>\n",
       "      <td>0.421</td>\n",
       "      <td>19</td>\n",
       "    </tr>\n",
       "    <tr>\n",
       "      <th>2</th>\n",
       "      <td>3</td>\n",
       "      <td>0.289</td>\n",
       "      <td>1029</td>\n",
       "    </tr>\n",
       "    <tr>\n",
       "      <th>3</th>\n",
       "      <td>2</td>\n",
       "      <td>0.192</td>\n",
       "      <td>5095</td>\n",
       "    </tr>\n",
       "    <tr>\n",
       "      <th>4</th>\n",
       "      <td>1</td>\n",
       "      <td>0.071</td>\n",
       "      <td>3306</td>\n",
       "    </tr>\n",
       "  </tbody>\n",
       "</table>\n",
       "</div>"
      ],
      "text/plain": [
       "   products  % оттока  количество\n",
       "0         4     0.633         474\n",
       "1         5     0.421          19\n",
       "2         3     0.289        1029\n",
       "3         2     0.192        5095\n",
       "4         1     0.071        3306"
      ]
     },
     "execution_count": 32,
     "metadata": {},
     "output_type": "execute_result"
    }
   ],
   "source": [
    "prod_table = define('products')\n",
    "prod_table"
   ]
  },
  {
   "cell_type": "code",
   "execution_count": 33,
   "id": "2dbde08a",
   "metadata": {},
   "outputs": [
    {
     "data": {
      "image/png": "[encoded data removed]",
      "text/plain": [
       "<Figure size 500x400 with 1 Axes>"
      ]
     },
     "metadata": {},
     "output_type": "display_data"
    }
   ],
   "source": [
    "# построим график \n",
    "prod_table.plot(x='products', y='% оттока', kind='bar', figsize=(5,4), legend=False)                       \n",
    "\n",
    "plt.axhline(y=churn_av, linewidth=1, color='r')\n",
    "plt.xlabel('Количество продуктов', fontsize=13)\n",
    "plt.ylabel('% оттока', fontsize=13)\n",
    "plt.xticks(rotation=360)\n",
    "plt.title('% оттока в разрезе кол-ва продуктов', fontsize=13)\n",
    "plt.show()"
   ]
  },
  {
   "cell_type": "markdown",
   "id": "56d4cec2",
   "metadata": {},
   "source": [
    "Среди клиентов с 2 и больше продуктами % оттока выше среднего. Среди клиентов с 1 одним продуктом - около 7%. "
   ]
  },
  {
   "cell_type": "code",
   "execution_count": 34,
   "id": "769f9aa5",
   "metadata": {},
   "outputs": [
    {
     "name": "stdout",
     "output_type": "stream",
     "text": [
      "Средний отток - 39.75 %\n"
     ]
    }
   ],
   "source": [
    "# посчитаем средний отток среди клиентов в этом диапазоне \n",
    "print('Средний отток -', round(df[df['products'] > 2]['churn'].mean() * 100, 2), '%')"
   ]
  },
  {
   "cell_type": "markdown",
   "id": "82ffb2ee",
   "metadata": {},
   "source": [
    "### Последняя активность"
   ]
  },
  {
   "cell_type": "code",
   "execution_count": 35,
   "id": "670a744b",
   "metadata": {},
   "outputs": [
    {
     "data": {
      "text/html": [
       "<div>\n",
       "<style scoped>\n",
       "    .dataframe tbody tr th:only-of-type {\n",
       "        vertical-align: middle;\n",
       "    }\n",
       "\n",
       "    .dataframe tbody tr th {\n",
       "        vertical-align: top;\n",
       "    }\n",
       "\n",
       "    .dataframe thead th {\n",
       "        text-align: right;\n",
       "    }\n",
       "</style>\n",
       "<table border=\"1\" class=\"dataframe\">\n",
       "  <thead>\n",
       "    <tr style=\"text-align: right;\">\n",
       "      <th></th>\n",
       "      <th>last_activity</th>\n",
       "      <th>% оттока</th>\n",
       "      <th>количество</th>\n",
       "    </tr>\n",
       "  </thead>\n",
       "  <tbody>\n",
       "    <tr>\n",
       "      <th>0</th>\n",
       "      <td>активный</td>\n",
       "      <td>0.246</td>\n",
       "      <td>5194</td>\n",
       "    </tr>\n",
       "    <tr>\n",
       "      <th>1</th>\n",
       "      <td>не активный</td>\n",
       "      <td>0.114</td>\n",
       "      <td>4729</td>\n",
       "    </tr>\n",
       "  </tbody>\n",
       "</table>\n",
       "</div>"
      ],
      "text/plain": [
       "  last_activity  % оттока  количество\n",
       "0      активный     0.246        5194\n",
       "1   не активный     0.114        4729"
      ]
     },
     "execution_count": 35,
     "metadata": {},
     "output_type": "execute_result"
    }
   ],
   "source": [
    "activity_table = define('last_activity')\n",
    "activity_table.iloc[0,0] = 'активный'\n",
    "activity_table.iloc[1,0] = 'не активный'\n",
    "activity_table"
   ]
  },
  {
   "cell_type": "code",
   "execution_count": 36,
   "id": "3130dee3",
   "metadata": {},
   "outputs": [
    {
     "data": {
      "image/png": "[encoded data removed]",
      "text/plain": [
       "<Figure size 400x300 with 1 Axes>"
      ]
     },
     "metadata": {},
     "output_type": "display_data"
    }
   ],
   "source": [
    "# построим график \n",
    "activity_table.plot(x='last_activity', y='% оттока', kind='bar', figsize=(4,3), legend=False)                       \n",
    "\n",
    "plt.axhline(y=churn_av, linewidth=1, color='r')\n",
    "plt.xlabel('Активность', fontsize=11)\n",
    "plt.ylabel('% оттока', fontsize=11)\n",
    "plt.xticks(rotation=360)\n",
    "plt.title('% оттока в разрезе активности клиента', fontsize=13)\n",
    "plt.show()"
   ]
  },
  {
   "cell_type": "markdown",
   "id": "a677c16c",
   "metadata": {},
   "source": [
    "Среди активных клиентов отточных больше. Возможно у активного пользователя запросы выше к банку, и если клиента что-то не устраивает в банке, он более склонен сменить банк."
   ]
  },
  {
   "cell_type": "markdown",
   "id": "6e2c3635",
   "metadata": {},
   "source": [
    "### Кредитная карта"
   ]
  },
  {
   "cell_type": "code",
   "execution_count": 37,
   "id": "e2196cf2",
   "metadata": {},
   "outputs": [
    {
     "data": {
      "text/html": [
       "<div>\n",
       "<style scoped>\n",
       "    .dataframe tbody tr th:only-of-type {\n",
       "        vertical-align: middle;\n",
       "    }\n",
       "\n",
       "    .dataframe tbody tr th {\n",
       "        vertical-align: top;\n",
       "    }\n",
       "\n",
       "    .dataframe thead th {\n",
       "        text-align: right;\n",
       "    }\n",
       "</style>\n",
       "<table border=\"1\" class=\"dataframe\">\n",
       "  <thead>\n",
       "    <tr style=\"text-align: right;\">\n",
       "      <th></th>\n",
       "      <th>credit_card</th>\n",
       "      <th>% оттока</th>\n",
       "      <th>количество</th>\n",
       "    </tr>\n",
       "  </thead>\n",
       "  <tbody>\n",
       "    <tr>\n",
       "      <th>0</th>\n",
       "      <td>нет</td>\n",
       "      <td>0.257</td>\n",
       "      <td>3175</td>\n",
       "    </tr>\n",
       "    <tr>\n",
       "      <th>1</th>\n",
       "      <td>есть</td>\n",
       "      <td>0.149</td>\n",
       "      <td>6748</td>\n",
       "    </tr>\n",
       "  </tbody>\n",
       "</table>\n",
       "</div>"
      ],
      "text/plain": [
       "  credit_card  % оттока  количество\n",
       "0         нет     0.257        3175\n",
       "1        есть     0.149        6748"
      ]
     },
     "execution_count": 37,
     "metadata": {},
     "output_type": "execute_result"
    }
   ],
   "source": [
    "card_table = define('credit_card')\n",
    "card_table.iloc[0,0] = 'нет'\n",
    "card_table.iloc[1,0] = 'есть'\n",
    "card_table"
   ]
  },
  {
   "cell_type": "code",
   "execution_count": 38,
   "id": "219f05c8",
   "metadata": {},
   "outputs": [
    {
     "data": {
      "image/png": "[encoded data removed]",
      "text/plain": [
       "<Figure size 400x300 with 1 Axes>"
      ]
     },
     "metadata": {},
     "output_type": "display_data"
    }
   ],
   "source": [
    "# построим график \n",
    "card_table.plot(x='credit_card', y='% оттока', kind='bar', figsize=(4,3), legend=False)                       \n",
    "\n",
    "plt.axhline(y=churn_av, linewidth=1, color='r')\n",
    "plt.xlabel('Кредитная карта', fontsize=11)\n",
    "plt.ylabel('% оттока', fontsize=11)\n",
    "plt.xticks(rotation=360)\n",
    "plt.title('% оттока по признаку кредитной карты', fontsize=13)\n",
    "plt.show()"
   ]
  },
  {
   "cell_type": "markdown",
   "id": "d6cdee49",
   "metadata": {},
   "source": [
    "Клиенты с кредитной картой менее склонны менять банк, скорее всего наличие задолженности делает их более лояльными. "
   ]
  },
  {
   "cell_type": "markdown",
   "id": "95391eb4",
   "metadata": {},
   "source": [
    "### Собственность"
   ]
  },
  {
   "cell_type": "code",
   "execution_count": 39,
   "id": "28251b89",
   "metadata": {},
   "outputs": [
    {
     "data": {
      "text/html": [
       "<div>\n",
       "<style scoped>\n",
       "    .dataframe tbody tr th:only-of-type {\n",
       "        vertical-align: middle;\n",
       "    }\n",
       "\n",
       "    .dataframe tbody tr th {\n",
       "        vertical-align: top;\n",
       "    }\n",
       "\n",
       "    .dataframe thead th {\n",
       "        text-align: right;\n",
       "    }\n",
       "</style>\n",
       "<table border=\"1\" class=\"dataframe\">\n",
       "  <thead>\n",
       "    <tr style=\"text-align: right;\">\n",
       "      <th></th>\n",
       "      <th>equity</th>\n",
       "      <th>% оттока</th>\n",
       "      <th>количество</th>\n",
       "    </tr>\n",
       "  </thead>\n",
       "  <tbody>\n",
       "    <tr>\n",
       "      <th>0</th>\n",
       "      <td>9</td>\n",
       "      <td>0.538</td>\n",
       "      <td>13</td>\n",
       "    </tr>\n",
       "    <tr>\n",
       "      <th>1</th>\n",
       "      <td>7</td>\n",
       "      <td>0.468</td>\n",
       "      <td>79</td>\n",
       "    </tr>\n",
       "    <tr>\n",
       "      <th>2</th>\n",
       "      <td>6</td>\n",
       "      <td>0.360</td>\n",
       "      <td>161</td>\n",
       "    </tr>\n",
       "    <tr>\n",
       "      <th>3</th>\n",
       "      <td>8</td>\n",
       "      <td>0.353</td>\n",
       "      <td>17</td>\n",
       "    </tr>\n",
       "    <tr>\n",
       "      <th>4</th>\n",
       "      <td>5</td>\n",
       "      <td>0.302</td>\n",
       "      <td>1910</td>\n",
       "    </tr>\n",
       "    <tr>\n",
       "      <th>5</th>\n",
       "      <td>4</td>\n",
       "      <td>0.252</td>\n",
       "      <td>1841</td>\n",
       "    </tr>\n",
       "    <tr>\n",
       "      <th>6</th>\n",
       "      <td>3</td>\n",
       "      <td>0.210</td>\n",
       "      <td>1531</td>\n",
       "    </tr>\n",
       "    <tr>\n",
       "      <th>7</th>\n",
       "      <td>2</td>\n",
       "      <td>0.159</td>\n",
       "      <td>1046</td>\n",
       "    </tr>\n",
       "    <tr>\n",
       "      <th>8</th>\n",
       "      <td>1</td>\n",
       "      <td>0.121</td>\n",
       "      <td>771</td>\n",
       "    </tr>\n",
       "    <tr>\n",
       "      <th>9</th>\n",
       "      <td>0</td>\n",
       "      <td>0.035</td>\n",
       "      <td>2554</td>\n",
       "    </tr>\n",
       "  </tbody>\n",
       "</table>\n",
       "</div>"
      ],
      "text/plain": [
       "   equity  % оттока  количество\n",
       "0       9     0.538          13\n",
       "1       7     0.468          79\n",
       "2       6     0.360         161\n",
       "3       8     0.353          17\n",
       "4       5     0.302        1910\n",
       "5       4     0.252        1841\n",
       "6       3     0.210        1531\n",
       "7       2     0.159        1046\n",
       "8       1     0.121         771\n",
       "9       0     0.035        2554"
      ]
     },
     "execution_count": 39,
     "metadata": {},
     "output_type": "execute_result"
    }
   ],
   "source": [
    "equity_table = define('equity')\n",
    "equity_table"
   ]
  },
  {
   "cell_type": "code",
   "execution_count": 40,
   "id": "f0b888eb",
   "metadata": {},
   "outputs": [
    {
     "data": {
      "image/png": "[encoded data removed]",
      "text/plain": [
       "<Figure size 500x400 with 1 Axes>"
      ]
     },
     "metadata": {},
     "output_type": "display_data"
    }
   ],
   "source": [
    "# построим график \n",
    "equity_table.plot(x='equity', y='% оттока', kind='bar', figsize=(5,4), legend=False)                       \n",
    "\n",
    "plt.axhline(y=churn_av, linewidth=1, color='r')\n",
    "plt.xlabel('Количество баллов собственности', fontsize=11)\n",
    "plt.ylabel('% оттока', fontsize=11)\n",
    "plt.xticks(rotation=360)\n",
    "plt.title('% оттока по количеству баллов собственности', fontsize=13)\n",
    "plt.show()"
   ]
  },
  {
   "cell_type": "markdown",
   "id": "d8fd6d89",
   "metadata": {},
   "source": [
    "Судя по графику есть прямая зависимость между баллами собственности и верояностью оттока, чем выше балл - тем более вероятен уход."
   ]
  },
  {
   "cell_type": "code",
   "execution_count": 41,
   "id": "b2641828",
   "metadata": {},
   "outputs": [
    {
     "name": "stdout",
     "output_type": "stream",
     "text": [
      "Средний отток - 26.46 %\n"
     ]
    }
   ],
   "source": [
    "# посчитаем средний отток среди клиентов в этом диапазоне \n",
    "print('Средний отток -', round(df[df['equity'] > 2]['churn'].mean() * 100, 2), '%')"
   ]
  },
  {
   "cell_type": "code",
   "execution_count": 42,
   "id": "c1170501",
   "metadata": {},
   "outputs": [
    {
     "data": {
      "text/plain": [
       "0.2701372043291698"
      ]
     },
     "execution_count": 42,
     "metadata": {},
     "output_type": "execute_result"
    }
   ],
   "source": [
    "# посчитаем коэффицент корреляции\n",
    "df['equity'].corr(df['churn'])"
   ]
  },
  {
   "cell_type": "markdown",
   "id": "1bf76c11",
   "metadata": {},
   "source": [
    "Есть слабая корреляция, коэффициент подтверждает, что есть слабая зависимость."
   ]
  },
  {
   "cell_type": "markdown",
   "id": "d21cba59",
   "metadata": {},
   "source": [
    "### Баланс на счете"
   ]
  },
  {
   "cell_type": "code",
   "execution_count": 43,
   "id": "00385d7f",
   "metadata": {},
   "outputs": [
    {
     "data": {
      "image/png": "[encoded data removed]",
      "text/plain": [
       "<Figure size 640x480 with 1 Axes>"
      ]
     },
     "metadata": {},
     "output_type": "display_data"
    }
   ],
   "source": [
    "# построим график плотности\n",
    "sns.kdeplot(data=df, x='balance', hue='churn', common_norm=False, multiple='stack')\n",
    "plt.title('Баланс на счете в разрезе оттока', fontsize=14)\n",
    "plt.xlabel('Баланс', fontsize=12)\n",
    "plt.ylabel('Плотность вероятности', fontsize=12)\n",
    "plt.xlim(0,3000)\n",
    "plt.show()"
   ]
  },
  {
   "cell_type": "markdown",
   "id": "320d4205",
   "metadata": {},
   "source": [
    "Среди оставшихся - медиана по балансу около 450 тыс руб, среди отточных - медиана по балансу около 750 тыс руб."
   ]
  },
  {
   "cell_type": "code",
   "execution_count": 44,
   "id": "14afbe46",
   "metadata": {},
   "outputs": [
    {
     "data": {
      "image/png": "[encoded data removed]",
      "text/plain": [
       "<Figure size 800x600 with 1 Axes>"
      ]
     },
     "metadata": {},
     "output_type": "display_data"
    }
   ],
   "source": [
    "# построим гистограмму\n",
    "sns.set(rc={\"figure.figsize\":(8, 6)})\n",
    "sns.histplot(data=df, x='balance', hue='churn', stat='density', common_norm=False, multiple='stack')\n",
    "plt.title('Баланс на счете в разрезе оттока', fontsize=14)\n",
    "plt.xlabel('Баланс', fontsize=12)\n",
    "plt.ylabel('Плотность вероятности', fontsize=12)\n",
    "plt.xlim(0,4000)\n",
    "plt.show()"
   ]
  },
  {
   "cell_type": "markdown",
   "id": "023c35a9",
   "metadata": {},
   "source": [
    "Среди отточных - достаточное количество клиентов с балансом около 1250 тыс руб на счете, среди оставшихся в основном клиенты с балансом около 500 тыс руб. "
   ]
  },
  {
   "cell_type": "code",
   "execution_count": 45,
   "id": "09d2a050",
   "metadata": {},
   "outputs": [
    {
     "name": "stdout",
     "output_type": "stream",
     "text": [
      "Средний отток - 34.96 %\n"
     ]
    }
   ],
   "source": [
    "# посчитаем средний отток среди клиентов в этом диапазоне \n",
    "print('Средний отток -', round(df[df['balance'] > 750]['churn'].mean() * 100, 2), '%')"
   ]
  },
  {
   "cell_type": "code",
   "execution_count": 46,
   "id": "6194c435",
   "metadata": {},
   "outputs": [
    {
     "data": {
      "image/png": "[encoded data removed]",
      "text/plain": [
       "<Figure size 600x400 with 1 Axes>"
      ]
     },
     "metadata": {},
     "output_type": "display_data"
    }
   ],
   "source": [
    "# пострим боксплот\n",
    "sns.set(rc={\"figure.figsize\":(6, 4)})\n",
    "sns.boxplot(x='churn', y='balance', data=df)\n",
    "plt.title('Баланс на счете в разрезе оттока', fontsize=14)\n",
    "plt.xlabel('Отток', fontsize=12)\n",
    "plt.ylabel('Сумма', fontsize=12)\n",
    "plt.ylim(0, 5000)\n",
    "plt.show()"
   ]
  },
  {
   "cell_type": "markdown",
   "id": "0df2f4ca",
   "metadata": {},
   "source": [
    "Для клиентов склонных к оттоку - медиана, верхний квартиль и максимальное значение выше. "
   ]
  },
  {
   "cell_type": "code",
   "execution_count": 47,
   "id": "d9c5c543",
   "metadata": {},
   "outputs": [
    {
     "data": {
      "text/plain": [
       "0.08570834043288612"
      ]
     },
     "execution_count": 47,
     "metadata": {},
     "output_type": "execute_result"
    }
   ],
   "source": [
    "# посчитаем коэффицент корреляции\n",
    "df['balance'].corr(df['churn'])"
   ]
  },
  {
   "cell_type": "markdown",
   "id": "7b2c7d1c",
   "metadata": {},
   "source": [
    "Корреляции нет, сильной зависимости нет, единственное можем сказать, что в среднем у отточных клиентов больше средств на счете. "
   ]
  },
  {
   "cell_type": "markdown",
   "id": "4046faf2",
   "metadata": {},
   "source": [
    "### Заработная плата клиента"
   ]
  },
  {
   "cell_type": "code",
   "execution_count": 48,
   "id": "5c6a5075",
   "metadata": {},
   "outputs": [
    {
     "data": {
      "image/png": "[encoded data removed]",
      "text/plain": [
       "<Figure size 600x400 with 1 Axes>"
      ]
     },
     "metadata": {},
     "output_type": "display_data"
    }
   ],
   "source": [
    "# построим график плотности\n",
    "sns.kdeplot(data=df, x='est_salary', hue='churn', common_norm=False, multiple='stack')\n",
    "plt.title('Заработная плата в разрезе оттока', fontsize=14)\n",
    "plt.xlabel('Заработная плата', fontsize=12)\n",
    "plt.ylabel('Плотность вероятности', fontsize=12)\n",
    "plt.xlim(0,600)\n",
    "plt.show()"
   ]
  },
  {
   "cell_type": "code",
   "execution_count": 49,
   "id": "a7c78eda",
   "metadata": {},
   "outputs": [
    {
     "data": {
      "image/png": "[encoded data removed]",
      "text/plain": [
       "<Figure size 900x700 with 1 Axes>"
      ]
     },
     "metadata": {},
     "output_type": "display_data"
    }
   ],
   "source": [
    "# построим гистограмму\n",
    "sns.set(rc={\"figure.figsize\":(9, 7)})\n",
    "sns.histplot(data=df, x='est_salary', hue='churn', stat='density', common_norm=False, multiple='stack', bins = 1394)\n",
    "plt.title('Заработная плата в разрезе оттока', fontsize=14)\n",
    "plt.xlabel('Заработная плата', fontsize=12)\n",
    "plt.ylabel('Плотность вероятности', fontsize=12)\n",
    "plt.xlim(0,600)\n",
    "plt.show()"
   ]
  },
  {
   "cell_type": "markdown",
   "id": "13501751",
   "metadata": {},
   "source": [
    "Распределение зарплат одинаково в обеих группах с пиком на уровне 100 тыс руб. "
   ]
  },
  {
   "cell_type": "code",
   "execution_count": 50,
   "id": "698c1e37",
   "metadata": {},
   "outputs": [
    {
     "data": {
      "image/png": "[encoded data removed]",
      "text/plain": [
       "<Figure size 600x400 with 1 Axes>"
      ]
     },
     "metadata": {},
     "output_type": "display_data"
    }
   ],
   "source": [
    "# пострим боксплот\n",
    "sns.set(rc={\"figure.figsize\":(6, 4)})\n",
    "sns.boxplot(x='churn', y='est_salary', data=df)\n",
    "plt.title('Заработная плата в разрезе оттока', fontsize=14)\n",
    "plt.xlabel('Отток', fontsize=12)\n",
    "plt.ylabel('Заработная плата', fontsize=12)\n",
    "plt.ylim(0, 600)\n",
    "plt.show()"
   ]
  },
  {
   "cell_type": "markdown",
   "id": "c48f4d13",
   "metadata": {},
   "source": [
    "Статитистики примерно на одном уровне."
   ]
  },
  {
   "cell_type": "code",
   "execution_count": 51,
   "id": "bd8d13f3",
   "metadata": {},
   "outputs": [
    {
     "data": {
      "text/plain": [
       "0.0015801227197664589"
      ]
     },
     "execution_count": 51,
     "metadata": {},
     "output_type": "execute_result"
    }
   ],
   "source": [
    "df['est_salary'].corr(df['churn'])"
   ]
  },
  {
   "cell_type": "markdown",
   "id": "d8ba38b9",
   "metadata": {},
   "source": [
    "Коэффициент очень низкий, судя по графикам и коэффициенту корреляции нет. "
   ]
  },
  {
   "cell_type": "markdown",
   "id": "fb2e42fd",
   "metadata": {},
   "source": [
    "### Кредитный скоринг"
   ]
  },
  {
   "cell_type": "code",
   "execution_count": 52,
   "id": "d5397ec2",
   "metadata": {},
   "outputs": [
    {
     "data": {
      "image/png": "[encoded data removed]",
      "text/plain": [
       "<Figure size 600x400 with 1 Axes>"
      ]
     },
     "metadata": {},
     "output_type": "display_data"
    }
   ],
   "source": [
    "# построим график плотности\n",
    "sns.kdeplot(data=df, x='score', hue='churn', common_norm=False, multiple='stack')\n",
    "plt.title('Кредитный скоринг в разрезе оттока', fontsize=14)\n",
    "plt.xlabel('Кредитный скоринг', fontsize=12)\n",
    "plt.ylabel('Плотность вероятности', fontsize=12)\n",
    "plt.show()"
   ]
  },
  {
   "cell_type": "code",
   "execution_count": 53,
   "id": "363a6889",
   "metadata": {},
   "outputs": [
    {
     "data": {
      "image/png": "[encoded data removed]",
      "text/plain": [
       "<Figure size 800x600 with 1 Axes>"
      ]
     },
     "metadata": {},
     "output_type": "display_data"
    }
   ],
   "source": [
    "# построим гистограмму\n",
    "sns.set(rc={\"figure.figsize\":(8, 6)})\n",
    "sns.histplot(data=df, x='score', hue='churn', stat='density', common_norm=False, multiple='stack', bins=359)\n",
    "plt.title('Кредитный скоринг в разрезе оттока', fontsize=14)\n",
    "plt.xlabel('Кредитный скоринг', fontsize=12)\n",
    "plt.ylabel('Плотность вероятности', fontsize=12)\n",
    "plt.xlim(600,1000)\n",
    "plt.show()"
   ]
  },
  {
   "cell_type": "markdown",
   "id": "9e2c110e",
   "metadata": {},
   "source": [
    "Среди отточных клиентов скоринг от 850 до 900 у большей части, у оставшихся клиентов скоринг в среднем чуть повыше - около 900. "
   ]
  },
  {
   "cell_type": "code",
   "execution_count": 54,
   "id": "8cc10447",
   "metadata": {},
   "outputs": [
    {
     "name": "stdout",
     "output_type": "stream",
     "text": [
      "Средний отток - 26.77 %\n"
     ]
    }
   ],
   "source": [
    "# посчитаем средний отток среди клиентов в этом диапазоне скоринга\n",
    "print('Средний отток -', round(df[(df['score'] > 850) & (df['score'] < 900)]['churn'].mean() * 100, 2), '%')"
   ]
  },
  {
   "cell_type": "code",
   "execution_count": 55,
   "id": "70e91162",
   "metadata": {},
   "outputs": [
    {
     "data": {
      "image/png": "[encoded data removed]",
      "text/plain": [
       "<Figure size 600x400 with 1 Axes>"
      ]
     },
     "metadata": {},
     "output_type": "display_data"
    }
   ],
   "source": [
    "# пострим боксплот\n",
    "sns.set(rc={\"figure.figsize\":(6, 4)})\n",
    "sns.boxplot(x='churn', y='score', data=df)\n",
    "plt.title('Кредитный скоринг в разрезе оттока', fontsize=14)\n",
    "plt.xlabel('Отток', fontsize=12)\n",
    "plt.ylabel('Кредитный скоринг', fontsize=12)\n",
    "plt.show()"
   ]
  },
  {
   "cell_type": "markdown",
   "id": "0cc9db9c",
   "metadata": {},
   "source": [
    "У отточных клиентов - мин значение больше, медиана - чуть больше, нижний квартиль также чуть больше. "
   ]
  },
  {
   "cell_type": "code",
   "execution_count": 56,
   "id": "84b91b7e",
   "metadata": {},
   "outputs": [
    {
     "data": {
      "text/plain": [
       "0.10605452032640086"
      ]
     },
     "execution_count": 56,
     "metadata": {},
     "output_type": "execute_result"
    }
   ],
   "source": [
    "df['score'].corr(df['churn'])"
   ]
  },
  {
   "cell_type": "markdown",
   "id": "5b995bd6",
   "metadata": {},
   "source": [
    "Есть слабая корреляция, чем выше скоринг, тем выше вероятность оттока. "
   ]
  },
  {
   "cell_type": "markdown",
   "id": "36a0aea9",
   "metadata": {},
   "source": [
    "### Возраст"
   ]
  },
  {
   "cell_type": "code",
   "execution_count": 57,
   "id": "4ffaf815",
   "metadata": {},
   "outputs": [
    {
     "data": {
      "image/png": "[encoded data removed]",
      "text/plain": [
       "<Figure size 600x400 with 1 Axes>"
      ]
     },
     "metadata": {},
     "output_type": "display_data"
    }
   ],
   "source": [
    "# построим график плотности\n",
    "sns.kdeplot(data=df, x='age', hue='churn', common_norm=False, multiple='stack')\n",
    "plt.title('Возраст в разрезе оттока', fontsize=14)\n",
    "plt.xlabel('Возраст', fontsize=12)\n",
    "plt.ylabel('Плотность вероятности', fontsize=12)\n",
    "plt.show()"
   ]
  },
  {
   "cell_type": "code",
   "execution_count": 58,
   "id": "31062f21",
   "metadata": {},
   "outputs": [
    {
     "data": {
      "image/png": "[encoded data removed]",
      "text/plain": [
       "<Figure size 800x600 with 1 Axes>"
      ]
     },
     "metadata": {},
     "output_type": "display_data"
    }
   ],
   "source": [
    "# построим гистограмму\n",
    "sns.set(rc={\"figure.figsize\":(8, 6)})\n",
    "sns.histplot(data=df, x='age', hue='churn', stat='density', common_norm=False, multiple='stack', bins=69)\n",
    "plt.title('Возраст в разрезе оттока', fontsize=14)\n",
    "plt.xlabel('Возраст', fontsize=12)\n",
    "plt.ylabel('Плотность вероятности', fontsize=12)\n",
    "plt.show()"
   ]
  },
  {
   "cell_type": "markdown",
   "id": "aadb9d08",
   "metadata": {},
   "source": [
    "Судя по графику среди отточных больше тех кому около 55 лет по сравнению с остающимися клиентами. В обеих выборках преимущественно клиенты около 35 лет. "
   ]
  },
  {
   "cell_type": "code",
   "execution_count": 59,
   "id": "bfa93a2a",
   "metadata": {},
   "outputs": [
    {
     "name": "stdout",
     "output_type": "stream",
     "text": [
      "Средний отток - 28.14 %\n"
     ]
    }
   ],
   "source": [
    "# посчитаем средний отток среди клиентов в этом диапазоне скоринга\n",
    "print('Средний отток -', round(df[(df['age'] > 50)&(df['age'] < 60)]['churn'].mean() * 100, 2), '%')"
   ]
  },
  {
   "cell_type": "code",
   "execution_count": 60,
   "id": "97adc6a1",
   "metadata": {},
   "outputs": [
    {
     "data": {
      "image/png": "[encoded data removed]",
      "text/plain": [
       "<Figure size 600x400 with 1 Axes>"
      ]
     },
     "metadata": {},
     "output_type": "display_data"
    }
   ],
   "source": [
    "# пострим боксплот\n",
    "sns.set(rc={\"figure.figsize\":(6, 4)})\n",
    "sns.boxplot(x='churn', y='age', data=df)\n",
    "plt.title('Возраст в разрезе оттока', fontsize=14)\n",
    "plt.xlabel('Отток', fontsize=12)\n",
    "plt.ylabel('Возраст', fontsize=12)\n",
    "plt.show()"
   ]
  },
  {
   "cell_type": "markdown",
   "id": "8fd416b7",
   "metadata": {},
   "source": [
    "Медиана на одном уровне, нижний квартиль чуть меньше, верхний квартиль чуть больше. Макс и мин значения примерно на одном уровне. Среди остающихся клиентов много выбросов по возрасту, видимо пожилые люди менее склонны менять банк. "
   ]
  },
  {
   "cell_type": "code",
   "execution_count": 61,
   "id": "d497a617",
   "metadata": {},
   "outputs": [
    {
     "data": {
      "text/plain": [
       "-0.050415242992877744"
      ]
     },
     "execution_count": 61,
     "metadata": {},
     "output_type": "execute_result"
    }
   ],
   "source": [
    "df['age'].corr(df['churn'])"
   ]
  },
  {
   "cell_type": "markdown",
   "id": "032a5357",
   "metadata": {},
   "source": [
    "Корреляции нет. Возможно зависимость нелинейная, некоторые возрастные сегменты более склонны сменить банк, другие сегменты наоборот."
   ]
  },
  {
   "cell_type": "code",
   "execution_count": 62,
   "id": "b0614cfa",
   "metadata": {},
   "outputs": [
    {
     "data": {
      "image/png": "[encoded data removed]",
      "text/plain": [
       "<Figure size 1600x200 with 2 Axes>"
      ]
     },
     "metadata": {},
     "output_type": "display_data"
    }
   ],
   "source": [
    "# выведем график со всеми корреляциями\n",
    "fig, ax = plt.subplots(figsize=(16, 2))\n",
    "features = ['balance', 'est_salary', 'equity', 'score', 'age', 'city_Ростов', 'city_Рыбинск', 'city_Ярославль', \n",
    "            'gender_F', 'gender_M','churn']\n",
    "\n",
    "matrix = df[features].corr()['churn'].T\n",
    "\n",
    "sns.heatmap(pd.DataFrame(matrix).T, cmap='coolwarm', center=0, annot=True)\n",
    "plt.title('Матрица корреляций')\n",
    "plt.xticks(rotation=10)\n",
    "plt.show()"
   ]
  },
  {
   "cell_type": "markdown",
   "id": "9b123b5b",
   "metadata": {},
   "source": [
    "Слабая корреляция - equity, score, gender_F (отрицательная), gender_M.\n",
    "Корреляции с другими признаками нет. "
   ]
  },
  {
   "cell_type": "markdown",
   "id": "f16da8a1",
   "metadata": {},
   "source": [
    "### Анализ портретов клиентов в разрезе оттока"
   ]
  },
  {
   "cell_type": "code",
   "execution_count": 63,
   "id": "a5bbdd81",
   "metadata": {},
   "outputs": [
    {
     "data": {
      "text/html": [
       "<div>\n",
       "<style scoped>\n",
       "    .dataframe tbody tr th:only-of-type {\n",
       "        vertical-align: middle;\n",
       "    }\n",
       "\n",
       "    .dataframe tbody tr th {\n",
       "        vertical-align: top;\n",
       "    }\n",
       "\n",
       "    .dataframe thead th {\n",
       "        text-align: right;\n",
       "    }\n",
       "</style>\n",
       "<table border=\"1\" class=\"dataframe\">\n",
       "  <thead>\n",
       "    <tr style=\"text-align: right;\">\n",
       "      <th></th>\n",
       "      <th>Параметр</th>\n",
       "      <th>Не отток</th>\n",
       "      <th>Отток</th>\n",
       "      <th>Относительная разница</th>\n",
       "    </tr>\n",
       "  </thead>\n",
       "  <tbody>\n",
       "    <tr>\n",
       "      <th>0</th>\n",
       "      <td>age</td>\n",
       "      <td>40.00</td>\n",
       "      <td>39.00</td>\n",
       "      <td>-1.00</td>\n",
       "    </tr>\n",
       "    <tr>\n",
       "      <th>1</th>\n",
       "      <td>balance</td>\n",
       "      <td>475.38</td>\n",
       "      <td>783.91</td>\n",
       "      <td>308.53</td>\n",
       "    </tr>\n",
       "    <tr>\n",
       "      <th>2</th>\n",
       "      <td>city_Ростов</td>\n",
       "      <td>0.00</td>\n",
       "      <td>0.00</td>\n",
       "      <td>0.00</td>\n",
       "    </tr>\n",
       "    <tr>\n",
       "      <th>3</th>\n",
       "      <td>city_Рыбинск</td>\n",
       "      <td>0.00</td>\n",
       "      <td>0.00</td>\n",
       "      <td>0.00</td>\n",
       "    </tr>\n",
       "    <tr>\n",
       "      <th>4</th>\n",
       "      <td>city_Ярославль</td>\n",
       "      <td>1.00</td>\n",
       "      <td>1.00</td>\n",
       "      <td>0.00</td>\n",
       "    </tr>\n",
       "    <tr>\n",
       "      <th>5</th>\n",
       "      <td>credit_card</td>\n",
       "      <td>1.00</td>\n",
       "      <td>1.00</td>\n",
       "      <td>0.00</td>\n",
       "    </tr>\n",
       "    <tr>\n",
       "      <th>6</th>\n",
       "      <td>equity</td>\n",
       "      <td>3.00</td>\n",
       "      <td>4.00</td>\n",
       "      <td>1.00</td>\n",
       "    </tr>\n",
       "    <tr>\n",
       "      <th>7</th>\n",
       "      <td>est_salary</td>\n",
       "      <td>118.25</td>\n",
       "      <td>125.41</td>\n",
       "      <td>7.16</td>\n",
       "    </tr>\n",
       "    <tr>\n",
       "      <th>8</th>\n",
       "      <td>gender_F</td>\n",
       "      <td>1.00</td>\n",
       "      <td>0.00</td>\n",
       "      <td>-1.00</td>\n",
       "    </tr>\n",
       "    <tr>\n",
       "      <th>9</th>\n",
       "      <td>gender_M</td>\n",
       "      <td>0.00</td>\n",
       "      <td>1.00</td>\n",
       "      <td>1.00</td>\n",
       "    </tr>\n",
       "    <tr>\n",
       "      <th>10</th>\n",
       "      <td>last_activity</td>\n",
       "      <td>0.00</td>\n",
       "      <td>1.00</td>\n",
       "      <td>1.00</td>\n",
       "    </tr>\n",
       "    <tr>\n",
       "      <th>11</th>\n",
       "      <td>products</td>\n",
       "      <td>2.00</td>\n",
       "      <td>2.00</td>\n",
       "      <td>0.00</td>\n",
       "    </tr>\n",
       "  </tbody>\n",
       "</table>\n",
       "</div>"
      ],
      "text/plain": [
       "          Параметр  Не отток   Отток  Относительная разница\n",
       "0              age     40.00   39.00                  -1.00\n",
       "1          balance    475.38  783.91                 308.53\n",
       "2      city_Ростов      0.00    0.00                   0.00\n",
       "3     city_Рыбинск      0.00    0.00                   0.00\n",
       "4   city_Ярославль      1.00    1.00                   0.00\n",
       "5      credit_card      1.00    1.00                   0.00\n",
       "6           equity      3.00    4.00                   1.00\n",
       "7       est_salary    118.25  125.41                   7.16\n",
       "8         gender_F      1.00    0.00                  -1.00\n",
       "9         gender_M      0.00    1.00                   1.00\n",
       "10   last_activity      0.00    1.00                   1.00\n",
       "11        products      2.00    2.00                   0.00"
      ]
     },
     "execution_count": 63,
     "metadata": {},
     "output_type": "execute_result"
    }
   ],
   "source": [
    "# делаем свобную таблицу, где посмотрим на средние показатели в разрезе оттока\n",
    "portrait = df.pivot_table(columns='churn', aggfunc={'age':'median', \n",
    "                                                    'est_salary':'median',\n",
    "                                                    'equity':'median', \n",
    "                                                    'products':'median',\n",
    "                                                    'balance':'median', \n",
    "                                                    'city_Ростов':'median', 'city_Рыбинск':'median', 'city_Ярославль':'median', \n",
    "                                                    'gender_F':'median', 'gender_M':'median',\n",
    "                                                    'last_activity':'median',  \n",
    "                                                    'credit_card':'median'}).round(2).reset_index()\n",
    "\n",
    "portrait['Относительная разница'] = portrait[1] - portrait[0]\n",
    "portrait.columns = ['Параметр', 'Не отток', 'Отток', 'Относительная разница']\n",
    "portrait"
   ]
  },
  {
   "cell_type": "markdown",
   "id": "d58ba696",
   "metadata": {},
   "source": [
    "Наибольшая разница в балансе на счете - около 308 тыс руб, зарплата у отточных в среднем больше на около 7 тыс руб, также больше в среднем продуктов и баллов собственности."
   ]
  },
  {
   "cell_type": "markdown",
   "id": "c81555ba",
   "metadata": {},
   "source": [
    "## 5. Статистический анализ (тестирование гипотез)\n",
    "- формулирование гипотез \n",
    "- проверка гипотез "
   ]
  },
  {
   "cell_type": "markdown",
   "id": "c7beaca3",
   "metadata": {},
   "source": [
    "Будем применять t-тест для сравнения клиентов: \n",
    "- Оставшиеся и отточные клиенты не зависят друг от друга\n",
    "- Ввиду больших размеров выборок распределение Стьюдента стремится к нормальному\n",
    "- Так как выборки разного размера и предполагаем, что дисперсии разные, укажим equal_var = False. "
   ]
  },
  {
   "cell_type": "code",
   "execution_count": 64,
   "id": "8322626a",
   "metadata": {},
   "outputs": [],
   "source": [
    "# выделим выборки\n",
    "df_0 = df.query('churn == 0')\n",
    "df_1 = df.query('churn == 1')"
   ]
  },
  {
   "cell_type": "code",
   "execution_count": 65,
   "id": "04e70a7c",
   "metadata": {},
   "outputs": [],
   "source": [
    "# выполним тест Левена, чтоб проверить равенство дисперсий (проверим на зарплате)\n",
    "st.levene(df_0['est_salary'], df_1['est_salary'], center='median')\n",
    "\n",
    "alpha = .05"
   ]
  },
  {
   "cell_type": "markdown",
   "id": "8f3665ec",
   "metadata": {},
   "source": [
    "P-value меньше alpha, делаем вывод, что дисперсии не равны. "
   ]
  },
  {
   "cell_type": "markdown",
   "id": "ceaba2a6",
   "metadata": {},
   "source": [
    "### 1 гипотеза"
   ]
  },
  {
   "cell_type": "markdown",
   "id": "d80b289f",
   "metadata": {},
   "source": [
    "Проверка гипотезы: доходы между отточными и оставшимися клиентами различаются.\n",
    "\n",
    "```\n",
    "H_0: Доход (est_salary) отточных клиентов = Доход (est_salary) оставшихся клиентов \n",
    "H_a: Доход (est_salary) отточных клиентов ≠ Доход (est_salary) оставшихся клиентов \n",
    "alpha = 0.05\n",
    "```"
   ]
  },
  {
   "cell_type": "code",
   "execution_count": 66,
   "id": "d38c29cf",
   "metadata": {},
   "outputs": [
    {
     "data": {
      "text/plain": [
       "0.8626784591490468"
      ]
     },
     "execution_count": 66,
     "metadata": {},
     "output_type": "execute_result"
    }
   ],
   "source": [
    "samp1 = df[df['churn'] == 1]['est_salary']\n",
    "samp2 = df[df['churn']  == 0]['est_salary']\n",
    "results = st.ttest_ind(samp1, samp2, equal_var=False) # results = вызов метода для проверки гипотезы\n",
    "\n",
    "alpha = .05 # alpha = задаем значение уровня значимости\n",
    "\n",
    "sign = results.pvalue # вывод значения p-value на экран \n",
    "sign    "
   ]
  },
  {
   "cell_type": "code",
   "execution_count": 67,
   "id": "6ded119b",
   "metadata": {},
   "outputs": [
    {
     "name": "stdout",
     "output_type": "stream",
     "text": [
      "Не получилось отвергнуть нулевую гипотезу\n"
     ]
    }
   ],
   "source": [
    "if results.pvalue < alpha: # условный оператор с выводом строки с ответом\n",
    "    print('Отвергаем нулевую гипотезу')\n",
    "else: \n",
    "    print('Не получилось отвергнуть нулевую гипотезу')   "
   ]
  },
  {
   "cell_type": "markdown",
   "id": "0cf0b7b9",
   "metadata": {},
   "source": [
    "Делаем вывод, что нет статистически значимых различий между доходами клиентов. Даже если у отточных клиентов медианная зарплата выше на 7 тыс руб, это не значительная разница. "
   ]
  },
  {
   "cell_type": "markdown",
   "id": "10b8fa09",
   "metadata": {},
   "source": [
    "### 2 гипотеза "
   ]
  },
  {
   "cell_type": "markdown",
   "id": "ad191353",
   "metadata": {},
   "source": [
    "Проверка гипотезы: кредитный скоринг между отточными и оставшимися клиентами различается.\n",
    "\n",
    "```\n",
    "H_0: Кредитный скоринг (score) отточных клиентов = Кредитный скоринг (score) оставшихся клиентов \n",
    "H_a: Кредитный скоринг (score) отточных клиентов ≠ Кредитный скоринг (score оставшихся клиентов \n",
    "alpha = 0.05\n",
    "```"
   ]
  },
  {
   "cell_type": "code",
   "execution_count": 68,
   "id": "0045a674",
   "metadata": {},
   "outputs": [
    {
     "data": {
      "text/plain": [
       "2.183635757413355e-37"
      ]
     },
     "execution_count": 68,
     "metadata": {},
     "output_type": "execute_result"
    }
   ],
   "source": [
    "samp1 = df[df['churn'] == 1]['score']\n",
    "samp2 = df[df['churn']  == 0]['score']\n",
    "results = st.ttest_ind(samp1, samp2, equal_var=False) # results = вызов метода для проверки гипотезы\n",
    "\n",
    "alpha = .05 # alpha = задаем значение уровня значимости\n",
    "\n",
    "sign = results.pvalue # вывод значения p-value на экран \n",
    "sign  "
   ]
  },
  {
   "cell_type": "code",
   "execution_count": 69,
   "id": "0bfc14c2",
   "metadata": {},
   "outputs": [
    {
     "name": "stdout",
     "output_type": "stream",
     "text": [
      "Отвергаем нулевую гипотезу\n"
     ]
    }
   ],
   "source": [
    "if results.pvalue < alpha: # условный оператор с выводом строки с ответом\n",
    "    print('Отвергаем нулевую гипотезу')\n",
    "else: \n",
    "    print('Не получилось отвергнуть нулевую гипотезу')   "
   ]
  },
  {
   "cell_type": "markdown",
   "id": "aeb0ddd5",
   "metadata": {},
   "source": [
    "Есть статистически значимые различия между выборками в разрезе кредитного скоринга. "
   ]
  },
  {
   "cell_type": "markdown",
   "id": "622d4e9c",
   "metadata": {},
   "source": [
    "### 3 гипотеза"
   ]
  },
  {
   "cell_type": "markdown",
   "id": "b480c89d",
   "metadata": {},
   "source": [
    "Проверка гипотезы: количество продуктов между отточными и оставшимися клиентами различается.\n",
    "\n",
    "```\n",
    "H_0: Количество продуктов (products) отточных клиентов = Количество продуктов (products) оставшихся клиентов \n",
    "H_a: Количество продуктов (products) отточных клиентов ≠ Количество продуктов (products) оставшихся клиентов \n",
    "alpha = 0.05\n",
    "```"
   ]
  },
  {
   "cell_type": "code",
   "execution_count": 70,
   "id": "278d6ade",
   "metadata": {},
   "outputs": [
    {
     "data": {
      "text/plain": [
       "9.413327765189615e-139"
      ]
     },
     "execution_count": 70,
     "metadata": {},
     "output_type": "execute_result"
    }
   ],
   "source": [
    "samp1 = df[df['churn'] == 1]['products']\n",
    "samp2 = df[df['churn'] == 0]['products']\n",
    "results = st.ttest_ind(samp1, samp2, equal_var=False) # results = вызов метода для проверки гипотезы\n",
    "\n",
    "alpha = .05 # alpha = задаем значение уровня значимости\n",
    "\n",
    "sign = results.pvalue # вывод значения p-value на экран \n",
    "sign "
   ]
  },
  {
   "cell_type": "code",
   "execution_count": 71,
   "id": "a193c1f2",
   "metadata": {},
   "outputs": [
    {
     "name": "stdout",
     "output_type": "stream",
     "text": [
      "Отвергаем нулевую гипотезу\n"
     ]
    }
   ],
   "source": [
    "if results.pvalue < alpha: # условный оператор с выводом строки с ответом\n",
    "    print('Отвергаем нулевую гипотезу')\n",
    "else: \n",
    "    print('Не получилось отвергнуть нулевую гипотезу')  "
   ]
  },
  {
   "cell_type": "markdown",
   "id": "3bab1c5c",
   "metadata": {},
   "source": [
    "Есть статистические различия между количеством продуктов в разрезе отточности. "
   ]
  },
  {
   "cell_type": "markdown",
   "id": "0d8932da",
   "metadata": {},
   "source": [
    "## 6. Промежуточные итоги \n",
    "- выделить стратегические показатели, влияющие на отток"
   ]
  },
  {
   "cell_type": "markdown",
   "id": "3c7df44a",
   "metadata": {},
   "source": [
    "Выделим следующие группы клиентов наиболее склонные к оттоку по признакам: \n",
    "```\n",
    "    - кредитный скоринг от 850 до 900    \n",
    "    - баланс на счете больше 750 тыс руб\n",
    "    - город Ростов и Ярославль\n",
    "    - гендер - М \n",
    "    - коэффициент собственности больше 2\n",
    "    - возраст от 50 до 60 лет \n",
    "    - количество продуктов больше 2 \n",
    "    - активный клиент\n",
    "    - без кредитной карты \n",
    "```"
   ]
  },
  {
   "cell_type": "markdown",
   "id": "458f2f07",
   "metadata": {},
   "source": [
    "<div class=\"alert alert-success\">\n",
    "<h2> Комментарий тимлида <a class=\"tocSkip\"> </h2>\n",
    "\n",
    "<b>Все отлично!👍:</b> Выделили признаки, влияющие на отток, и их значения - отлично!"
   ]
  },
  {
   "cell_type": "markdown",
   "id": "5f4a70fe",
   "metadata": {},
   "source": [
    "## 7. Сегментация\n",
    "- формирование отточных сегментов по минимум 2 признакам"
   ]
  },
  {
   "cell_type": "markdown",
   "id": "102db280",
   "metadata": {},
   "source": [
    "На основе исследовательского анализа данных и тестирования гипотез сформируем сегменты по 2 признакам, включающие наибольший процент оттока клиентов."
   ]
  },
  {
   "cell_type": "markdown",
   "id": "304cc271",
   "metadata": {},
   "source": [
    "### 1 сегмент: клиенты из Ярославля с количеством продуктов больше 2"
   ]
  },
  {
   "cell_type": "code",
   "execution_count": 72,
   "id": "d89fd694",
   "metadata": {},
   "outputs": [
    {
     "name": "stdout",
     "output_type": "stream",
     "text": [
      "Размер сегмента - 1098\n",
      "Средний отток - 40.16 %\n",
      "Количество отточных клиентов в сегменте -  441\n"
     ]
    }
   ],
   "source": [
    "print('Размер сегмента -', len(df[(df['city'] == 'Ярославль') & (df['products'] > 2)]))\n",
    "print('Средний отток -', round(df[(df['city'] == 'Ярославль') & (df['products'] > 2)]['churn'].mean() * 100, 2), '%')\n",
    "print('Количество отточных клиентов в сегменте - ', len(df[(df['city'] == 'Ярославль') & (df['products'] > 2) & \n",
    "                                                           (df['churn'] == 1)]))"
   ]
  },
  {
   "cell_type": "markdown",
   "id": "a64c2247",
   "metadata": {},
   "source": [
    "### 2 сегмент: клиенты возраста 50-60 лет с коэффициентом собственности больше 2"
   ]
  },
  {
   "cell_type": "code",
   "execution_count": 73,
   "id": "39e81794",
   "metadata": {},
   "outputs": [
    {
     "name": "stdout",
     "output_type": "stream",
     "text": [
      "Размер сегмента - 818\n",
      "Средний отток - 37.9 %\n",
      "Количество отточных клиентов в сегменте -  310\n"
     ]
    }
   ],
   "source": [
    "print('Размер сегмента -', len(df[(df['age'] > 50) & (df['age'] < 60) & (df['equity'] > 2)]))\n",
    "print('Средний отток -', round(df[(df['age'] > 50) & (df['age'] < 60) & (df['equity'] > 2)]['churn'].mean() * 100, 2), '%')\n",
    "print('Количество отточных клиентов в сегменте - ', len(df[(df['age'] > 50) & (df['age'] < 60) & (df['equity'] > 2) & \n",
    "                                                           (df['churn'] == 1)]))"
   ]
  },
  {
   "cell_type": "markdown",
   "id": "512eb583",
   "metadata": {},
   "source": [
    "### 3 сегмент: активные клиенты без кредитной карты "
   ]
  },
  {
   "cell_type": "code",
   "execution_count": 74,
   "id": "1136aea1",
   "metadata": {},
   "outputs": [
    {
     "name": "stdout",
     "output_type": "stream",
     "text": [
      "Размер сегмента - 1740\n",
      "Средний отток - 35.17 %\n",
      "Количество отточных клиентов в сегменте -  612\n"
     ]
    }
   ],
   "source": [
    "print('Размер сегмента -', len(df[(df['last_activity'] == 1) & (df['credit_card'] == 0)]))\n",
    "print('Средний отток -', round(df[(df['last_activity'] == 1) & (df['credit_card'] == 0)]['churn'].mean() * 100, 2), '%')\n",
    "print('Количество отточных клиентов в сегменте - ', len(df[(df['last_activity'] == 1) & (df['credit_card'] == 0) &\n",
    "                                                           (df['churn'] == 1)]))"
   ]
  },
  {
   "cell_type": "markdown",
   "id": "038ff8a9",
   "metadata": {},
   "source": [
    "### 4 сегмент: клиенты-мужчины с балансом на счете более 750 тыс руб"
   ]
  },
  {
   "cell_type": "code",
   "execution_count": 75,
   "id": "ddb97f5e",
   "metadata": {},
   "outputs": [
    {
     "name": "stdout",
     "output_type": "stream",
     "text": [
      "Размер сегмента - 1369\n",
      "Средний отток - 45.22 %\n",
      "Количество отточных клиентов в сегменте -  619\n"
     ]
    }
   ],
   "source": [
    "print('Размер сегмента -', len(df[(df['balance'] > 750) & (df['gender'] == 'М')]))\n",
    "print('Средний отток -', round(df[(df['balance'] > 750) & (df['gender'] == 'М')]['churn'].mean() * 100, 2), '%')\n",
    "print('Количество отточных клиентов в сегменте - ', len(df[(df['balance'] > 750) & (df['gender'] == 'М') &\n",
    "                                                           (df['churn'] == 1)]))"
   ]
  },
  {
   "cell_type": "markdown",
   "id": "30110037",
   "metadata": {},
   "source": [
    "## 8. Выводы, рекомендации\n",
    "- итоговые рекомендации по результатам исследования для маркетингового отдела по выбранным сегментам, приоритизация сегментов"
   ]
  },
  {
   "cell_type": "markdown",
   "id": "b6204557",
   "metadata": {},
   "source": [
    "В этом проекте мы анализировали клиентов Метанпромбанка, работали c данными о параметрах клиентов, их активности и взаимодействии с банком и его продуктами, чтобы в итоге определить потенциальные сегменты для таргетирования маркетинговым отделом для снижения оттока клиентов. \n",
    "\n",
    "Предстоит приоритизировать сегменты, можно это сделать в зависимости от размера сегмента или уровня оттока в сегменте. \n",
    "Если говорить о размере, то в первую очередь можно выбрать 3 и 4 сегменты, 1745 и 1370 клиентов соответственно.\n",
    "Если взять за цель уровень оттока, то следует выбрать 4 и 1 сегменты, 45.18% и 40.13% соответственно. \n",
    "Если на текущий момент нет возможности таргетировать большие сегменты ввиду отсутствия автоматизированной системы рассылки, можно выбрать 2 и 1 сегменты, 819 и 1099 клиентов соответсвенно, если нужно дальше снизить размер сегментов, можно добавить признаки или скорректировать диапазон выбранных признаков. \n",
    "\n",
    "Конкретно про каждый сегмент:\n",
    "\n",
    "1 сегмент: клиенты из Ярославля с количеством продуктов больше 2 (двух)\n",
    "\n",
    "В Ярославле большая часть клиентов, средний уровень оттока - около 19%, чтобы не таргетировать всех, возьмем тех, кто пользуется\n",
    "2 и больше продуктами, так как отток растет с количеством продуктов. Клиенты, которые например пользуются дебетовой картой и накопительным счетом, скорее всего рассматривают Метанпромбанк как основной и не склонны держать несколько открытых счетов в разных банках, и потенциально могут быть заинтересованы в других продуктах Банка. Поэтому важно таргетировать именно таких клиентов.\n",
    "\n",
    "2 сегмент: клиенты возраста 50-60 лет с коэффициентом собственности больше 2 (двух)\n",
    "\n",
    "Как мы выяснили, состоятельные клиенты более склонны к оттоку, эти клиенты как раз примерно этого возраста, такие клиенты больше держат на счетах, возможно пользуются премиум-обслуживанием. \n",
    "\n",
    "3 сегмент: активные клиенты без кредитной карты \n",
    "\n",
    "Клиенты из этого сегмента могут покинуть банк по разным причинам, активные клиенты заинтересованы в хорошем обслуживании и высокой привлекательности продуктов. Если их не держит задолженность по кредитной карте, ничего не стоит уйти в другой банк. \n",
    "Это могут быть лояльные клиенты, которые потенциально могут воспользоваться другими продуктами банка, например ипотечным кредитованием. \n",
    "\n",
    "4 сегмент: клиенты-мужчины с балансом на счете более 750 тыс руб\n",
    "\n",
    "Клиенты-мужчины менее лояльные клиенты, чем женщины (несмотря на примерно равное количество обеих групп), особенно те, кто держат на счете 750 тыс руб и больше.\n",
    "Опять-таки имеем дело с клиентами, которые могут держать на счетах большие суммы, совершать много операций, платить регулярно комиссии. Следует обратить на них внимание. \n",
    "\n",
    "Рекомендуем планировать маркетинговые кампании в соответствии с выводами выше. "
   ]
  },
  {
   "cell_type": "code",
   "execution_count": null,
   "id": "6dc836f6",
   "metadata": {},
   "outputs": [],
   "source": []
  }
 ],
 "metadata": {
  "ExecuteTimeLog": [
   {
    "duration": 1217,
    "start_time": "2023-05-11T17:09:54.513Z"
   },
   {
    "duration": 1107,
    "start_time": "2023-05-11T17:09:55.732Z"
   },
   {
    "duration": 23,
    "start_time": "2023-05-11T17:09:56.841Z"
   },
   {
    "duration": 31,
    "start_time": "2023-05-11T17:09:56.866Z"
   },
   {
    "duration": 34,
    "start_time": "2023-05-11T17:09:56.900Z"
   },
   {
    "duration": 63,
    "start_time": "2023-05-11T17:09:56.936Z"
   },
   {
    "duration": 3,
    "start_time": "2023-05-11T17:09:57.783Z"
   },
   {
    "duration": 6,
    "start_time": "2023-05-11T17:09:58.504Z"
   },
   {
    "duration": 3,
    "start_time": "2023-05-11T17:09:59.585Z"
   },
   {
    "duration": 20,
    "start_time": "2023-05-11T17:09:59.869Z"
   },
   {
    "duration": 109,
    "start_time": "2023-05-11T17:10:00.777Z"
   },
   {
    "duration": 48,
    "start_time": "2023-05-11T17:10:05.693Z"
   },
   {
    "duration": 59,
    "start_time": "2023-05-12T11:04:12.884Z"
   },
   {
    "duration": 1307,
    "start_time": "2023-05-12T11:04:20.857Z"
   },
   {
    "duration": 1221,
    "start_time": "2023-05-12T11:04:22.166Z"
   },
   {
    "duration": 26,
    "start_time": "2023-05-12T11:04:23.389Z"
   },
   {
    "duration": 10,
    "start_time": "2023-05-12T11:04:23.420Z"
   },
   {
    "duration": 21,
    "start_time": "2023-05-12T11:04:23.437Z"
   },
   {
    "duration": 43,
    "start_time": "2023-05-12T11:04:23.461Z"
   },
   {
    "duration": 6,
    "start_time": "2023-05-12T11:04:23.505Z"
   },
   {
    "duration": 16,
    "start_time": "2023-05-12T11:04:23.517Z"
   },
   {
    "duration": 20,
    "start_time": "2023-05-12T11:04:23.535Z"
   },
   {
    "duration": 24,
    "start_time": "2023-05-12T11:04:23.558Z"
   },
   {
    "duration": 82,
    "start_time": "2023-05-12T11:04:23.584Z"
   },
   {
    "duration": 8,
    "start_time": "2023-05-12T11:04:23.669Z"
   },
   {
    "duration": 102,
    "start_time": "2023-05-12T11:04:23.679Z"
   },
   {
    "duration": 0,
    "start_time": "2023-05-12T11:04:23.787Z"
   },
   {
    "duration": 0,
    "start_time": "2023-05-12T11:04:23.789Z"
   },
   {
    "duration": 0,
    "start_time": "2023-05-12T11:04:23.791Z"
   },
   {
    "duration": 0,
    "start_time": "2023-05-12T11:04:23.793Z"
   },
   {
    "duration": 0,
    "start_time": "2023-05-12T11:04:23.795Z"
   },
   {
    "duration": 1,
    "start_time": "2023-05-12T11:04:23.795Z"
   },
   {
    "duration": 0,
    "start_time": "2023-05-12T11:04:23.797Z"
   },
   {
    "duration": 0,
    "start_time": "2023-05-12T11:04:23.798Z"
   },
   {
    "duration": 0,
    "start_time": "2023-05-12T11:04:23.800Z"
   },
   {
    "duration": 0,
    "start_time": "2023-05-12T11:04:23.801Z"
   },
   {
    "duration": 0,
    "start_time": "2023-05-12T11:04:23.801Z"
   },
   {
    "duration": 1,
    "start_time": "2023-05-12T11:04:23.801Z"
   },
   {
    "duration": 0,
    "start_time": "2023-05-12T11:04:23.802Z"
   },
   {
    "duration": 0,
    "start_time": "2023-05-12T11:04:23.802Z"
   },
   {
    "duration": 0,
    "start_time": "2023-05-12T11:04:23.803Z"
   },
   {
    "duration": 0,
    "start_time": "2023-05-12T11:04:23.806Z"
   },
   {
    "duration": 0,
    "start_time": "2023-05-12T11:04:23.809Z"
   },
   {
    "duration": 0,
    "start_time": "2023-05-12T11:04:23.810Z"
   },
   {
    "duration": 0,
    "start_time": "2023-05-12T11:04:23.811Z"
   },
   {
    "duration": 0,
    "start_time": "2023-05-12T11:04:23.812Z"
   },
   {
    "duration": 0,
    "start_time": "2023-05-12T11:04:23.813Z"
   },
   {
    "duration": 0,
    "start_time": "2023-05-12T11:04:23.814Z"
   },
   {
    "duration": 0,
    "start_time": "2023-05-12T11:04:23.815Z"
   },
   {
    "duration": 0,
    "start_time": "2023-05-12T11:04:23.816Z"
   },
   {
    "duration": 0,
    "start_time": "2023-05-12T11:04:23.816Z"
   },
   {
    "duration": 0,
    "start_time": "2023-05-12T11:04:23.817Z"
   },
   {
    "duration": 0,
    "start_time": "2023-05-12T11:04:23.818Z"
   },
   {
    "duration": 0,
    "start_time": "2023-05-12T11:04:23.819Z"
   },
   {
    "duration": 0,
    "start_time": "2023-05-12T11:04:23.826Z"
   },
   {
    "duration": 0,
    "start_time": "2023-05-12T11:04:23.827Z"
   },
   {
    "duration": 0,
    "start_time": "2023-05-12T11:04:23.828Z"
   },
   {
    "duration": 0,
    "start_time": "2023-05-12T11:04:23.829Z"
   },
   {
    "duration": 0,
    "start_time": "2023-05-12T11:04:23.830Z"
   },
   {
    "duration": 0,
    "start_time": "2023-05-12T11:04:23.831Z"
   },
   {
    "duration": 0,
    "start_time": "2023-05-12T11:04:23.832Z"
   },
   {
    "duration": 0,
    "start_time": "2023-05-12T11:04:23.833Z"
   },
   {
    "duration": 0,
    "start_time": "2023-05-12T11:04:23.835Z"
   },
   {
    "duration": 0,
    "start_time": "2023-05-12T11:04:23.836Z"
   },
   {
    "duration": 0,
    "start_time": "2023-05-12T11:04:23.838Z"
   },
   {
    "duration": 0,
    "start_time": "2023-05-12T11:04:23.839Z"
   },
   {
    "duration": 0,
    "start_time": "2023-05-12T11:04:23.840Z"
   },
   {
    "duration": 0,
    "start_time": "2023-05-12T11:04:23.841Z"
   },
   {
    "duration": 0,
    "start_time": "2023-05-12T11:04:23.842Z"
   },
   {
    "duration": 0,
    "start_time": "2023-05-12T11:04:23.844Z"
   },
   {
    "duration": 0,
    "start_time": "2023-05-12T11:04:23.845Z"
   },
   {
    "duration": 0,
    "start_time": "2023-05-12T11:04:23.846Z"
   },
   {
    "duration": 0,
    "start_time": "2023-05-12T11:04:23.847Z"
   },
   {
    "duration": 0,
    "start_time": "2023-05-12T11:04:23.850Z"
   },
   {
    "duration": 0,
    "start_time": "2023-05-12T11:04:23.851Z"
   },
   {
    "duration": 0,
    "start_time": "2023-05-12T11:04:23.852Z"
   },
   {
    "duration": 0,
    "start_time": "2023-05-12T11:04:23.853Z"
   },
   {
    "duration": 0,
    "start_time": "2023-05-12T11:04:23.855Z"
   },
   {
    "duration": 0,
    "start_time": "2023-05-12T11:04:23.857Z"
   },
   {
    "duration": 0,
    "start_time": "2023-05-12T11:04:23.859Z"
   },
   {
    "duration": 6,
    "start_time": "2023-05-12T11:05:08.885Z"
   },
   {
    "duration": 5,
    "start_time": "2023-05-12T11:05:11.584Z"
   },
   {
    "duration": 34,
    "start_time": "2023-05-12T11:05:11.591Z"
   },
   {
    "duration": 9,
    "start_time": "2023-05-12T11:05:11.630Z"
   },
   {
    "duration": 8,
    "start_time": "2023-05-12T11:05:11.641Z"
   },
   {
    "duration": 5,
    "start_time": "2023-05-12T11:05:11.653Z"
   },
   {
    "duration": 9,
    "start_time": "2023-05-12T11:05:11.660Z"
   },
   {
    "duration": 20,
    "start_time": "2023-05-12T11:05:11.671Z"
   },
   {
    "duration": 47,
    "start_time": "2023-05-12T11:05:11.692Z"
   },
   {
    "duration": 4,
    "start_time": "2023-05-12T11:05:11.744Z"
   },
   {
    "duration": 18,
    "start_time": "2023-05-12T11:05:11.749Z"
   },
   {
    "duration": 4,
    "start_time": "2023-05-12T11:05:11.770Z"
   },
   {
    "duration": 53,
    "start_time": "2023-05-12T11:05:11.775Z"
   },
   {
    "duration": 299,
    "start_time": "2023-05-12T11:05:11.833Z"
   },
   {
    "duration": 18,
    "start_time": "2023-05-12T11:05:12.135Z"
   },
   {
    "duration": 169,
    "start_time": "2023-05-12T11:05:12.154Z"
   },
   {
    "duration": 19,
    "start_time": "2023-05-12T11:05:12.326Z"
   },
   {
    "duration": 319,
    "start_time": "2023-05-12T11:05:12.346Z"
   },
   {
    "duration": 8,
    "start_time": "2023-05-12T11:05:12.667Z"
   },
   {
    "duration": 50,
    "start_time": "2023-05-12T11:05:12.677Z"
   },
   {
    "duration": 197,
    "start_time": "2023-05-12T11:05:12.729Z"
   },
   {
    "duration": 25,
    "start_time": "2023-05-12T11:05:12.930Z"
   },
   {
    "duration": 209,
    "start_time": "2023-05-12T11:05:12.957Z"
   },
   {
    "duration": 47,
    "start_time": "2023-05-12T11:05:13.168Z"
   },
   {
    "duration": 251,
    "start_time": "2023-05-12T11:05:13.216Z"
   },
   {
    "duration": 6,
    "start_time": "2023-05-12T11:05:13.469Z"
   },
   {
    "duration": 19,
    "start_time": "2023-05-12T11:05:13.476Z"
   },
   {
    "duration": 251,
    "start_time": "2023-05-12T11:05:13.497Z"
   },
   {
    "duration": 7,
    "start_time": "2023-05-12T11:05:13.750Z"
   },
   {
    "duration": 260,
    "start_time": "2023-05-12T11:05:13.758Z"
   },
   {
    "duration": 10,
    "start_time": "2023-05-12T11:05:14.023Z"
   },
   {
    "duration": 241,
    "start_time": "2023-05-12T11:05:14.034Z"
   },
   {
    "duration": 143,
    "start_time": "2023-05-12T11:05:14.276Z"
   },
   {
    "duration": 10,
    "start_time": "2023-05-12T11:05:14.426Z"
   },
   {
    "duration": 241,
    "start_time": "2023-05-12T11:05:14.441Z"
   },
   {
    "duration": 7,
    "start_time": "2023-05-12T11:05:14.684Z"
   },
   {
    "duration": 151,
    "start_time": "2023-05-12T11:05:14.692Z"
   },
   {
    "duration": 4,
    "start_time": "2023-05-12T11:05:14.847Z"
   },
   {
    "duration": 267,
    "start_time": "2023-05-12T11:05:14.853Z"
   },
   {
    "duration": 19,
    "start_time": "2023-05-12T11:05:15.127Z"
   },
   {
    "duration": 122,
    "start_time": "2023-05-12T11:05:15.147Z"
   },
   {
    "duration": 5,
    "start_time": "2023-05-12T11:05:15.271Z"
   },
   {
    "duration": 291,
    "start_time": "2023-05-12T11:05:15.277Z"
   },
   {
    "duration": 20,
    "start_time": "2023-05-12T11:05:15.570Z"
   },
   {
    "duration": 33,
    "start_time": "2023-05-12T11:05:15.591Z"
   },
   {
    "duration": 5,
    "start_time": "2023-05-12T11:05:15.639Z"
   },
   {
    "duration": 24,
    "start_time": "2023-05-12T11:05:15.646Z"
   },
   {
    "duration": 15,
    "start_time": "2023-05-12T11:05:15.671Z"
   },
   {
    "duration": 13,
    "start_time": "2023-05-12T11:05:15.688Z"
   },
   {
    "duration": 17,
    "start_time": "2023-05-12T11:05:15.702Z"
   },
   {
    "duration": 39,
    "start_time": "2023-05-12T11:05:15.727Z"
   },
   {
    "duration": 12,
    "start_time": "2023-05-12T11:05:15.768Z"
   },
   {
    "duration": 23,
    "start_time": "2023-05-12T11:05:15.782Z"
   },
   {
    "duration": 15,
    "start_time": "2023-05-12T11:05:15.819Z"
   },
   {
    "duration": 15,
    "start_time": "2023-05-12T11:05:15.835Z"
   },
   {
    "duration": 21,
    "start_time": "2023-05-12T11:22:16.038Z"
   },
   {
    "duration": 13,
    "start_time": "2023-05-12T11:23:53.126Z"
   },
   {
    "duration": 9,
    "start_time": "2023-05-12T11:24:04.283Z"
   },
   {
    "duration": 6,
    "start_time": "2023-05-12T11:25:57.348Z"
   },
   {
    "duration": 5,
    "start_time": "2023-05-12T11:26:00.883Z"
   },
   {
    "duration": 34,
    "start_time": "2023-05-12T11:27:22.112Z"
   },
   {
    "duration": 6,
    "start_time": "2023-05-12T11:27:45.280Z"
   },
   {
    "duration": 11,
    "start_time": "2023-05-12T11:27:46.182Z"
   },
   {
    "duration": 2,
    "start_time": "2023-05-12T11:27:47.942Z"
   },
   {
    "duration": 3,
    "start_time": "2023-05-12T11:27:58.652Z"
   },
   {
    "duration": 970,
    "start_time": "2023-05-12T11:27:58.656Z"
   },
   {
    "duration": 18,
    "start_time": "2023-05-12T11:27:59.629Z"
   },
   {
    "duration": 10,
    "start_time": "2023-05-12T11:27:59.648Z"
   },
   {
    "duration": 14,
    "start_time": "2023-05-12T11:27:59.662Z"
   },
   {
    "duration": 57,
    "start_time": "2023-05-12T11:27:59.678Z"
   },
   {
    "duration": 5,
    "start_time": "2023-05-12T11:27:59.743Z"
   },
   {
    "duration": 11,
    "start_time": "2023-05-12T11:27:59.750Z"
   },
   {
    "duration": 3,
    "start_time": "2023-05-12T11:27:59.763Z"
   },
   {
    "duration": 32,
    "start_time": "2023-05-12T11:27:59.768Z"
   },
   {
    "duration": 55,
    "start_time": "2023-05-12T11:27:59.803Z"
   },
   {
    "duration": 7,
    "start_time": "2023-05-12T11:27:59.860Z"
   },
   {
    "duration": 8,
    "start_time": "2023-05-12T11:27:59.869Z"
   },
   {
    "duration": 12,
    "start_time": "2023-05-12T11:27:59.878Z"
   },
   {
    "duration": 31,
    "start_time": "2023-05-12T11:27:59.892Z"
   },
   {
    "duration": 26,
    "start_time": "2023-05-12T11:27:59.927Z"
   },
   {
    "duration": 7,
    "start_time": "2023-05-12T11:27:59.955Z"
   },
   {
    "duration": 10,
    "start_time": "2023-05-12T11:27:59.964Z"
   },
   {
    "duration": 6,
    "start_time": "2023-05-12T11:27:59.976Z"
   },
   {
    "duration": 14,
    "start_time": "2023-05-12T11:27:59.984Z"
   },
   {
    "duration": 57,
    "start_time": "2023-05-12T11:28:00.000Z"
   },
   {
    "duration": 36,
    "start_time": "2023-05-12T11:28:00.059Z"
   },
   {
    "duration": 52,
    "start_time": "2023-05-12T11:28:00.097Z"
   },
   {
    "duration": 66,
    "start_time": "2023-05-12T11:28:00.152Z"
   },
   {
    "duration": 54,
    "start_time": "2023-05-12T11:28:00.220Z"
   },
   {
    "duration": 64,
    "start_time": "2023-05-12T11:28:00.277Z"
   },
   {
    "duration": 65,
    "start_time": "2023-05-12T11:28:00.343Z"
   },
   {
    "duration": 77,
    "start_time": "2023-05-12T11:28:00.410Z"
   },
   {
    "duration": 278,
    "start_time": "2023-05-12T11:28:00.491Z"
   },
   {
    "duration": 21,
    "start_time": "2023-05-12T11:28:00.771Z"
   },
   {
    "duration": 252,
    "start_time": "2023-05-12T11:28:00.793Z"
   },
   {
    "duration": 16,
    "start_time": "2023-05-12T11:28:01.048Z"
   },
   {
    "duration": 300,
    "start_time": "2023-05-12T11:28:01.066Z"
   },
   {
    "duration": 7,
    "start_time": "2023-05-12T11:28:01.368Z"
   },
   {
    "duration": 49,
    "start_time": "2023-05-12T11:28:01.377Z"
   },
   {
    "duration": 335,
    "start_time": "2023-05-12T11:28:01.428Z"
   },
   {
    "duration": 25,
    "start_time": "2023-05-12T11:28:01.768Z"
   },
   {
    "duration": 259,
    "start_time": "2023-05-12T11:28:01.795Z"
   },
   {
    "duration": 29,
    "start_time": "2023-05-12T11:28:02.055Z"
   },
   {
    "duration": 303,
    "start_time": "2023-05-12T11:28:02.086Z"
   },
   {
    "duration": 7,
    "start_time": "2023-05-12T11:28:02.391Z"
   },
   {
    "duration": 39,
    "start_time": "2023-05-12T11:28:02.406Z"
   },
   {
    "duration": 276,
    "start_time": "2023-05-12T11:28:02.446Z"
   },
   {
    "duration": 7,
    "start_time": "2023-05-12T11:28:02.726Z"
   },
   {
    "duration": 145,
    "start_time": "2023-05-12T11:28:02.737Z"
   },
   {
    "duration": 12,
    "start_time": "2023-05-12T11:28:02.884Z"
   },
   {
    "duration": 266,
    "start_time": "2023-05-12T11:28:02.898Z"
   },
   {
    "duration": 165,
    "start_time": "2023-05-12T11:28:03.165Z"
   },
   {
    "duration": 7,
    "start_time": "2023-05-12T11:28:03.332Z"
   },
   {
    "duration": 231,
    "start_time": "2023-05-12T11:28:03.341Z"
   },
   {
    "duration": 6,
    "start_time": "2023-05-12T11:28:03.574Z"
   },
   {
    "duration": 143,
    "start_time": "2023-05-12T11:28:03.581Z"
   },
   {
    "duration": 12,
    "start_time": "2023-05-12T11:28:03.726Z"
   },
   {
    "duration": 279,
    "start_time": "2023-05-12T11:28:03.740Z"
   },
   {
    "duration": 9,
    "start_time": "2023-05-12T11:28:04.021Z"
   },
   {
    "duration": 144,
    "start_time": "2023-05-12T11:28:04.031Z"
   },
   {
    "duration": 5,
    "start_time": "2023-05-12T11:28:04.177Z"
   },
   {
    "duration": 385,
    "start_time": "2023-05-12T11:28:04.183Z"
   },
   {
    "duration": 22,
    "start_time": "2023-05-12T11:28:04.570Z"
   },
   {
    "duration": 14,
    "start_time": "2023-05-12T11:28:04.613Z"
   },
   {
    "duration": 30,
    "start_time": "2023-05-12T11:28:04.629Z"
   },
   {
    "duration": 15,
    "start_time": "2023-05-12T11:28:04.661Z"
   },
   {
    "duration": 4,
    "start_time": "2023-05-12T11:28:04.679Z"
   },
   {
    "duration": 10,
    "start_time": "2023-05-12T11:28:04.685Z"
   },
   {
    "duration": 17,
    "start_time": "2023-05-12T11:28:04.696Z"
   },
   {
    "duration": 30,
    "start_time": "2023-05-12T11:28:04.721Z"
   },
   {
    "duration": 26,
    "start_time": "2023-05-12T11:28:04.752Z"
   },
   {
    "duration": 18,
    "start_time": "2023-05-12T11:28:04.779Z"
   },
   {
    "duration": 26,
    "start_time": "2023-05-12T11:28:04.799Z"
   },
   {
    "duration": 3,
    "start_time": "2023-05-12T11:28:04.829Z"
   },
   {
    "duration": 5,
    "start_time": "2023-05-12T11:33:56.097Z"
   },
   {
    "duration": 86,
    "start_time": "2023-05-12T11:50:22.687Z"
   },
   {
    "duration": 5781,
    "start_time": "2023-05-12T11:50:27.505Z"
   },
   {
    "duration": 6182,
    "start_time": "2023-05-12T11:50:44.078Z"
   },
   {
    "duration": 6046,
    "start_time": "2023-05-12T11:50:56.370Z"
   },
   {
    "duration": 6660,
    "start_time": "2023-05-12T11:51:16.801Z"
   },
   {
    "duration": 5705,
    "start_time": "2023-05-12T11:51:38.143Z"
   },
   {
    "duration": 1075,
    "start_time": "2023-05-12T11:53:39.319Z"
   },
   {
    "duration": 727,
    "start_time": "2023-05-12T11:53:50.400Z"
   },
   {
    "duration": 753,
    "start_time": "2023-05-12T11:54:00.841Z"
   },
   {
    "duration": 5746,
    "start_time": "2023-05-12T11:54:12.077Z"
   },
   {
    "duration": 401,
    "start_time": "2023-05-12T11:56:35.390Z"
   },
   {
    "duration": 396,
    "start_time": "2023-05-12T11:57:05.589Z"
   },
   {
    "duration": 834,
    "start_time": "2023-05-12T11:57:21.732Z"
   },
   {
    "duration": 390,
    "start_time": "2023-05-12T11:57:51.390Z"
   },
   {
    "duration": 374,
    "start_time": "2023-05-12T11:58:44.427Z"
   },
   {
    "duration": 363,
    "start_time": "2023-05-12T11:59:02.850Z"
   },
   {
    "duration": 789,
    "start_time": "2023-05-12T11:59:11.650Z"
   },
   {
    "duration": 7,
    "start_time": "2023-05-12T12:03:08.937Z"
   },
   {
    "duration": 6,
    "start_time": "2023-05-12T12:03:16.549Z"
   },
   {
    "duration": 15,
    "start_time": "2023-05-12T12:03:31.504Z"
   },
   {
    "duration": 344,
    "start_time": "2023-05-12T12:12:00.331Z"
   },
   {
    "duration": 312,
    "start_time": "2023-05-12T12:12:07.631Z"
   },
   {
    "duration": 367,
    "start_time": "2023-05-12T12:12:14.576Z"
   },
   {
    "duration": 350,
    "start_time": "2023-05-12T12:12:51.110Z"
   },
   {
    "duration": 315,
    "start_time": "2023-05-12T12:13:00.042Z"
   },
   {
    "duration": 58,
    "start_time": "2023-05-12T12:20:17.398Z"
   },
   {
    "duration": 249,
    "start_time": "2023-05-12T12:20:35.969Z"
   },
   {
    "duration": 51,
    "start_time": "2023-05-12T12:20:50.363Z"
   },
   {
    "duration": 58,
    "start_time": "2023-05-12T12:22:11.541Z"
   },
   {
    "duration": 26,
    "start_time": "2023-05-12T12:23:04.180Z"
   },
   {
    "duration": 29,
    "start_time": "2023-05-12T12:23:24.048Z"
   },
   {
    "duration": 27,
    "start_time": "2023-05-12T12:23:58.177Z"
   },
   {
    "duration": 9,
    "start_time": "2023-05-12T12:25:48.001Z"
   },
   {
    "duration": 4,
    "start_time": "2023-05-12T12:25:48.879Z"
   },
   {
    "duration": 10,
    "start_time": "2023-05-12T12:25:59.666Z"
   },
   {
    "duration": 8,
    "start_time": "2023-05-12T12:27:31.618Z"
   },
   {
    "duration": 3,
    "start_time": "2023-05-12T12:27:34.095Z"
   },
   {
    "duration": 68,
    "start_time": "2023-05-12T12:28:25.072Z"
   },
   {
    "duration": 9,
    "start_time": "2023-05-12T12:28:30.281Z"
   },
   {
    "duration": 4,
    "start_time": "2023-05-12T12:28:31.188Z"
   },
   {
    "duration": 7,
    "start_time": "2023-05-12T12:42:32.000Z"
   },
   {
    "duration": 7,
    "start_time": "2023-05-12T12:43:09.022Z"
   },
   {
    "duration": 11,
    "start_time": "2023-05-12T12:50:54.900Z"
   },
   {
    "duration": 7,
    "start_time": "2023-05-12T12:52:01.200Z"
   },
   {
    "duration": 11,
    "start_time": "2023-05-12T12:59:41.893Z"
   },
   {
    "duration": 11,
    "start_time": "2023-05-12T12:59:43.162Z"
   },
   {
    "duration": 15,
    "start_time": "2023-05-12T12:59:44.501Z"
   },
   {
    "duration": 1157,
    "start_time": "2023-05-12T13:30:38.701Z"
   },
   {
    "duration": 1486,
    "start_time": "2023-05-12T13:30:39.859Z"
   },
   {
    "duration": 23,
    "start_time": "2023-05-12T13:30:41.348Z"
   },
   {
    "duration": 7,
    "start_time": "2023-05-12T13:30:41.373Z"
   },
   {
    "duration": 17,
    "start_time": "2023-05-12T13:30:41.382Z"
   },
   {
    "duration": 59,
    "start_time": "2023-05-12T13:30:41.401Z"
   },
   {
    "duration": 3,
    "start_time": "2023-05-12T13:30:41.463Z"
   },
   {
    "duration": 10,
    "start_time": "2023-05-12T13:30:41.468Z"
   },
   {
    "duration": 4,
    "start_time": "2023-05-12T13:30:41.480Z"
   },
   {
    "duration": 36,
    "start_time": "2023-05-12T13:30:41.486Z"
   },
   {
    "duration": 68,
    "start_time": "2023-05-12T13:30:41.524Z"
   },
   {
    "duration": 21,
    "start_time": "2023-05-12T13:30:41.594Z"
   },
   {
    "duration": 26,
    "start_time": "2023-05-12T13:30:41.622Z"
   },
   {
    "duration": 4,
    "start_time": "2023-05-12T13:30:41.651Z"
   },
   {
    "duration": 28,
    "start_time": "2023-05-12T13:30:41.656Z"
   },
   {
    "duration": 5,
    "start_time": "2023-05-12T13:30:41.686Z"
   },
   {
    "duration": 8,
    "start_time": "2023-05-12T13:30:41.692Z"
   },
   {
    "duration": 15,
    "start_time": "2023-05-12T13:30:41.702Z"
   },
   {
    "duration": 13,
    "start_time": "2023-05-12T13:30:41.719Z"
   },
   {
    "duration": 14,
    "start_time": "2023-05-12T13:30:41.735Z"
   },
   {
    "duration": 15,
    "start_time": "2023-05-12T13:30:41.752Z"
   },
   {
    "duration": 4,
    "start_time": "2023-05-12T13:30:41.768Z"
   },
   {
    "duration": 19,
    "start_time": "2023-05-12T13:30:41.774Z"
   },
   {
    "duration": 19,
    "start_time": "2023-05-12T13:30:41.796Z"
   },
   {
    "duration": 17,
    "start_time": "2023-05-12T13:30:41.820Z"
   },
   {
    "duration": 9,
    "start_time": "2023-05-12T13:30:41.840Z"
   },
   {
    "duration": 17,
    "start_time": "2023-05-12T13:30:41.851Z"
   },
   {
    "duration": 24,
    "start_time": "2023-05-12T13:30:41.870Z"
   },
   {
    "duration": 264,
    "start_time": "2023-05-12T13:30:41.896Z"
   },
   {
    "duration": 17,
    "start_time": "2023-05-12T13:30:42.161Z"
   },
   {
    "duration": 234,
    "start_time": "2023-05-12T13:30:42.180Z"
   },
   {
    "duration": 27,
    "start_time": "2023-05-12T13:30:42.416Z"
   },
   {
    "duration": 227,
    "start_time": "2023-05-12T13:30:42.445Z"
   },
   {
    "duration": 9,
    "start_time": "2023-05-12T13:30:42.675Z"
   },
   {
    "duration": 45,
    "start_time": "2023-05-12T13:30:42.688Z"
   },
   {
    "duration": 228,
    "start_time": "2023-05-12T13:30:42.737Z"
   },
   {
    "duration": 19,
    "start_time": "2023-05-12T13:30:42.967Z"
   },
   {
    "duration": 236,
    "start_time": "2023-05-12T13:30:42.987Z"
   },
   {
    "duration": 21,
    "start_time": "2023-05-12T13:30:43.225Z"
   },
   {
    "duration": 305,
    "start_time": "2023-05-12T13:30:43.248Z"
   },
   {
    "duration": 10,
    "start_time": "2023-05-12T13:30:43.561Z"
   },
   {
    "duration": 6,
    "start_time": "2023-05-12T13:30:43.572Z"
   },
   {
    "duration": 236,
    "start_time": "2023-05-12T13:30:43.580Z"
   },
   {
    "duration": 6142,
    "start_time": "2023-05-12T13:30:43.818Z"
   },
   {
    "duration": 6,
    "start_time": "2023-05-12T13:30:49.962Z"
   },
   {
    "duration": 151,
    "start_time": "2023-05-12T13:30:49.969Z"
   },
   {
    "duration": 10,
    "start_time": "2023-05-12T13:30:50.125Z"
   },
   {
    "duration": 627,
    "start_time": "2023-05-12T13:30:50.140Z"
   },
   {
    "duration": 917,
    "start_time": "2023-05-12T13:30:50.769Z"
   },
   {
    "duration": 187,
    "start_time": "2023-05-12T13:30:51.692Z"
   },
   {
    "duration": 7,
    "start_time": "2023-05-12T13:30:51.882Z"
   },
   {
    "duration": 298,
    "start_time": "2023-05-12T13:30:51.890Z"
   },
   {
    "duration": 490,
    "start_time": "2023-05-12T13:30:52.189Z"
   },
   {
    "duration": 11,
    "start_time": "2023-05-12T13:30:52.684Z"
   },
   {
    "duration": 220,
    "start_time": "2023-05-12T13:30:52.697Z"
   },
   {
    "duration": 8,
    "start_time": "2023-05-12T13:30:52.920Z"
   },
   {
    "duration": 444,
    "start_time": "2023-05-12T13:30:52.930Z"
   },
   {
    "duration": 455,
    "start_time": "2023-05-12T13:30:53.376Z"
   },
   {
    "duration": 8,
    "start_time": "2023-05-12T13:30:53.832Z"
   },
   {
    "duration": 178,
    "start_time": "2023-05-12T13:30:53.842Z"
   },
   {
    "duration": 6,
    "start_time": "2023-05-12T13:30:54.022Z"
   },
   {
    "duration": 408,
    "start_time": "2023-05-12T13:30:54.031Z"
   },
   {
    "duration": 41,
    "start_time": "2023-05-12T13:30:54.448Z"
   },
   {
    "duration": 10,
    "start_time": "2023-05-12T13:30:54.491Z"
   },
   {
    "duration": 16,
    "start_time": "2023-05-12T13:30:54.503Z"
   },
   {
    "duration": 12,
    "start_time": "2023-05-12T13:30:54.521Z"
   },
   {
    "duration": 7,
    "start_time": "2023-05-12T13:30:54.535Z"
   },
   {
    "duration": 28,
    "start_time": "2023-05-12T13:30:54.543Z"
   },
   {
    "duration": 4,
    "start_time": "2023-05-12T13:30:54.576Z"
   },
   {
    "duration": 18,
    "start_time": "2023-05-12T13:30:54.582Z"
   },
   {
    "duration": 15,
    "start_time": "2023-05-12T13:30:54.601Z"
   },
   {
    "duration": 23,
    "start_time": "2023-05-12T13:30:54.623Z"
   },
   {
    "duration": 21,
    "start_time": "2023-05-12T13:30:54.648Z"
   },
   {
    "duration": 11,
    "start_time": "2023-05-12T13:30:54.676Z"
   },
   {
    "duration": 11,
    "start_time": "2023-05-12T13:30:54.689Z"
   },
   {
    "duration": 2,
    "start_time": "2023-05-12T13:30:54.702Z"
   },
   {
    "duration": 1333,
    "start_time": "2023-05-12T14:07:42.045Z"
   },
   {
    "duration": 1315,
    "start_time": "2023-05-12T14:07:43.380Z"
   },
   {
    "duration": 21,
    "start_time": "2023-05-12T14:07:44.697Z"
   },
   {
    "duration": 7,
    "start_time": "2023-05-12T14:07:44.720Z"
   },
   {
    "duration": 21,
    "start_time": "2023-05-12T14:07:44.728Z"
   },
   {
    "duration": 35,
    "start_time": "2023-05-12T14:07:44.751Z"
   },
   {
    "duration": 4,
    "start_time": "2023-05-12T14:07:44.789Z"
   },
   {
    "duration": 21,
    "start_time": "2023-05-12T14:07:44.794Z"
   },
   {
    "duration": 14,
    "start_time": "2023-05-12T14:07:44.825Z"
   },
   {
    "duration": 23,
    "start_time": "2023-05-12T14:07:44.852Z"
   },
   {
    "duration": 109,
    "start_time": "2023-05-12T14:07:44.877Z"
   },
   {
    "duration": 5,
    "start_time": "2023-05-12T14:07:44.988Z"
   },
   {
    "duration": 55,
    "start_time": "2023-05-12T14:07:44.995Z"
   },
   {
    "duration": 14,
    "start_time": "2023-05-12T14:07:45.052Z"
   },
   {
    "duration": 20,
    "start_time": "2023-05-12T14:07:45.068Z"
   },
   {
    "duration": 15,
    "start_time": "2023-05-12T14:07:45.090Z"
   },
   {
    "duration": 23,
    "start_time": "2023-05-12T14:07:45.110Z"
   },
   {
    "duration": 21,
    "start_time": "2023-05-12T14:07:45.136Z"
   },
   {
    "duration": 9,
    "start_time": "2023-05-12T14:07:45.159Z"
   },
   {
    "duration": 13,
    "start_time": "2023-05-12T14:07:45.169Z"
   },
   {
    "duration": 15,
    "start_time": "2023-05-12T14:07:45.183Z"
   },
   {
    "duration": 4,
    "start_time": "2023-05-12T14:07:45.200Z"
   },
   {
    "duration": 11,
    "start_time": "2023-05-12T14:07:45.208Z"
   },
   {
    "duration": 31,
    "start_time": "2023-05-12T14:07:45.221Z"
   },
   {
    "duration": 4,
    "start_time": "2023-05-12T14:07:45.254Z"
   },
   {
    "duration": 5,
    "start_time": "2023-05-12T14:07:45.259Z"
   },
   {
    "duration": 6,
    "start_time": "2023-05-12T14:07:45.266Z"
   },
   {
    "duration": 22,
    "start_time": "2023-05-12T14:07:45.276Z"
   },
   {
    "duration": 269,
    "start_time": "2023-05-12T14:07:45.300Z"
   },
   {
    "duration": 16,
    "start_time": "2023-05-12T14:07:45.571Z"
   },
   {
    "duration": 256,
    "start_time": "2023-05-12T14:07:45.589Z"
   },
   {
    "duration": 17,
    "start_time": "2023-05-12T14:07:45.847Z"
   },
   {
    "duration": 301,
    "start_time": "2023-05-12T14:07:45.866Z"
   },
   {
    "duration": 8,
    "start_time": "2023-05-12T14:07:46.169Z"
   },
   {
    "duration": 52,
    "start_time": "2023-05-12T14:07:46.178Z"
   },
   {
    "duration": 225,
    "start_time": "2023-05-12T14:07:46.231Z"
   },
   {
    "duration": 18,
    "start_time": "2023-05-12T14:07:46.457Z"
   },
   {
    "duration": 255,
    "start_time": "2023-05-12T14:07:46.478Z"
   },
   {
    "duration": 40,
    "start_time": "2023-05-12T14:07:46.742Z"
   },
   {
    "duration": 294,
    "start_time": "2023-05-12T14:07:46.784Z"
   },
   {
    "duration": 6,
    "start_time": "2023-05-12T14:07:47.079Z"
   },
   {
    "duration": 28,
    "start_time": "2023-05-12T14:07:47.086Z"
   },
   {
    "duration": 233,
    "start_time": "2023-05-12T14:07:47.116Z"
   },
   {
    "duration": 6757,
    "start_time": "2023-05-12T14:07:47.350Z"
   },
   {
    "duration": 14,
    "start_time": "2023-05-12T14:07:54.113Z"
   },
   {
    "duration": 143,
    "start_time": "2023-05-12T14:07:54.132Z"
   },
   {
    "duration": 6,
    "start_time": "2023-05-12T14:07:54.277Z"
   },
   {
    "duration": 687,
    "start_time": "2023-05-12T14:07:54.286Z"
   },
   {
    "duration": 746,
    "start_time": "2023-05-12T14:07:54.975Z"
   },
   {
    "duration": 156,
    "start_time": "2023-05-12T14:07:55.722Z"
   },
   {
    "duration": 5,
    "start_time": "2023-05-12T14:07:55.880Z"
   },
   {
    "duration": 264,
    "start_time": "2023-05-12T14:07:55.888Z"
   },
   {
    "duration": 385,
    "start_time": "2023-05-12T14:07:56.154Z"
   },
   {
    "duration": 6,
    "start_time": "2023-05-12T14:07:56.541Z"
   },
   {
    "duration": 170,
    "start_time": "2023-05-12T14:07:56.549Z"
   },
   {
    "duration": 10,
    "start_time": "2023-05-12T14:07:56.721Z"
   },
   {
    "duration": 368,
    "start_time": "2023-05-12T14:07:56.733Z"
   },
   {
    "duration": 377,
    "start_time": "2023-05-12T14:07:57.106Z"
   },
   {
    "duration": 6,
    "start_time": "2023-05-12T14:07:57.485Z"
   },
   {
    "duration": 168,
    "start_time": "2023-05-12T14:07:57.493Z"
   },
   {
    "duration": 5,
    "start_time": "2023-05-12T14:07:57.662Z"
   },
   {
    "duration": 415,
    "start_time": "2023-05-12T14:07:57.669Z"
   },
   {
    "duration": 48,
    "start_time": "2023-05-12T14:07:58.086Z"
   },
   {
    "duration": 12,
    "start_time": "2023-05-12T14:07:58.141Z"
   },
   {
    "duration": 5,
    "start_time": "2023-05-12T14:07:58.155Z"
   },
   {
    "duration": 9,
    "start_time": "2023-05-12T14:07:58.162Z"
   },
   {
    "duration": 6,
    "start_time": "2023-05-12T14:07:58.173Z"
   },
   {
    "duration": 11,
    "start_time": "2023-05-12T14:07:58.181Z"
   },
   {
    "duration": 12,
    "start_time": "2023-05-12T14:07:58.209Z"
   },
   {
    "duration": 14,
    "start_time": "2023-05-12T14:07:58.230Z"
   },
   {
    "duration": 4,
    "start_time": "2023-05-12T14:07:58.246Z"
   },
   {
    "duration": 11,
    "start_time": "2023-05-12T14:07:58.252Z"
   },
   {
    "duration": 11,
    "start_time": "2023-05-12T14:07:58.264Z"
   },
   {
    "duration": 43,
    "start_time": "2023-05-12T14:07:58.277Z"
   },
   {
    "duration": 27,
    "start_time": "2023-05-12T14:07:58.321Z"
   },
   {
    "duration": 48,
    "start_time": "2023-05-13T14:34:08.971Z"
   },
   {
    "duration": 1452,
    "start_time": "2023-05-13T14:34:16.633Z"
   },
   {
    "duration": 1108,
    "start_time": "2023-05-13T14:34:18.087Z"
   },
   {
    "duration": 20,
    "start_time": "2023-05-13T14:34:19.197Z"
   },
   {
    "duration": 7,
    "start_time": "2023-05-13T14:34:19.219Z"
   },
   {
    "duration": 21,
    "start_time": "2023-05-13T14:34:19.228Z"
   },
   {
    "duration": 55,
    "start_time": "2023-05-13T14:34:19.252Z"
   },
   {
    "duration": 3,
    "start_time": "2023-05-13T14:34:19.309Z"
   },
   {
    "duration": 25,
    "start_time": "2023-05-13T14:34:19.315Z"
   },
   {
    "duration": 19,
    "start_time": "2023-05-13T14:34:19.342Z"
   },
   {
    "duration": 39,
    "start_time": "2023-05-13T14:34:19.363Z"
   },
   {
    "duration": 72,
    "start_time": "2023-05-13T14:34:19.405Z"
   },
   {
    "duration": 6,
    "start_time": "2023-05-13T14:34:19.480Z"
   },
   {
    "duration": 28,
    "start_time": "2023-05-13T14:34:19.488Z"
   },
   {
    "duration": 8,
    "start_time": "2023-05-13T14:34:19.520Z"
   },
   {
    "duration": 49,
    "start_time": "2023-05-13T14:34:19.530Z"
   },
   {
    "duration": 8,
    "start_time": "2023-05-13T14:34:19.581Z"
   },
   {
    "duration": 26,
    "start_time": "2023-05-13T14:34:19.591Z"
   },
   {
    "duration": 24,
    "start_time": "2023-05-13T14:34:19.619Z"
   },
   {
    "duration": 38,
    "start_time": "2023-05-13T14:34:19.645Z"
   },
   {
    "duration": 16,
    "start_time": "2023-05-13T14:34:19.684Z"
   },
   {
    "duration": 36,
    "start_time": "2023-05-13T14:34:19.702Z"
   },
   {
    "duration": 34,
    "start_time": "2023-05-13T14:34:19.740Z"
   },
   {
    "duration": 11,
    "start_time": "2023-05-13T14:34:19.777Z"
   },
   {
    "duration": 29,
    "start_time": "2023-05-13T14:34:19.790Z"
   },
   {
    "duration": 5,
    "start_time": "2023-05-13T14:34:19.821Z"
   },
   {
    "duration": 18,
    "start_time": "2023-05-13T14:34:19.828Z"
   },
   {
    "duration": 10,
    "start_time": "2023-05-13T14:34:19.848Z"
   },
   {
    "duration": 27,
    "start_time": "2023-05-13T14:34:19.859Z"
   },
   {
    "duration": 351,
    "start_time": "2023-05-13T14:34:19.887Z"
   },
   {
    "duration": 25,
    "start_time": "2023-05-13T14:34:20.247Z"
   },
   {
    "duration": 219,
    "start_time": "2023-05-13T14:34:20.275Z"
   },
   {
    "duration": 21,
    "start_time": "2023-05-13T14:34:20.496Z"
   },
   {
    "duration": 280,
    "start_time": "2023-05-13T14:34:20.519Z"
   },
   {
    "duration": 9,
    "start_time": "2023-05-13T14:34:20.801Z"
   },
   {
    "duration": 38,
    "start_time": "2023-05-13T14:34:20.812Z"
   },
   {
    "duration": 248,
    "start_time": "2023-05-13T14:34:20.852Z"
   },
   {
    "duration": 25,
    "start_time": "2023-05-13T14:34:21.103Z"
   },
   {
    "duration": 282,
    "start_time": "2023-05-13T14:34:21.147Z"
   },
   {
    "duration": 35,
    "start_time": "2023-05-13T14:34:21.431Z"
   },
   {
    "duration": 267,
    "start_time": "2023-05-13T14:34:21.468Z"
   },
   {
    "duration": 6,
    "start_time": "2023-05-13T14:34:21.747Z"
   },
   {
    "duration": 10,
    "start_time": "2023-05-13T14:34:21.755Z"
   },
   {
    "duration": 233,
    "start_time": "2023-05-13T14:34:21.766Z"
   },
   {
    "duration": 6125,
    "start_time": "2023-05-13T14:34:22.001Z"
   },
   {
    "duration": 6,
    "start_time": "2023-05-13T14:34:28.128Z"
   },
   {
    "duration": 469,
    "start_time": "2023-05-13T14:34:28.147Z"
   },
   {
    "duration": 7,
    "start_time": "2023-05-13T14:34:28.617Z"
   },
   {
    "duration": 275,
    "start_time": "2023-05-13T14:34:28.626Z"
   },
   {
    "duration": 5157,
    "start_time": "2023-05-13T14:34:28.902Z"
   },
   {
    "duration": 139,
    "start_time": "2023-05-13T14:34:34.061Z"
   },
   {
    "duration": 5,
    "start_time": "2023-05-13T14:34:34.202Z"
   },
   {
    "duration": 259,
    "start_time": "2023-05-13T14:34:34.209Z"
   },
   {
    "duration": 397,
    "start_time": "2023-05-13T14:34:34.470Z"
   },
   {
    "duration": 7,
    "start_time": "2023-05-13T14:34:34.869Z"
   },
   {
    "duration": 159,
    "start_time": "2023-05-13T14:34:34.877Z"
   },
   {
    "duration": 9,
    "start_time": "2023-05-13T14:34:35.037Z"
   },
   {
    "duration": 575,
    "start_time": "2023-05-13T14:34:35.048Z"
   },
   {
    "duration": 373,
    "start_time": "2023-05-13T14:34:35.625Z"
   },
   {
    "duration": 6,
    "start_time": "2023-05-13T14:34:36.000Z"
   },
   {
    "duration": 163,
    "start_time": "2023-05-13T14:34:36.008Z"
   },
   {
    "duration": 8,
    "start_time": "2023-05-13T14:34:36.173Z"
   },
   {
    "duration": 436,
    "start_time": "2023-05-13T14:34:36.182Z"
   },
   {
    "duration": 40,
    "start_time": "2023-05-13T14:34:36.620Z"
   },
   {
    "duration": 7,
    "start_time": "2023-05-13T14:34:36.662Z"
   },
   {
    "duration": 13,
    "start_time": "2023-05-13T14:34:36.671Z"
   },
   {
    "duration": 18,
    "start_time": "2023-05-13T14:34:36.685Z"
   },
   {
    "duration": 8,
    "start_time": "2023-05-13T14:34:36.705Z"
   },
   {
    "duration": 18,
    "start_time": "2023-05-13T14:34:36.715Z"
   },
   {
    "duration": 8,
    "start_time": "2023-05-13T14:34:36.735Z"
   },
   {
    "duration": 13,
    "start_time": "2023-05-13T14:34:36.746Z"
   },
   {
    "duration": 7,
    "start_time": "2023-05-13T14:34:36.761Z"
   },
   {
    "duration": 26,
    "start_time": "2023-05-13T14:34:36.769Z"
   },
   {
    "duration": 11,
    "start_time": "2023-05-13T14:34:36.797Z"
   },
   {
    "duration": 11,
    "start_time": "2023-05-13T14:34:36.810Z"
   },
   {
    "duration": 33,
    "start_time": "2023-05-13T14:34:36.822Z"
   },
   {
    "duration": 510,
    "start_time": "2023-05-13T15:53:34.700Z"
   },
   {
    "duration": 1596,
    "start_time": "2023-05-13T15:53:49.938Z"
   },
   {
    "duration": 1702,
    "start_time": "2023-05-13T15:57:27.667Z"
   },
   {
    "duration": 302,
    "start_time": "2023-05-13T15:57:54.363Z"
   },
   {
    "duration": 550,
    "start_time": "2023-05-13T15:58:02.026Z"
   },
   {
    "duration": 1938,
    "start_time": "2023-05-13T16:00:51.620Z"
   },
   {
    "duration": 5636,
    "start_time": "2023-05-13T16:01:23.458Z"
   },
   {
    "duration": 158624,
    "start_time": "2023-05-13T16:02:09.560Z"
   },
   {
    "duration": 6153,
    "start_time": "2023-05-13T16:06:55.534Z"
   },
   {
    "duration": 1194,
    "start_time": "2023-05-13T16:27:43.484Z"
   },
   {
    "duration": 1012,
    "start_time": "2023-05-13T16:27:44.681Z"
   },
   {
    "duration": 24,
    "start_time": "2023-05-13T16:27:45.696Z"
   },
   {
    "duration": 10,
    "start_time": "2023-05-13T16:27:45.722Z"
   },
   {
    "duration": 28,
    "start_time": "2023-05-13T16:27:45.735Z"
   },
   {
    "duration": 46,
    "start_time": "2023-05-13T16:27:45.765Z"
   },
   {
    "duration": 3,
    "start_time": "2023-05-13T16:27:45.812Z"
   },
   {
    "duration": 11,
    "start_time": "2023-05-13T16:27:45.817Z"
   },
   {
    "duration": 16,
    "start_time": "2023-05-13T16:27:45.830Z"
   },
   {
    "duration": 23,
    "start_time": "2023-05-13T16:27:45.848Z"
   },
   {
    "duration": 64,
    "start_time": "2023-05-13T16:27:45.872Z"
   },
   {
    "duration": 9,
    "start_time": "2023-05-13T16:27:45.938Z"
   },
   {
    "duration": 13,
    "start_time": "2023-05-13T16:27:45.949Z"
   },
   {
    "duration": 10,
    "start_time": "2023-05-13T16:27:45.966Z"
   },
   {
    "duration": 23,
    "start_time": "2023-05-13T16:27:45.978Z"
   },
   {
    "duration": 8,
    "start_time": "2023-05-13T16:27:46.003Z"
   },
   {
    "duration": 20,
    "start_time": "2023-05-13T16:27:46.013Z"
   },
   {
    "duration": 10,
    "start_time": "2023-05-13T16:27:46.035Z"
   },
   {
    "duration": 8,
    "start_time": "2023-05-13T16:27:46.047Z"
   },
   {
    "duration": 16,
    "start_time": "2023-05-13T16:27:46.056Z"
   },
   {
    "duration": 20,
    "start_time": "2023-05-13T16:27:46.073Z"
   },
   {
    "duration": 29,
    "start_time": "2023-05-13T16:27:46.095Z"
   },
   {
    "duration": 27,
    "start_time": "2023-05-13T16:27:46.126Z"
   },
   {
    "duration": 22,
    "start_time": "2023-05-13T16:27:46.155Z"
   },
   {
    "duration": 12,
    "start_time": "2023-05-13T16:27:46.179Z"
   },
   {
    "duration": 15,
    "start_time": "2023-05-13T16:27:46.193Z"
   },
   {
    "duration": 10,
    "start_time": "2023-05-13T16:27:46.210Z"
   },
   {
    "duration": 36,
    "start_time": "2023-05-13T16:27:46.222Z"
   },
   {
    "duration": 263,
    "start_time": "2023-05-13T16:27:46.259Z"
   },
   {
    "duration": 26,
    "start_time": "2023-05-13T16:27:46.524Z"
   },
   {
    "duration": 238,
    "start_time": "2023-05-13T16:27:46.552Z"
   },
   {
    "duration": 20,
    "start_time": "2023-05-13T16:27:46.792Z"
   },
   {
    "duration": 303,
    "start_time": "2023-05-13T16:27:46.813Z"
   },
   {
    "duration": 7,
    "start_time": "2023-05-13T16:27:47.119Z"
   },
   {
    "duration": 36,
    "start_time": "2023-05-13T16:27:47.128Z"
   },
   {
    "duration": 234,
    "start_time": "2023-05-13T16:27:47.166Z"
   },
   {
    "duration": 21,
    "start_time": "2023-05-13T16:27:47.401Z"
   },
   {
    "duration": 244,
    "start_time": "2023-05-13T16:27:47.424Z"
   },
   {
    "duration": 20,
    "start_time": "2023-05-13T16:27:47.670Z"
   },
   {
    "duration": 314,
    "start_time": "2023-05-13T16:27:47.691Z"
   },
   {
    "duration": 7,
    "start_time": "2023-05-13T16:27:48.010Z"
   },
   {
    "duration": 27,
    "start_time": "2023-05-13T16:27:48.019Z"
   },
   {
    "duration": 243,
    "start_time": "2023-05-13T16:27:48.048Z"
   },
   {
    "duration": 6365,
    "start_time": "2023-05-13T16:27:48.292Z"
   },
   {
    "duration": 6,
    "start_time": "2023-05-13T16:27:54.658Z"
   },
   {
    "duration": 144,
    "start_time": "2023-05-13T16:27:54.666Z"
   },
   {
    "duration": 6,
    "start_time": "2023-05-13T16:27:54.811Z"
   },
   {
    "duration": 659,
    "start_time": "2023-05-13T16:27:54.818Z"
   },
   {
    "duration": 5023,
    "start_time": "2023-05-13T16:27:55.479Z"
   },
   {
    "duration": 148,
    "start_time": "2023-05-13T16:28:00.504Z"
   },
   {
    "duration": 6,
    "start_time": "2023-05-13T16:28:00.654Z"
   },
   {
    "duration": 274,
    "start_time": "2023-05-13T16:28:00.661Z"
   },
   {
    "duration": 1915,
    "start_time": "2023-05-13T16:28:00.937Z"
   },
   {
    "duration": 6,
    "start_time": "2023-05-13T16:28:02.853Z"
   },
   {
    "duration": 160,
    "start_time": "2023-05-13T16:28:02.861Z"
   },
   {
    "duration": 6,
    "start_time": "2023-05-13T16:28:03.022Z"
   },
   {
    "duration": 308,
    "start_time": "2023-05-13T16:28:03.030Z"
   },
   {
    "duration": 431,
    "start_time": "2023-05-13T16:28:03.346Z"
   },
   {
    "duration": 6,
    "start_time": "2023-05-13T16:28:03.779Z"
   },
   {
    "duration": 289,
    "start_time": "2023-05-13T16:28:03.787Z"
   },
   {
    "duration": 5,
    "start_time": "2023-05-13T16:28:04.078Z"
   },
   {
    "duration": 408,
    "start_time": "2023-05-13T16:28:04.084Z"
   },
   {
    "duration": 35,
    "start_time": "2023-05-13T16:28:04.494Z"
   },
   {
    "duration": 22,
    "start_time": "2023-05-13T16:28:04.531Z"
   },
   {
    "duration": 19,
    "start_time": "2023-05-13T16:28:04.556Z"
   },
   {
    "duration": 24,
    "start_time": "2023-05-13T16:28:04.577Z"
   },
   {
    "duration": 13,
    "start_time": "2023-05-13T16:28:04.603Z"
   },
   {
    "duration": 45,
    "start_time": "2023-05-13T16:28:04.618Z"
   },
   {
    "duration": 5,
    "start_time": "2023-05-13T16:28:04.665Z"
   },
   {
    "duration": 19,
    "start_time": "2023-05-13T16:28:04.672Z"
   },
   {
    "duration": 10,
    "start_time": "2023-05-13T16:28:04.693Z"
   },
   {
    "duration": 22,
    "start_time": "2023-05-13T16:28:04.705Z"
   },
   {
    "duration": 39,
    "start_time": "2023-05-13T16:28:04.729Z"
   },
   {
    "duration": 24,
    "start_time": "2023-05-13T16:28:04.770Z"
   },
   {
    "duration": 25,
    "start_time": "2023-05-13T16:28:04.795Z"
   }
  ],
  "kernelspec": {
   "display_name": "Python 3 (ipykernel)",
   "language": "python",
   "name": "python3"
  },
  "language_info": {
   "codemirror_mode": {
    "name": "ipython",
    "version": 3
   },
   "file_extension": ".py",
   "mimetype": "text/x-python",
   "name": "python",
   "nbconvert_exporter": "python",
   "pygments_lexer": "ipython3",
   "version": "3.9.13"
  },
  "toc": {
   "base_numbering": 1,
   "nav_menu": {},
   "number_sections": true,
   "sideBar": false,
   "skip_h1_title": true,
   "title_cell": "Table of Contents",
   "title_sidebar": "Contents",
   "toc_cell": false,
   "toc_position": {
    "height": "calc(100% - 180px)",
    "left": "10px",
    "top": "150px",
    "width": "494px"
   },
   "toc_section_display": true,
   "toc_window_display": false
  }
 },
 "nbformat": 4,
 "nbformat_minor": 5
}
